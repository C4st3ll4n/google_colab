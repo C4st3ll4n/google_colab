{
  "nbformat": 4,
  "nbformat_minor": 0,
  "metadata": {
    "colab": {
      "name": "ds01.ipynb",
      "version": "0.3.2",
      "provenance": [],
      "include_colab_link": true
    },
    "kernelspec": {
      "name": "python3",
      "display_name": "Python 3"
    }
  },
  "cells": [
    {
      "cell_type": "markdown",
      "metadata": {
        "id": "view-in-github",
        "colab_type": "text"
      },
      "source": [
        "<a href=\"https://colab.research.google.com/github/C4st3ll4n/google_colab/blob/master/ds01.ipynb\" target=\"_parent\"><img src=\"https://colab.research.google.com/assets/colab-badge.svg\" alt=\"Open In Colab\"/></a>"
      ]
    },
    {
      "cell_type": "code",
      "metadata": {
        "id": "G6m-4oXpXrHj",
        "colab_type": "code",
        "colab": {}
      },
      "source": [
        "user = [ \n",
        "        {\"id\": 0, \"nome\": \"Hero\"}, {\"id\": 1, \"nome\": \"Hero\"},\n",
        "        {\"id\": 2, \"nome\": \"Hero\"}, {\"id\": 3, \"nome\": \"Hero\"},\n",
        "        {\"id\": 4, \"nome\": \"Hero\"}, {\"id\": 5, \"nome\": \"Hero\"},\n",
        "        {\"id\": 6, \"nome\": \"Hero\"}, {\"id\": 7, \"nome\": \"Hero\"},\n",
        "        {\"id\": 8, \"nome\": \"Hero\"}, {\"id\": 9, \"nome\": \"Hero\"},\n",
        "        {\"id\": 10, \"nome\": \"Hero\"}, {\"id\": 11, \"nome\": \"Hero\"},\n",
        "        {\"id\": 12, \"nome\": \"Hero\"}, {\"id\": 13, \"nome\": \"Hero\"},\n",
        "        {\"id\": 14, \"nome\": \"Hero\"}, {\"id\": 15, \"nome\": \"Hero\"},\n",
        "        {\"id\": 16, \"nome\": \"Hero\"}, {\"id\": 17, \"nome\": \"Hero\"},\n",
        "        {\"id\": 18, \"nome\": \"Hero\"}, {\"id\": 19, \"nome\": \"Hero\"},\n",
        "        {\"id\": 20, \"nome\": \"Hero\"}, {\"id\": 21, \"nome\": \"Hero\"},\n",
        "        {\"id\": 22, \"nome\": \"Hero\"}, {\"id\": 23, \"nome\": \"Hero\"},\n",
        "        {\"id\": 24, \"nome\": \"Hero\"}, {\"id\": 25, \"nome\": \"Hero\"},\n",
        "        {\"id\": 26, \"nome\": \"Hero\"}, {\"id\": 27, \"nome\": \"Hero\"}\n",
        "]"
      ],
      "execution_count": 0,
      "outputs": []
    },
    {
      "cell_type": "code",
      "metadata": {
        "id": "U9mZ52vhYUKK",
        "colab_type": "code",
        "colab": {}
      },
      "source": [
        "conexoes = [\n",
        "            (9, 1),(3,13),(3,4),(3,13),(17,10),\n",
        "            (7,8),(0,4),(8,3),(3,11),(5,12),\n",
        "            (22,1),(8,2),(0,18),(10,1),(7,16),\n",
        "            (23,1),(8,1),(9,1),(29,17),(40,14),\n",
        "            (24,1),(0,8),(0,1),(20,8),(0,19),\n",
        "            (26,1),(4,12),(0,29),(10,6),(5,15),\n",
        "            (25,3),(5,1),(29,28),(4,1),(0,13),\n",
        "            (10,11),(0,12),(0,2),(3,1),(0,11)\n",
        "            ]"
      ],
      "execution_count": 0,
      "outputs": []
    },
    {
      "cell_type": "code",
      "metadata": {
        "id": "ZmL1n2rGZTYf",
        "colab_type": "code",
        "colab": {}
      },
      "source": [
        "for usuario in user:\n",
        "    usuario[\"amigo\"] = []"
      ],
      "execution_count": 0,
      "outputs": []
    },
    {
      "cell_type": "code",
      "metadata": {
        "id": "VNuCq0ebaIQ-",
        "colab_type": "code",
        "outputId": "99667639-ca71-4d5f-bd07-e646d48d7af6",
        "colab": {
          "base_uri": "https://localhost:8080/",
          "height": 54
        }
      },
      "source": [
        "print(user)"
      ],
      "execution_count": 0,
      "outputs": [
        {
          "output_type": "stream",
          "text": [
            "[{'id': 0, 'nome': 'Hero', 'amigo': [{'id': 4, 'nome': 'Hero', 'amigo': [{'id': 3, 'nome': 'Hero', 'amigo': [{'id': 13, 'nome': 'Hero', 'amigo': [{...}, {...}]}, {...}, {'id': 13, 'nome': 'Hero', 'amigo': [{...}, {...}]}, {'id': 8, 'nome': 'Hero', 'amigo': [{'id': 7, 'nome': 'Hero', 'amigo': [{...}, {'id': 16, 'nome': 'Hero', 'amigo': [{...}]}]}, {...}, {'id': 2, 'nome': 'Hero', 'amigo': [{...}]}, {'id': 1, 'nome': 'Hero', 'amigo': [{'id': 9, 'nome': 'Hero', 'amigo': [{...}, {...}]}, {'id': 22, 'nome': 'Hero', 'amigo': [{...}]}, {'id': 10, 'nome': 'Hero', 'amigo': [{'id': 17, 'nome': 'Hero', 'amigo': [{...}]}, {...}]}, {'id': 23, 'nome': 'Hero', 'amigo': [{...}]}, {...}, {'id': 9, 'nome': 'Hero', 'amigo': [{...}, {...}]}]}]}, {'id': 11, 'nome': 'Hero', 'amigo': [{...}]}]}, {...}]}, {'id': 18, 'nome': 'Hero', 'amigo': [{...}]}]}, {'id': 1, 'nome': 'Hero', 'amigo': [{'id': 9, 'nome': 'Hero', 'amigo': [{...}, {...}]}, {'id': 22, 'nome': 'Hero', 'amigo': [{...}]}, {'id': 10, 'nome': 'Hero', 'amigo': [{'id': 17, 'nome': 'Hero', 'amigo': [{...}]}, {...}]}, {'id': 23, 'nome': 'Hero', 'amigo': [{...}]}, {'id': 8, 'nome': 'Hero', 'amigo': [{'id': 7, 'nome': 'Hero', 'amigo': [{...}, {'id': 16, 'nome': 'Hero', 'amigo': [{...}]}]}, {'id': 3, 'nome': 'Hero', 'amigo': [{'id': 13, 'nome': 'Hero', 'amigo': [{...}, {...}]}, {'id': 4, 'nome': 'Hero', 'amigo': [{...}, {'id': 0, 'nome': 'Hero', 'amigo': [{...}, {'id': 18, 'nome': 'Hero', 'amigo': [{...}]}]}]}, {'id': 13, 'nome': 'Hero', 'amigo': [{...}, {...}]}, {...}, {'id': 11, 'nome': 'Hero', 'amigo': [{...}]}]}, {'id': 2, 'nome': 'Hero', 'amigo': [{...}]}, {...}]}, {'id': 9, 'nome': 'Hero', 'amigo': [{...}, {...}]}]}, {'id': 2, 'nome': 'Hero', 'amigo': [{'id': 8, 'nome': 'Hero', 'amigo': [{'id': 7, 'nome': 'Hero', 'amigo': [{...}, {'id': 16, 'nome': 'Hero', 'amigo': [{...}]}]}, {'id': 3, 'nome': 'Hero', 'amigo': [{'id': 13, 'nome': 'Hero', 'amigo': [{...}, {...}]}, {'id': 4, 'nome': 'Hero', 'amigo': [{...}, {'id': 0, 'nome': 'Hero', 'amigo': [{...}, {'id': 18, 'nome': 'Hero', 'amigo': [{...}]}]}]}, {'id': 13, 'nome': 'Hero', 'amigo': [{...}, {...}]}, {...}, {'id': 11, 'nome': 'Hero', 'amigo': [{...}]}]}, {...}, {'id': 1, 'nome': 'Hero', 'amigo': [{'id': 9, 'nome': 'Hero', 'amigo': [{...}, {...}]}, {'id': 22, 'nome': 'Hero', 'amigo': [{...}]}, {'id': 10, 'nome': 'Hero', 'amigo': [{'id': 17, 'nome': 'Hero', 'amigo': [{...}]}, {...}]}, {'id': 23, 'nome': 'Hero', 'amigo': [{...}]}, {...}, {'id': 9, 'nome': 'Hero', 'amigo': [{...}, {...}]}]}]}]}, {'id': 3, 'nome': 'Hero', 'amigo': [{'id': 13, 'nome': 'Hero', 'amigo': [{...}, {...}]}, {'id': 4, 'nome': 'Hero', 'amigo': [{...}, {'id': 0, 'nome': 'Hero', 'amigo': [{...}, {'id': 18, 'nome': 'Hero', 'amigo': [{...}]}]}]}, {'id': 13, 'nome': 'Hero', 'amigo': [{...}, {...}]}, {'id': 8, 'nome': 'Hero', 'amigo': [{'id': 7, 'nome': 'Hero', 'amigo': [{...}, {'id': 16, 'nome': 'Hero', 'amigo': [{...}]}]}, {...}, {'id': 2, 'nome': 'Hero', 'amigo': [{...}]}, {'id': 1, 'nome': 'Hero', 'amigo': [{'id': 9, 'nome': 'Hero', 'amigo': [{...}, {...}]}, {'id': 22, 'nome': 'Hero', 'amigo': [{...}]}, {'id': 10, 'nome': 'Hero', 'amigo': [{'id': 17, 'nome': 'Hero', 'amigo': [{...}]}, {...}]}, {'id': 23, 'nome': 'Hero', 'amigo': [{...}]}, {...}, {'id': 9, 'nome': 'Hero', 'amigo': [{...}, {...}]}]}]}, {'id': 11, 'nome': 'Hero', 'amigo': [{...}]}]}, {'id': 4, 'nome': 'Hero', 'amigo': [{'id': 3, 'nome': 'Hero', 'amigo': [{'id': 13, 'nome': 'Hero', 'amigo': [{...}, {...}]}, {...}, {'id': 13, 'nome': 'Hero', 'amigo': [{...}, {...}]}, {'id': 8, 'nome': 'Hero', 'amigo': [{'id': 7, 'nome': 'Hero', 'amigo': [{...}, {'id': 16, 'nome': 'Hero', 'amigo': [{...}]}]}, {...}, {'id': 2, 'nome': 'Hero', 'amigo': [{...}]}, {'id': 1, 'nome': 'Hero', 'amigo': [{'id': 9, 'nome': 'Hero', 'amigo': [{...}, {...}]}, {'id': 22, 'nome': 'Hero', 'amigo': [{...}]}, {'id': 10, 'nome': 'Hero', 'amigo': [{'id': 17, 'nome': 'Hero', 'amigo': [{...}]}, {...}]}, {'id': 23, 'nome': 'Hero', 'amigo': [{...}]}, {...}, {'id': 9, 'nome': 'Hero', 'amigo': [{...}, {...}]}]}]}, {'id': 11, 'nome': 'Hero', 'amigo': [{...}]}]}, {'id': 0, 'nome': 'Hero', 'amigo': [{...}, {'id': 18, 'nome': 'Hero', 'amigo': [{...}]}]}]}, {'id': 5, 'nome': 'Hero', 'amigo': [{'id': 12, 'nome': 'Hero', 'amigo': [{...}]}]}, {'id': 6, 'nome': 'Hero', 'amigo': []}, {'id': 7, 'nome': 'Hero', 'amigo': [{'id': 8, 'nome': 'Hero', 'amigo': [{...}, {'id': 3, 'nome': 'Hero', 'amigo': [{'id': 13, 'nome': 'Hero', 'amigo': [{...}, {...}]}, {'id': 4, 'nome': 'Hero', 'amigo': [{...}, {'id': 0, 'nome': 'Hero', 'amigo': [{...}, {'id': 18, 'nome': 'Hero', 'amigo': [{...}]}]}]}, {'id': 13, 'nome': 'Hero', 'amigo': [{...}, {...}]}, {...}, {'id': 11, 'nome': 'Hero', 'amigo': [{...}]}]}, {'id': 2, 'nome': 'Hero', 'amigo': [{...}]}, {'id': 1, 'nome': 'Hero', 'amigo': [{'id': 9, 'nome': 'Hero', 'amigo': [{...}, {...}]}, {'id': 22, 'nome': 'Hero', 'amigo': [{...}]}, {'id': 10, 'nome': 'Hero', 'amigo': [{'id': 17, 'nome': 'Hero', 'amigo': [{...}]}, {...}]}, {'id': 23, 'nome': 'Hero', 'amigo': [{...}]}, {...}, {'id': 9, 'nome': 'Hero', 'amigo': [{...}, {...}]}]}]}, {'id': 16, 'nome': 'Hero', 'amigo': [{...}]}]}, {'id': 8, 'nome': 'Hero', 'amigo': [{'id': 7, 'nome': 'Hero', 'amigo': [{...}, {'id': 16, 'nome': 'Hero', 'amigo': [{...}]}]}, {'id': 3, 'nome': 'Hero', 'amigo': [{'id': 13, 'nome': 'Hero', 'amigo': [{...}, {...}]}, {'id': 4, 'nome': 'Hero', 'amigo': [{...}, {'id': 0, 'nome': 'Hero', 'amigo': [{...}, {'id': 18, 'nome': 'Hero', 'amigo': [{...}]}]}]}, {'id': 13, 'nome': 'Hero', 'amigo': [{...}, {...}]}, {...}, {'id': 11, 'nome': 'Hero', 'amigo': [{...}]}]}, {'id': 2, 'nome': 'Hero', 'amigo': [{...}]}, {'id': 1, 'nome': 'Hero', 'amigo': [{'id': 9, 'nome': 'Hero', 'amigo': [{...}, {...}]}, {'id': 22, 'nome': 'Hero', 'amigo': [{...}]}, {'id': 10, 'nome': 'Hero', 'amigo': [{'id': 17, 'nome': 'Hero', 'amigo': [{...}]}, {...}]}, {'id': 23, 'nome': 'Hero', 'amigo': [{...}]}, {...}, {'id': 9, 'nome': 'Hero', 'amigo': [{...}, {...}]}]}]}, {'id': 9, 'nome': 'Hero', 'amigo': [{'id': 1, 'nome': 'Hero', 'amigo': [{...}, {'id': 22, 'nome': 'Hero', 'amigo': [{...}]}, {'id': 10, 'nome': 'Hero', 'amigo': [{'id': 17, 'nome': 'Hero', 'amigo': [{...}]}, {...}]}, {'id': 23, 'nome': 'Hero', 'amigo': [{...}]}, {'id': 8, 'nome': 'Hero', 'amigo': [{'id': 7, 'nome': 'Hero', 'amigo': [{...}, {'id': 16, 'nome': 'Hero', 'amigo': [{...}]}]}, {'id': 3, 'nome': 'Hero', 'amigo': [{'id': 13, 'nome': 'Hero', 'amigo': [{...}, {...}]}, {'id': 4, 'nome': 'Hero', 'amigo': [{...}, {'id': 0, 'nome': 'Hero', 'amigo': [{...}, {'id': 18, 'nome': 'Hero', 'amigo': [{...}]}]}]}, {'id': 13, 'nome': 'Hero', 'amigo': [{...}, {...}]}, {...}, {'id': 11, 'nome': 'Hero', 'amigo': [{...}]}]}, {'id': 2, 'nome': 'Hero', 'amigo': [{...}]}, {...}]}, {...}]}, {'id': 1, 'nome': 'Hero', 'amigo': [{...}, {'id': 22, 'nome': 'Hero', 'amigo': [{...}]}, {'id': 10, 'nome': 'Hero', 'amigo': [{'id': 17, 'nome': 'Hero', 'amigo': [{...}]}, {...}]}, {'id': 23, 'nome': 'Hero', 'amigo': [{...}]}, {'id': 8, 'nome': 'Hero', 'amigo': [{'id': 7, 'nome': 'Hero', 'amigo': [{...}, {'id': 16, 'nome': 'Hero', 'amigo': [{...}]}]}, {'id': 3, 'nome': 'Hero', 'amigo': [{'id': 13, 'nome': 'Hero', 'amigo': [{...}, {...}]}, {'id': 4, 'nome': 'Hero', 'amigo': [{...}, {'id': 0, 'nome': 'Hero', 'amigo': [{...}, {'id': 18, 'nome': 'Hero', 'amigo': [{...}]}]}]}, {'id': 13, 'nome': 'Hero', 'amigo': [{...}, {...}]}, {...}, {'id': 11, 'nome': 'Hero', 'amigo': [{...}]}]}, {'id': 2, 'nome': 'Hero', 'amigo': [{...}]}, {...}]}, {...}]}]}, {'id': 10, 'nome': 'Hero', 'amigo': [{'id': 17, 'nome': 'Hero', 'amigo': [{...}]}, {'id': 1, 'nome': 'Hero', 'amigo': [{'id': 9, 'nome': 'Hero', 'amigo': [{...}, {...}]}, {'id': 22, 'nome': 'Hero', 'amigo': [{...}]}, {...}, {'id': 23, 'nome': 'Hero', 'amigo': [{...}]}, {'id': 8, 'nome': 'Hero', 'amigo': [{'id': 7, 'nome': 'Hero', 'amigo': [{...}, {'id': 16, 'nome': 'Hero', 'amigo': [{...}]}]}, {'id': 3, 'nome': 'Hero', 'amigo': [{'id': 13, 'nome': 'Hero', 'amigo': [{...}, {...}]}, {'id': 4, 'nome': 'Hero', 'amigo': [{...}, {'id': 0, 'nome': 'Hero', 'amigo': [{...}, {'id': 18, 'nome': 'Hero', 'amigo': [{...}]}]}]}, {'id': 13, 'nome': 'Hero', 'amigo': [{...}, {...}]}, {...}, {'id': 11, 'nome': 'Hero', 'amigo': [{...}]}]}, {'id': 2, 'nome': 'Hero', 'amigo': [{...}]}, {...}]}, {'id': 9, 'nome': 'Hero', 'amigo': [{...}, {...}]}]}]}, {'id': 11, 'nome': 'Hero', 'amigo': [{'id': 3, 'nome': 'Hero', 'amigo': [{'id': 13, 'nome': 'Hero', 'amigo': [{...}, {...}]}, {'id': 4, 'nome': 'Hero', 'amigo': [{...}, {'id': 0, 'nome': 'Hero', 'amigo': [{...}, {'id': 18, 'nome': 'Hero', 'amigo': [{...}]}]}]}, {'id': 13, 'nome': 'Hero', 'amigo': [{...}, {...}]}, {'id': 8, 'nome': 'Hero', 'amigo': [{'id': 7, 'nome': 'Hero', 'amigo': [{...}, {'id': 16, 'nome': 'Hero', 'amigo': [{...}]}]}, {...}, {'id': 2, 'nome': 'Hero', 'amigo': [{...}]}, {'id': 1, 'nome': 'Hero', 'amigo': [{'id': 9, 'nome': 'Hero', 'amigo': [{...}, {...}]}, {'id': 22, 'nome': 'Hero', 'amigo': [{...}]}, {'id': 10, 'nome': 'Hero', 'amigo': [{'id': 17, 'nome': 'Hero', 'amigo': [{...}]}, {...}]}, {'id': 23, 'nome': 'Hero', 'amigo': [{...}]}, {...}, {'id': 9, 'nome': 'Hero', 'amigo': [{...}, {...}]}]}]}, {...}]}]}, {'id': 12, 'nome': 'Hero', 'amigo': [{'id': 5, 'nome': 'Hero', 'amigo': [{...}]}]}, {'id': 13, 'nome': 'Hero', 'amigo': [{'id': 3, 'nome': 'Hero', 'amigo': [{...}, {'id': 4, 'nome': 'Hero', 'amigo': [{...}, {'id': 0, 'nome': 'Hero', 'amigo': [{...}, {'id': 18, 'nome': 'Hero', 'amigo': [{...}]}]}]}, {...}, {'id': 8, 'nome': 'Hero', 'amigo': [{'id': 7, 'nome': 'Hero', 'amigo': [{...}, {'id': 16, 'nome': 'Hero', 'amigo': [{...}]}]}, {...}, {'id': 2, 'nome': 'Hero', 'amigo': [{...}]}, {'id': 1, 'nome': 'Hero', 'amigo': [{'id': 9, 'nome': 'Hero', 'amigo': [{...}, {...}]}, {'id': 22, 'nome': 'Hero', 'amigo': [{...}]}, {'id': 10, 'nome': 'Hero', 'amigo': [{'id': 17, 'nome': 'Hero', 'amigo': [{...}]}, {...}]}, {'id': 23, 'nome': 'Hero', 'amigo': [{...}]}, {...}, {'id': 9, 'nome': 'Hero', 'amigo': [{...}, {...}]}]}]}, {'id': 11, 'nome': 'Hero', 'amigo': [{...}]}]}, {'id': 3, 'nome': 'Hero', 'amigo': [{...}, {'id': 4, 'nome': 'Hero', 'amigo': [{...}, {'id': 0, 'nome': 'Hero', 'amigo': [{...}, {'id': 18, 'nome': 'Hero', 'amigo': [{...}]}]}]}, {...}, {'id': 8, 'nome': 'Hero', 'amigo': [{'id': 7, 'nome': 'Hero', 'amigo': [{...}, {'id': 16, 'nome': 'Hero', 'amigo': [{...}]}]}, {...}, {'id': 2, 'nome': 'Hero', 'amigo': [{...}]}, {'id': 1, 'nome': 'Hero', 'amigo': [{'id': 9, 'nome': 'Hero', 'amigo': [{...}, {...}]}, {'id': 22, 'nome': 'Hero', 'amigo': [{...}]}, {'id': 10, 'nome': 'Hero', 'amigo': [{'id': 17, 'nome': 'Hero', 'amigo': [{...}]}, {...}]}, {'id': 23, 'nome': 'Hero', 'amigo': [{...}]}, {...}, {'id': 9, 'nome': 'Hero', 'amigo': [{...}, {...}]}]}]}, {'id': 11, 'nome': 'Hero', 'amigo': [{...}]}]}]}, {'id': 14, 'nome': 'Hero', 'amigo': []}, {'id': 15, 'nome': 'Hero', 'amigo': []}, {'id': 16, 'nome': 'Hero', 'amigo': [{'id': 7, 'nome': 'Hero', 'amigo': [{'id': 8, 'nome': 'Hero', 'amigo': [{...}, {'id': 3, 'nome': 'Hero', 'amigo': [{'id': 13, 'nome': 'Hero', 'amigo': [{...}, {...}]}, {'id': 4, 'nome': 'Hero', 'amigo': [{...}, {'id': 0, 'nome': 'Hero', 'amigo': [{...}, {'id': 18, 'nome': 'Hero', 'amigo': [{...}]}]}]}, {'id': 13, 'nome': 'Hero', 'amigo': [{...}, {...}]}, {...}, {'id': 11, 'nome': 'Hero', 'amigo': [{...}]}]}, {'id': 2, 'nome': 'Hero', 'amigo': [{...}]}, {'id': 1, 'nome': 'Hero', 'amigo': [{'id': 9, 'nome': 'Hero', 'amigo': [{...}, {...}]}, {'id': 22, 'nome': 'Hero', 'amigo': [{...}]}, {'id': 10, 'nome': 'Hero', 'amigo': [{'id': 17, 'nome': 'Hero', 'amigo': [{...}]}, {...}]}, {'id': 23, 'nome': 'Hero', 'amigo': [{...}]}, {...}, {'id': 9, 'nome': 'Hero', 'amigo': [{...}, {...}]}]}]}, {...}]}]}, {'id': 17, 'nome': 'Hero', 'amigo': [{'id': 10, 'nome': 'Hero', 'amigo': [{...}, {'id': 1, 'nome': 'Hero', 'amigo': [{'id': 9, 'nome': 'Hero', 'amigo': [{...}, {...}]}, {'id': 22, 'nome': 'Hero', 'amigo': [{...}]}, {...}, {'id': 23, 'nome': 'Hero', 'amigo': [{...}]}, {'id': 8, 'nome': 'Hero', 'amigo': [{'id': 7, 'nome': 'Hero', 'amigo': [{...}, {'id': 16, 'nome': 'Hero', 'amigo': [{...}]}]}, {'id': 3, 'nome': 'Hero', 'amigo': [{'id': 13, 'nome': 'Hero', 'amigo': [{...}, {...}]}, {'id': 4, 'nome': 'Hero', 'amigo': [{...}, {'id': 0, 'nome': 'Hero', 'amigo': [{...}, {'id': 18, 'nome': 'Hero', 'amigo': [{...}]}]}]}, {'id': 13, 'nome': 'Hero', 'amigo': [{...}, {...}]}, {...}, {'id': 11, 'nome': 'Hero', 'amigo': [{...}]}]}, {'id': 2, 'nome': 'Hero', 'amigo': [{...}]}, {...}]}, {'id': 9, 'nome': 'Hero', 'amigo': [{...}, {...}]}]}]}]}, {'id': 18, 'nome': 'Hero', 'amigo': [{'id': 0, 'nome': 'Hero', 'amigo': [{'id': 4, 'nome': 'Hero', 'amigo': [{'id': 3, 'nome': 'Hero', 'amigo': [{'id': 13, 'nome': 'Hero', 'amigo': [{...}, {...}]}, {...}, {'id': 13, 'nome': 'Hero', 'amigo': [{...}, {...}]}, {'id': 8, 'nome': 'Hero', 'amigo': [{'id': 7, 'nome': 'Hero', 'amigo': [{...}, {'id': 16, 'nome': 'Hero', 'amigo': [{...}]}]}, {...}, {'id': 2, 'nome': 'Hero', 'amigo': [{...}]}, {'id': 1, 'nome': 'Hero', 'amigo': [{'id': 9, 'nome': 'Hero', 'amigo': [{...}, {...}]}, {'id': 22, 'nome': 'Hero', 'amigo': [{...}]}, {'id': 10, 'nome': 'Hero', 'amigo': [{'id': 17, 'nome': 'Hero', 'amigo': [{...}]}, {...}]}, {'id': 23, 'nome': 'Hero', 'amigo': [{...}]}, {...}, {'id': 9, 'nome': 'Hero', 'amigo': [{...}, {...}]}]}]}, {'id': 11, 'nome': 'Hero', 'amigo': [{...}]}]}, {...}]}, {...}]}]}, {'id': 19, 'nome': 'Hero', 'amigo': []}, {'id': 20, 'nome': 'Hero', 'amigo': []}, {'id': 21, 'nome': 'Hero', 'amigo': []}, {'id': 22, 'nome': 'Hero', 'amigo': [{'id': 1, 'nome': 'Hero', 'amigo': [{'id': 9, 'nome': 'Hero', 'amigo': [{...}, {...}]}, {...}, {'id': 10, 'nome': 'Hero', 'amigo': [{'id': 17, 'nome': 'Hero', 'amigo': [{...}]}, {...}]}, {'id': 23, 'nome': 'Hero', 'amigo': [{...}]}, {'id': 8, 'nome': 'Hero', 'amigo': [{'id': 7, 'nome': 'Hero', 'amigo': [{...}, {'id': 16, 'nome': 'Hero', 'amigo': [{...}]}]}, {'id': 3, 'nome': 'Hero', 'amigo': [{'id': 13, 'nome': 'Hero', 'amigo': [{...}, {...}]}, {'id': 4, 'nome': 'Hero', 'amigo': [{...}, {'id': 0, 'nome': 'Hero', 'amigo': [{...}, {'id': 18, 'nome': 'Hero', 'amigo': [{...}]}]}]}, {'id': 13, 'nome': 'Hero', 'amigo': [{...}, {...}]}, {...}, {'id': 11, 'nome': 'Hero', 'amigo': [{...}]}]}, {'id': 2, 'nome': 'Hero', 'amigo': [{...}]}, {...}]}, {'id': 9, 'nome': 'Hero', 'amigo': [{...}, {...}]}]}]}, {'id': 23, 'nome': 'Hero', 'amigo': [{'id': 1, 'nome': 'Hero', 'amigo': [{'id': 9, 'nome': 'Hero', 'amigo': [{...}, {...}]}, {'id': 22, 'nome': 'Hero', 'amigo': [{...}]}, {'id': 10, 'nome': 'Hero', 'amigo': [{'id': 17, 'nome': 'Hero', 'amigo': [{...}]}, {...}]}, {...}, {'id': 8, 'nome': 'Hero', 'amigo': [{'id': 7, 'nome': 'Hero', 'amigo': [{...}, {'id': 16, 'nome': 'Hero', 'amigo': [{...}]}]}, {'id': 3, 'nome': 'Hero', 'amigo': [{'id': 13, 'nome': 'Hero', 'amigo': [{...}, {...}]}, {'id': 4, 'nome': 'Hero', 'amigo': [{...}, {'id': 0, 'nome': 'Hero', 'amigo': [{...}, {'id': 18, 'nome': 'Hero', 'amigo': [{...}]}]}]}, {'id': 13, 'nome': 'Hero', 'amigo': [{...}, {...}]}, {...}, {'id': 11, 'nome': 'Hero', 'amigo': [{...}]}]}, {'id': 2, 'nome': 'Hero', 'amigo': [{...}]}, {...}]}, {'id': 9, 'nome': 'Hero', 'amigo': [{...}, {...}]}]}]}, {'id': 24, 'nome': 'Hero', 'amigo': []}, {'id': 25, 'nome': 'Hero', 'amigo': []}, {'id': 26, 'nome': 'Hero', 'amigo': []}, {'id': 27, 'nome': 'Hero', 'amigo': []}]\n"
          ],
          "name": "stdout"
        }
      ]
    },
    {
      "cell_type": "code",
      "metadata": {
        "id": "foFLID8sZant",
        "colab_type": "code",
        "outputId": "a11ca548-ff97-48d6-f4cb-d5c4e4b547eb",
        "colab": {
          "base_uri": "https://localhost:8080/",
          "height": 215
        }
      },
      "source": [
        "for i, j in conexoes:\n",
        "    #print(\"{}\\n{}\".format(user[i],user[j]))\n",
        "    user[i][\"amigo\"].append(user[j])\n",
        "    user[j][\"amigo\"].append(user[i])"
      ],
      "execution_count": 0,
      "outputs": [
        {
          "output_type": "error",
          "ename": "IndexError",
          "evalue": "ignored",
          "traceback": [
            "\u001b[0;31m---------------------------------------------------------------------------\u001b[0m",
            "\u001b[0;31mIndexError\u001b[0m                                Traceback (most recent call last)",
            "\u001b[0;32m<ipython-input-16-4e89ac88b961>\u001b[0m in \u001b[0;36m<module>\u001b[0;34m()\u001b[0m\n\u001b[1;32m      1\u001b[0m \u001b[0;32mfor\u001b[0m \u001b[0mi\u001b[0m\u001b[0;34m,\u001b[0m \u001b[0mj\u001b[0m \u001b[0;32min\u001b[0m \u001b[0mconexoes\u001b[0m\u001b[0;34m:\u001b[0m\u001b[0;34m\u001b[0m\u001b[0;34m\u001b[0m\u001b[0m\n\u001b[1;32m      2\u001b[0m     \u001b[0;31m#print(\"{}\\n{}\".format(user[i],user[j]))\u001b[0m\u001b[0;34m\u001b[0m\u001b[0;34m\u001b[0m\u001b[0;34m\u001b[0m\u001b[0m\n\u001b[0;32m----> 3\u001b[0;31m     \u001b[0muser\u001b[0m\u001b[0;34m[\u001b[0m\u001b[0mi\u001b[0m\u001b[0;34m]\u001b[0m\u001b[0;34m[\u001b[0m\u001b[0;34m\"amigo\"\u001b[0m\u001b[0;34m]\u001b[0m\u001b[0;34m.\u001b[0m\u001b[0mappend\u001b[0m\u001b[0;34m(\u001b[0m\u001b[0muser\u001b[0m\u001b[0;34m[\u001b[0m\u001b[0mj\u001b[0m\u001b[0;34m]\u001b[0m\u001b[0;34m)\u001b[0m\u001b[0;34m\u001b[0m\u001b[0;34m\u001b[0m\u001b[0m\n\u001b[0m\u001b[1;32m      4\u001b[0m     \u001b[0muser\u001b[0m\u001b[0;34m[\u001b[0m\u001b[0mj\u001b[0m\u001b[0;34m]\u001b[0m\u001b[0;34m[\u001b[0m\u001b[0;34m\"amigo\"\u001b[0m\u001b[0;34m]\u001b[0m\u001b[0;34m.\u001b[0m\u001b[0mappend\u001b[0m\u001b[0;34m(\u001b[0m\u001b[0muser\u001b[0m\u001b[0;34m[\u001b[0m\u001b[0mi\u001b[0m\u001b[0;34m]\u001b[0m\u001b[0;34m)\u001b[0m\u001b[0;34m\u001b[0m\u001b[0;34m\u001b[0m\u001b[0m\n",
            "\u001b[0;31mIndexError\u001b[0m: list index out of range"
          ]
        }
      ]
    },
    {
      "cell_type": "code",
      "metadata": {
        "id": "ufxVnW90ZoJU",
        "colab_type": "code",
        "colab": {}
      },
      "source": [
        "def numero_amigos(user):\n",
        "    return len(user[\"amigo\"])"
      ],
      "execution_count": 0,
      "outputs": []
    },
    {
      "cell_type": "code",
      "metadata": {
        "id": "453maWCkadU6",
        "colab_type": "code",
        "colab": {}
      },
      "source": [
        "total_connections = sum(numero_amigos(u) for u in user)"
      ],
      "execution_count": 0,
      "outputs": []
    },
    {
      "cell_type": "code",
      "metadata": {
        "id": "jqw8lXaramJR",
        "colab_type": "code",
        "outputId": "4bcc05a1-db70-4aae-a455-56838fbbd1c6",
        "colab": {
          "base_uri": "https://localhost:8080/",
          "height": 34
        }
      },
      "source": [
        "total_connections"
      ],
      "execution_count": 0,
      "outputs": [
        {
          "output_type": "execute_result",
          "data": {
            "text/plain": [
              "36"
            ]
          },
          "metadata": {
            "tags": []
          },
          "execution_count": 22
        }
      ]
    },
    {
      "cell_type": "code",
      "metadata": {
        "id": "Z2XBuI0iaprr",
        "colab_type": "code",
        "colab": {}
      },
      "source": [
        "from __future__ import division"
      ],
      "execution_count": 0,
      "outputs": []
    },
    {
      "cell_type": "code",
      "metadata": {
        "id": "FnKIdTn1au4w",
        "colab_type": "code",
        "outputId": "2ac19599-a73b-4329-9ab4-f425b8a813cf",
        "colab": {
          "base_uri": "https://localhost:8080/",
          "height": 34
        }
      },
      "source": [
        "numero_usuarios = len(user)\n",
        "numero_usuarios"
      ],
      "execution_count": 0,
      "outputs": [
        {
          "output_type": "execute_result",
          "data": {
            "text/plain": [
              "28"
            ]
          },
          "metadata": {
            "tags": []
          },
          "execution_count": 25
        }
      ]
    },
    {
      "cell_type": "code",
      "metadata": {
        "id": "J7zlPb9IayHE",
        "colab_type": "code",
        "outputId": "34ac2e83-9bbe-4ca4-a848-032599ac2627",
        "colab": {
          "base_uri": "https://localhost:8080/",
          "height": 34
        }
      },
      "source": [
        "media_conexoes = total_connections / numero_usuarios\n",
        "media_conexoes"
      ],
      "execution_count": 0,
      "outputs": [
        {
          "output_type": "execute_result",
          "data": {
            "text/plain": [
              "1.2857142857142858"
            ]
          },
          "metadata": {
            "tags": []
          },
          "execution_count": 27
        }
      ]
    },
    {
      "cell_type": "code",
      "metadata": {
        "id": "UE4KcOUua6Z_",
        "colab_type": "code",
        "outputId": "3ebca66d-80dd-4e59-c12e-9207a7dcdafc",
        "colab": {
          "base_uri": "https://localhost:8080/",
          "height": 493
        }
      },
      "source": [
        "num_amigos_by_id = [(u[\"id\"], numero_amigos(u)) for u in user]\n",
        "num_amigos_by_id"
      ],
      "execution_count": 0,
      "outputs": [
        {
          "output_type": "execute_result",
          "data": {
            "text/plain": [
              "[(0, 2),\n",
              " (1, 6),\n",
              " (2, 1),\n",
              " (3, 5),\n",
              " (4, 2),\n",
              " (5, 1),\n",
              " (6, 0),\n",
              " (7, 2),\n",
              " (8, 4),\n",
              " (9, 2),\n",
              " (10, 2),\n",
              " (11, 1),\n",
              " (12, 1),\n",
              " (13, 2),\n",
              " (14, 0),\n",
              " (15, 0),\n",
              " (16, 1),\n",
              " (17, 1),\n",
              " (18, 1),\n",
              " (19, 0),\n",
              " (20, 0),\n",
              " (21, 0),\n",
              " (22, 1),\n",
              " (23, 1),\n",
              " (24, 0),\n",
              " (25, 0),\n",
              " (26, 0),\n",
              " (27, 0)]"
            ]
          },
          "metadata": {
            "tags": []
          },
          "execution_count": 30
        }
      ]
    },
    {
      "cell_type": "code",
      "metadata": {
        "id": "Et-m-nVmbGxu",
        "colab_type": "code",
        "outputId": "d4cf581c-734d-4990-a5da-38ffa9745576",
        "colab": {
          "base_uri": "https://localhost:8080/",
          "height": 493
        }
      },
      "source": [
        "sorted(num_amigos_by_id, \n",
        "       key=lambda num_friends: num_friends,\n",
        "       reverse=True)\n"
      ],
      "execution_count": 0,
      "outputs": [
        {
          "output_type": "execute_result",
          "data": {
            "text/plain": [
              "[(27, 0),\n",
              " (26, 0),\n",
              " (25, 0),\n",
              " (24, 0),\n",
              " (23, 1),\n",
              " (22, 1),\n",
              " (21, 0),\n",
              " (20, 0),\n",
              " (19, 0),\n",
              " (18, 1),\n",
              " (17, 1),\n",
              " (16, 1),\n",
              " (15, 0),\n",
              " (14, 0),\n",
              " (13, 2),\n",
              " (12, 1),\n",
              " (11, 1),\n",
              " (10, 2),\n",
              " (9, 2),\n",
              " (8, 4),\n",
              " (7, 2),\n",
              " (6, 0),\n",
              " (5, 1),\n",
              " (4, 2),\n",
              " (3, 5),\n",
              " (2, 1),\n",
              " (1, 6),\n",
              " (0, 2)]"
            ]
          },
          "metadata": {
            "tags": []
          },
          "execution_count": 38
        }
      ]
    },
    {
      "cell_type": "code",
      "metadata": {
        "id": "Bq1pm0rvbgMW",
        "colab_type": "code",
        "colab": {}
      },
      "source": [
        "def friend_of_friend_ids_bad(user):\n",
        "    return [foaf[\"id\"]\n",
        "            for friend in user[\"amigo\"]\n",
        "            for foaf in friend[\"amigo\"]]"
      ],
      "execution_count": 0,
      "outputs": []
    },
    {
      "cell_type": "code",
      "metadata": {
        "id": "hLtvtl8vdL1A",
        "colab_type": "code",
        "outputId": "ab680e9d-92b3-4ad1-bc0b-288d2e0e60d7",
        "colab": {
          "base_uri": "https://localhost:8080/",
          "height": 34
        }
      },
      "source": [
        "friend_of_friend_ids_bad(user[1])"
      ],
      "execution_count": 0,
      "outputs": [
        {
          "output_type": "execute_result",
          "data": {
            "text/plain": [
              "[1, 1, 1, 17, 1, 1, 7, 3, 2, 1, 1, 1]"
            ]
          },
          "metadata": {
            "tags": []
          },
          "execution_count": 41
        }
      ]
    },
    {
      "cell_type": "code",
      "metadata": {
        "id": "xPLB4F1bdOxw",
        "colab_type": "code",
        "colab": {}
      },
      "source": [
        "from collections import Counter"
      ],
      "execution_count": 0,
      "outputs": []
    },
    {
      "cell_type": "code",
      "metadata": {
        "id": "l_I78AxtdY0H",
        "colab_type": "code",
        "colab": {}
      },
      "source": [
        "def not_the_same(user, outro_user):\n",
        "    return user[\"id\"] != outro_user[\"id\"]"
      ],
      "execution_count": 0,
      "outputs": []
    },
    {
      "cell_type": "code",
      "metadata": {
        "id": "PVz-eEiJduWO",
        "colab_type": "code",
        "colab": {}
      },
      "source": [
        "def not_friends(user, outro_user):\n",
        "    return all(not_the_same(friend, outro_user) for friend in user[\"amigo\"])"
      ],
      "execution_count": 0,
      "outputs": []
    },
    {
      "cell_type": "code",
      "metadata": {
        "id": "2n1d8MT-d4_m",
        "colab_type": "code",
        "colab": {}
      },
      "source": [
        "def friend_of_friend_ids(user):\n",
        "    return Counter(foaf[\"id\"]\n",
        "                   for friend in user[\"amigo\"]\n",
        "                   for foaf in friend[\"amigo\"]\n",
        "                   if not_the_same(user, foaf)\n",
        "                   and not_friends(user, foaf))"
      ],
      "execution_count": 0,
      "outputs": []
    },
    {
      "cell_type": "code",
      "metadata": {
        "id": "meZG96oZeLSs",
        "colab_type": "code",
        "outputId": "f996cdd3-9aa7-4b5e-856b-2538bc9a130c",
        "colab": {
          "base_uri": "https://localhost:8080/",
          "height": 493
        }
      },
      "source": [
        "for u in user:\n",
        "    print(friend_of_friend_ids(u))"
      ],
      "execution_count": 0,
      "outputs": [
        {
          "output_type": "stream",
          "text": [
            "Counter({3: 1})\n",
            "Counter({17: 1, 7: 1, 3: 1, 2: 1})\n",
            "Counter({7: 1, 3: 1, 1: 1})\n",
            "Counter({0: 1, 7: 1, 2: 1, 1: 1})\n",
            "Counter({13: 2, 8: 1, 11: 1, 18: 1})\n",
            "Counter()\n",
            "Counter()\n",
            "Counter({3: 1, 2: 1, 1: 1})\n",
            "Counter({13: 2, 9: 2, 16: 1, 4: 1, 11: 1, 22: 1, 10: 1, 23: 1})\n",
            "Counter({22: 2, 10: 2, 23: 2, 8: 2})\n",
            "Counter({9: 2, 22: 1, 23: 1, 8: 1})\n",
            "Counter({13: 2, 4: 1, 8: 1})\n",
            "Counter()\n",
            "Counter({4: 2, 8: 2, 11: 2})\n",
            "Counter()\n",
            "Counter()\n",
            "Counter({8: 1})\n",
            "Counter({1: 1})\n",
            "Counter({4: 1})\n",
            "Counter()\n",
            "Counter()\n",
            "Counter()\n",
            "Counter({9: 2, 10: 1, 23: 1, 8: 1})\n",
            "Counter({9: 2, 22: 1, 10: 1, 8: 1})\n",
            "Counter()\n",
            "Counter()\n",
            "Counter()\n",
            "Counter()\n"
          ],
          "name": "stdout"
        }
      ]
    },
    {
      "cell_type": "code",
      "metadata": {
        "id": "J0oWlKZDeY9z",
        "colab_type": "code",
        "colab": {}
      },
      "source": [
        "interese = [\n",
        "            (0, \"Hadoop\"), (0, \"Big Data\"), (0, \"HBase\"), (0, \"Java\"),\n",
        "            (0, \"Spark\"), (0, \"Storm\"), (0, \"Casandra\"),\n",
        "            (1, \"NoSQL\"), (1, \"MongoDB\"), (1, \"Casandra\"), (1, \"HBase\"),\n",
        "            (1, \"Postgres\"),\n",
        "            (2, \"Python\"), (2, \"scikit-learn\"), (2, \"scipy\"), (2, \"numpy\"),\n",
        "            (2, \"statsmodels\"), (2, \"pandas\"),\n",
        "            (3, \"R\"), (3, \"Python\"), (3, \"statistics\"), (3, \"regression\"),\n",
        "            (3, \"probality\"),\n",
        "            (4, \"machine learning\"), (4, \"regression\"), (4, \"decision trees\"),\n",
        "            (4, \"libsvm\"),\n",
        "            (5, \"Python\"), (5, \"R\"), (5, \"Java\"), (5, \"C++\"), (5, \"Haskell\"),\n",
        "            (5, \"programming languages\"),\n",
        "            (6, \"statistics\"), (6, \"probality\"), (6, \"mathematics\"),\n",
        "            (6, \"theory\"),\n",
        "            (7, \"machine learning\"), (7, \"scikit-learn\"), (7, \"Mahout\"),\n",
        "            (7, \"neural networks\"),\n",
        "            (8, \"neural networks\"), (8, \"deep learning\"), (8, \"Big Data\"),\n",
        "            (8, \"artificial intelligence\"),\n",
        "            (9, \"Hadoop\"), (9, \"Java\"), (9, \"MapReduce\"), (9, \"Big Data\"),\n",
        "]"
      ],
      "execution_count": 0,
      "outputs": []
    },
    {
      "cell_type": "code",
      "metadata": {
        "id": "U9JKeUC4hVrd",
        "colab_type": "code",
        "colab": {}
      },
      "source": [
        "def data_science_who_like(target):\n",
        "    return [user_id\n",
        "            for user_id, user_interest in interest\n",
        "            if user_interest == target]"
      ],
      "execution_count": 0,
      "outputs": []
    },
    {
      "cell_type": "code",
      "metadata": {
        "id": "Au65qk2Zhhno",
        "colab_type": "code",
        "colab": {}
      },
      "source": [
        "from collections import defaultdict"
      ],
      "execution_count": 0,
      "outputs": []
    },
    {
      "cell_type": "code",
      "metadata": {
        "id": "ng2KJ3Lshmdo",
        "colab_type": "code",
        "colab": {}
      },
      "source": [
        "user_ids_by_interest = defaultdict(list)"
      ],
      "execution_count": 0,
      "outputs": []
    },
    {
      "cell_type": "code",
      "metadata": {
        "id": "QQnoiKHzhrdI",
        "colab_type": "code",
        "colab": {}
      },
      "source": [
        "interest_by_user_ids = defaultdict(list)"
      ],
      "execution_count": 0,
      "outputs": []
    },
    {
      "cell_type": "code",
      "metadata": {
        "id": "y5mneHsihyEf",
        "colab_type": "code",
        "colab": {}
      },
      "source": [
        "for user_id, interest in interese:\n",
        "    interest_by_user_ids[user_id].append(interest)"
      ],
      "execution_count": 0,
      "outputs": []
    },
    {
      "cell_type": "code",
      "metadata": {
        "id": "Wtu1r2tlh9Un",
        "colab_type": "code",
        "colab": {}
      },
      "source": [
        "def most_common_interest(user):\n",
        "    return Counter(interest_user_id\n",
        "                   for interest in interest_by_user_ids[user[\"id\"]]\n",
        "                   for interested_user_id in user_ids_by_interest[interest]\n",
        "                   if interested_user_id != user[\"id\"])"
      ],
      "execution_count": 0,
      "outputs": []
    },
    {
      "cell_type": "code",
      "metadata": {
        "id": "V9dXw53QiczF",
        "colab_type": "code",
        "outputId": "e48ffea5-f808-41ab-a76d-ace50b249bff",
        "colab": {
          "base_uri": "https://localhost:8080/",
          "height": 493
        }
      },
      "source": [
        "for i in user[]:\n",
        "    print(most_common_interest(u))"
      ],
      "execution_count": 0,
      "outputs": [
        {
          "output_type": "stream",
          "text": [
            "Counter()\n",
            "Counter()\n",
            "Counter()\n",
            "Counter()\n",
            "Counter()\n",
            "Counter()\n",
            "Counter()\n",
            "Counter()\n",
            "Counter()\n",
            "Counter()\n",
            "Counter()\n",
            "Counter()\n",
            "Counter()\n",
            "Counter()\n",
            "Counter()\n",
            "Counter()\n",
            "Counter()\n",
            "Counter()\n",
            "Counter()\n",
            "Counter()\n",
            "Counter()\n",
            "Counter()\n",
            "Counter()\n",
            "Counter()\n",
            "Counter()\n",
            "Counter()\n",
            "Counter()\n",
            "Counter()\n"
          ],
          "name": "stdout"
        }
      ]
    },
    {
      "cell_type": "code",
      "metadata": {
        "id": "WAovN850ihVN",
        "colab_type": "code",
        "colab": {}
      },
      "source": [
        ""
      ],
      "execution_count": 0,
      "outputs": []
    }
  ]
}