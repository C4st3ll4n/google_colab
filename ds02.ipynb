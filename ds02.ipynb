{
  "nbformat": 4,
  "nbformat_minor": 0,
  "metadata": {
    "colab": {
      "name": "ds02.ipynb",
      "version": "0.3.2",
      "provenance": [],
      "include_colab_link": true
    },
    "kernelspec": {
      "name": "python3",
      "display_name": "Python 3"
    }
  },
  "cells": [
    {
      "cell_type": "markdown",
      "metadata": {
        "id": "view-in-github",
        "colab_type": "text"
      },
      "source": [
        "<a href=\"https://colab.research.google.com/github/C4st3ll4n/google_colab/blob/master/ds02.ipynb\" target=\"_parent\"><img src=\"https://colab.research.google.com/assets/colab-badge.svg\" alt=\"Open In Colab\"/></a>"
      ]
    },
    {
      "cell_type": "code",
      "metadata": {
        "id": "ha8twP_bi0Ju",
        "colab_type": "code",
        "colab": {}
      },
      "source": [
        "salarios_experiencia = [(83000, 8.7), (88000, 8.1),\n",
        "                        (48000, 0.7), (76000, 6),\n",
        "                        (69000, 6.5), (76000, 7.5),\n",
        "                        (60000, 2.5), (83000, 10),\n",
        "                        (48000, 1.9), (63000, 4.2)]"
      ],
      "execution_count": 0,
      "outputs": []
    },
    {
      "cell_type": "code",
      "metadata": {
        "id": "O4PjDS16jZmi",
        "colab_type": "code",
        "colab": {
          "base_uri": "https://localhost:8080/",
          "height": 187
        },
        "outputId": "b743e2a5-1954-464f-a4d5-5003da3c9b30"
      },
      "source": [
        "salarios_experiencia"
      ],
      "execution_count": 7,
      "outputs": [
        {
          "output_type": "execute_result",
          "data": {
            "text/plain": [
              "[(83000, 8.7),\n",
              " (88000, 8.1),\n",
              " (48000, 0.7),\n",
              " (76000, 6),\n",
              " (69000, 6.5),\n",
              " (76000, 7.5),\n",
              " (60000, 2.5),\n",
              " (83000, 10),\n",
              " (48000, 1.9),\n",
              " (63000, 4.2)]"
            ]
          },
          "metadata": {
            "tags": []
          },
          "execution_count": 7
        }
      ]
    },
    {
      "cell_type": "code",
      "metadata": {
        "id": "guYy57J0jcUq",
        "colab_type": "code",
        "colab": {}
      },
      "source": [
        "from collections import defaultdict\n",
        "salario_por_xp = defaultdict(list)"
      ],
      "execution_count": 0,
      "outputs": []
    },
    {
      "cell_type": "code",
      "metadata": {
        "id": "1rqrd9YOkD_v",
        "colab_type": "code",
        "colab": {}
      },
      "source": [
        "for salary, xp in salarios_experiencia:\n",
        "    salario_por_xp[xp].append(salary)"
      ],
      "execution_count": 0,
      "outputs": []
    },
    {
      "cell_type": "code",
      "metadata": {
        "id": "RbsRuB85kO_2",
        "colab_type": "code",
        "colab": {
          "base_uri": "https://localhost:8080/",
          "height": 204
        },
        "outputId": "2bd427c8-7f7c-4a62-cc7d-0a2dd6667c1f"
      },
      "source": [
        "salario_por_xp"
      ],
      "execution_count": 12,
      "outputs": [
        {
          "output_type": "execute_result",
          "data": {
            "text/plain": [
              "defaultdict(list,\n",
              "            {0.7: [48000],\n",
              "             1.9: [48000],\n",
              "             2.5: [60000],\n",
              "             4.2: [63000],\n",
              "             6: [76000],\n",
              "             6.5: [69000],\n",
              "             7.5: [76000],\n",
              "             8.1: [88000],\n",
              "             8.7: [83000],\n",
              "             10: [83000]})"
            ]
          },
          "metadata": {
            "tags": []
          },
          "execution_count": 12
        }
      ]
    },
    {
      "cell_type": "code",
      "metadata": {
        "id": "7l3m6hYYkQL-",
        "colab_type": "code",
        "colab": {}
      },
      "source": [
        "media_salario_ano = {\n",
        "    xp : sum(salaries) / len(salaries)\n",
        "    for xp, salaries in salario_por_xp.items()\n",
        "}"
      ],
      "execution_count": 0,
      "outputs": []
    },
    {
      "cell_type": "code",
      "metadata": {
        "id": "At2lUMefmIFv",
        "colab_type": "code",
        "colab": {
          "base_uri": "https://localhost:8080/",
          "height": 187
        },
        "outputId": "9fdf39e7-a1dc-4692-e4fd-adbcd1852b13"
      },
      "source": [
        "media_salario_ano"
      ],
      "execution_count": 14,
      "outputs": [
        {
          "output_type": "execute_result",
          "data": {
            "text/plain": [
              "{0.7: 48000.0,\n",
              " 1.9: 48000.0,\n",
              " 2.5: 60000.0,\n",
              " 4.2: 63000.0,\n",
              " 6: 76000.0,\n",
              " 6.5: 69000.0,\n",
              " 7.5: 76000.0,\n",
              " 8.1: 88000.0,\n",
              " 8.7: 83000.0,\n",
              " 10: 83000.0}"
            ]
          },
          "metadata": {
            "tags": []
          },
          "execution_count": 14
        }
      ]
    },
    {
      "cell_type": "code",
      "metadata": {
        "id": "Y9Wu_uQAmK-_",
        "colab_type": "code",
        "colab": {}
      },
      "source": [
        "def xp_bucket(xp):\n",
        "    if xp < 2:\n",
        "        return \"menos que dois\"\n",
        "    elif xp < 5:\n",
        "        return \"entre dois e cinco\"\n",
        "    else:\n",
        "        return \"mais que cinco\""
      ],
      "execution_count": 0,
      "outputs": []
    },
    {
      "cell_type": "code",
      "metadata": {
        "id": "f4oaoghHmkhm",
        "colab_type": "code",
        "colab": {}
      },
      "source": [
        "salario_por_xp_bucket = defaultdict(list)"
      ],
      "execution_count": 0,
      "outputs": []
    },
    {
      "cell_type": "code",
      "metadata": {
        "id": "C96owFCKmtu-",
        "colab_type": "code",
        "colab": {}
      },
      "source": [
        "for grana, exp in salarios_experiencia:\n",
        "    bucket = xp_bucket(exp)\n",
        "    salario_por_xp_bucket[bucket].append(grana)"
      ],
      "execution_count": 0,
      "outputs": []
    },
    {
      "cell_type": "code",
      "metadata": {
        "id": "7hUqgbH5naOL",
        "colab_type": "code",
        "colab": {}
      },
      "source": [
        "media_salarial_grupo = {\n",
        "    xp_bucket: sum(salario) / len(salario)\n",
        "    for xp_bucket, salario in salario_por_xp_bucket.items()\n",
        "}"
      ],
      "execution_count": 0,
      "outputs": []
    },
    {
      "cell_type": "code",
      "metadata": {
        "id": "1lbnzb5Atzed",
        "colab_type": "code",
        "colab": {
          "base_uri": "https://localhost:8080/",
          "height": 68
        },
        "outputId": "6ed66d94-93ef-499d-94ed-747376734d87"
      },
      "source": [
        "media_salarial_grupo"
      ],
      "execution_count": 23,
      "outputs": [
        {
          "output_type": "execute_result",
          "data": {
            "text/plain": [
              "{'entre dois e cinco': 61500.0,\n",
              " 'mais que cinco': 79166.66666666667,\n",
              " 'menos que dois': 48000.0}"
            ]
          },
          "metadata": {
            "tags": []
          },
          "execution_count": 23
        }
      ]
    },
    {
      "cell_type": "code",
      "metadata": {
        "id": "Yrrjb0QOuN3D",
        "colab_type": "code",
        "colab": {}
      },
      "source": [
        ""
      ],
      "execution_count": 0,
      "outputs": []
    }
  ]
}