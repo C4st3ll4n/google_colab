{
  "nbformat": 4,
  "nbformat_minor": 0,
  "metadata": {
    "colab": {
      "name": "Portfólio - BigData - Ciclo 2.ipynb",
      "provenance": [],
      "collapsed_sections": [],
      "authorship_tag": "ABX9TyOJ3viJtTmCoUOPPAqECaLJ",
      "include_colab_link": true
    },
    "kernelspec": {
      "name": "python3",
      "display_name": "Python 3"
    }
  },
  "cells": [
    {
      "cell_type": "markdown",
      "metadata": {
        "id": "view-in-github",
        "colab_type": "text"
      },
      "source": [
        "<a href=\"https://colab.research.google.com/github/C4st3ll4n/google_colab/blob/master/Portf%C3%B3lio_BD_Ciclo_2.ipynb\" target=\"_parent\"><img src=\"https://colab.research.google.com/assets/colab-badge.svg\" alt=\"Open In Colab\"/></a>"
      ]
    },
    {
      "cell_type": "markdown",
      "metadata": {
        "id": "IaHSu3GJYKQn"
      },
      "source": [
        "# Ciclo II - Portfólio - Map Reduce\n",
        "\n",
        "Atividade do Ciclo 2 da Disciplina de Fundamentos de Big Data\n",
        "\n",
        "---\n",
        "\n",
        "\n",
        "Pedro Henrique Silva de Souza\n",
        "\n",
        "RA: **8078936**\n",
        "\n",
        "---\n",
        "\n",
        "\n",
        "**Descrição da Atividade:**\n",
        "\n",
        "\n",
        "* Modifique o programa em python 3 da listagem 5, utilizando as funções map(), filter() e reduce() para obter quantos e quais são os planetas mais densamente populados do que o planeta Terra e qual o total geral de habitantes.\n",
        "\n",
        "\n",
        "* Considere o cálculo de densidade populacional como a divisão da população pelo diâmetro do planeta. No caso da terra, teremos aproximadamente 588.604,6.\n",
        "\n",
        "\n",
        "\n",
        "---\n",
        "\n"
      ]
    },
    {
      "cell_type": "code",
      "metadata": {
        "id": "0DaIJ1vFJvid"
      },
      "source": [
        "import functools\n",
        "import operator\n",
        "import requests\n",
        "import json"
      ],
      "execution_count": 67,
      "outputs": []
    },
    {
      "cell_type": "markdown",
      "metadata": {
        "id": "fZ2AM3yKKwMg"
      },
      "source": [
        "## EARTH CONSTANTS"
      ]
    },
    {
      "cell_type": "code",
      "metadata": {
        "id": "WBogoMYHKu9T"
      },
      "source": [
        "earth_population = 750000000000\n",
        "earth_diameters_in_kilometers = 12742\n",
        "earth_populational_density = 588604.6 #round(earth_population/earth_diameters_in_kilometers,1)\n",
        "#print(earth_populational_density)"
      ],
      "execution_count": 78,
      "outputs": []
    },
    {
      "cell_type": "code",
      "metadata": {
        "id": "aScT5rUlKKos"
      },
      "source": [
        "def getPlanets(url = \"http://swapi.dev/api/planets\", planets =[]):\n",
        "    req = requests.get(url)\n",
        "\n",
        "    if req.status_code == 200:\n",
        "        _planets = req.json()\n",
        "\n",
        "        for planet in _planets['results']:\n",
        "            if planet['population'] != 'unknown' and planet['diameter']!='unknown':\n",
        "                if int(planet['population']) > 0 and int(planet['diameter']) > 0:\n",
        "                    planet_populational_density = round(int(planet['population'])/int(planet['diameter']), 1)\n",
        "                    #print(f\"Planeta:{planet['name']}\\nDensidade: {planet_populational_density}\\nPopulação: {planet['population']}\\nDiametros:{planet['diameter']}\\nComparação com a Terra:{round(planet_populational_density-earth_populational_density)}\\n\")\n",
        "                    planets.append([\n",
        "                                    planet['name'],\n",
        "                                    int(planet['population']),\n",
        "                                    int(planet['diameter']),\n",
        "                                    planet_populational_density\n",
        "                    ])\n",
        "        if _planets['next'] != None:\n",
        "            getPlanets(_planets['next'])\n",
        "        \n",
        "\n",
        "        return planets\n",
        "\n",
        "    else:\n",
        "        print(\"Unavailable API !\\n\", req.status_code)\n",
        "        return []\n",
        "\n"
      ],
      "execution_count": 79,
      "outputs": []
    },
    {
      "cell_type": "code",
      "metadata": {
        "id": "6BZpHiO6Koz-"
      },
      "source": [
        "planetas = getPlanets()"
      ],
      "execution_count": 80,
      "outputs": []
    },
    {
      "cell_type": "markdown",
      "metadata": {
        "id": "pkm4aNgNNfor"
      },
      "source": [
        "## Map"
      ]
    },
    {
      "cell_type": "code",
      "metadata": {
        "id": "72c8RrHCNTO0"
      },
      "source": [
        "planets_denser_than_earth = list(filter(lambda x:len(x)>0, map(lambda x: x if(x[3]>earth_populational_density) else [], planetas)))\n",
        "#planets_denser_than_earth"
      ],
      "execution_count": 81,
      "outputs": []
    },
    {
      "cell_type": "code",
      "metadata": {
        "id": "hcQ0yS75RElt"
      },
      "source": [
        "planets_name_denser_than_earth = list(map(lambda x: x[0], planets_denser_than_earth))\n",
        "#planets_name_denser_than_earth"
      ],
      "execution_count": 82,
      "outputs": []
    },
    {
      "cell_type": "code",
      "metadata": {
        "id": "HN0qlSBXT8mG"
      },
      "source": [
        "quantity_planets_denser_than_earth = len(planets_denser_than_earth)\n",
        "#quantity_planets_denser_than_earth"
      ],
      "execution_count": 83,
      "outputs": []
    },
    {
      "cell_type": "code",
      "metadata": {
        "id": "wOVr_1KgWK3U"
      },
      "source": [
        "population_planets_denser_than_earth = list(map(lambda x: x[1], planets_denser_than_earth))\n",
        "#population_planets_denser_than_earth"
      ],
      "execution_count": 84,
      "outputs": []
    },
    {
      "cell_type": "markdown",
      "metadata": {
        "id": "7fkAVZ6uNh1i"
      },
      "source": [
        "## Reduce\n"
      ]
    },
    {
      "cell_type": "code",
      "metadata": {
        "id": "KfaTa9rcTRdu"
      },
      "source": [
        "total_population = functools.reduce(operator.add,population_planets_denser_than_earth)\n",
        "#total_population"
      ],
      "execution_count": 85,
      "outputs": []
    },
    {
      "cell_type": "code",
      "metadata": {
        "id": "te12-ZFnTf89"
      },
      "source": [
        ""
      ],
      "execution_count": 85,
      "outputs": []
    },
    {
      "cell_type": "markdown",
      "metadata": {
        "id": "MJJndgEsVbbN"
      },
      "source": [
        "## Resultado final"
      ]
    },
    {
      "cell_type": "code",
      "metadata": {
        "id": "egVq-ZoBVdMV"
      },
      "source": [
        "resultado = {\n",
        "    'quantidade de planetas que tem densidade populacional maior que da Terra': quantity_planets_denser_than_earth,\n",
        "    'planetas':planets_name_denser_than_earth,\n",
        "    'população geral total': total_population\n",
        "}"
      ],
      "execution_count": 86,
      "outputs": []
    },
    {
      "cell_type": "code",
      "metadata": {
        "colab": {
          "base_uri": "https://localhost:8080/"
        },
        "id": "KWRCNQ9IVnJu",
        "outputId": "25b5733f-5eef-4e4f-dc1f-80e95a339a76"
      },
      "source": [
        "resultado"
      ],
      "execution_count": 87,
      "outputs": [
        {
          "output_type": "execute_result",
          "data": {
            "text/plain": [
              "{'planetas': ['Coruscant', 'Geonosis', 'Eriadu', 'Mon Cala', 'Sullust'],\n",
              " 'população geral total': 1167500000000,\n",
              " 'quantidade de planetas que tem densidade populacional maior que da Terra': 5}"
            ]
          },
          "metadata": {
            "tags": []
          },
          "execution_count": 87
        }
      ]
    },
    {
      "cell_type": "markdown",
      "metadata": {
        "id": "Fh1TNmGCWt5N"
      },
      "source": [
        "Resultado Final\n",
        "\n",
        "---\n",
        "\n",
        "\n",
        "* Planetas com densidade populacional maior que da Terra: 17\n",
        "* População Geral Total: 1167500000000 habitantes\n",
        "* Planetas:\n",
        "\n",
        "    * Coruscant\n",
        "    * Geonosis\n",
        "    * Eriadu\n",
        "    * Mon Cala\n",
        "    * Sullust\n",
        "\n",
        "\n"
      ]
    },
    {
      "cell_type": "code",
      "metadata": {
        "id": "WjKxw-4FVn-l"
      },
      "source": [
        ""
      ],
      "execution_count": 87,
      "outputs": []
    }
  ]
}