{
  "nbformat": 4,
  "nbformat_minor": 0,
  "metadata": {
    "colab": {
      "name": "enem2016.ipynb",
      "provenance": [],
      "include_colab_link": true
    },
    "kernelspec": {
      "name": "python3",
      "display_name": "Python 3"
    }
  },
  "cells": [
    {
      "cell_type": "markdown",
      "metadata": {
        "id": "view-in-github",
        "colab_type": "text"
      },
      "source": [
        "<a href=\"https://colab.research.google.com/github/C4st3ll4n/google_colab/blob/master/enem2016.ipynb\" target=\"_parent\"><img src=\"https://colab.research.google.com/assets/colab-badge.svg\" alt=\"Open In Colab\"/></a>"
      ]
    },
    {
      "cell_type": "code",
      "metadata": {
        "id": "e-PRxgN3CLpU",
        "colab_type": "code",
        "colab": {
          "base_uri": "https://localhost:8080/",
          "height": 105
        },
        "outputId": "af67bc2e-5548-4975-d503-5b47cc456f4a"
      },
      "source": [
        "import pandas as pd\n",
        "import numpy as np\n",
        "from sklearn import preprocessing\n",
        "from sklearn.ensemble import RandomForestRegressor\n",
        "from sklearn.pipeline import make_pipeline\n",
        "from sklearn.model_selection import train_test_split, GridSearchCV\n",
        "from sklearn.externals import joblib\n",
        "import matplotlib.pyplot as plt\n",
        "import seaborn as sns"
      ],
      "execution_count": null,
      "outputs": [
        {
          "output_type": "stream",
          "text": [
            "/usr/local/lib/python3.6/dist-packages/sklearn/externals/joblib/__init__.py:15: FutureWarning: sklearn.externals.joblib is deprecated in 0.21 and will be removed in 0.23. Please import this functionality directly from joblib, which can be installed with: pip install joblib. If this warning is raised when loading pickled models, you may need to re-serialize those models with scikit-learn 0.21+.\n",
            "  warnings.warn(msg, category=FutureWarning)\n",
            "/usr/local/lib/python3.6/dist-packages/statsmodels/tools/_testing.py:19: FutureWarning: pandas.util.testing is deprecated. Use the functions in the public API at pandas.testing instead.\n",
            "  import pandas.util.testing as tm\n"
          ],
          "name": "stderr"
        }
      ]
    },
    {
      "cell_type": "code",
      "metadata": {
        "id": "O3dOsBQJCW1s",
        "colab_type": "code",
        "colab": {}
      },
      "source": [
        "df_train = pd.read_csv(\"train.csv\")\n",
        "df_test = pd.read_csv(\"test.csv\")\n",
        "df_resposta= pd.DataFrame()"
      ],
      "execution_count": null,
      "outputs": []
    },
    {
      "cell_type": "code",
      "metadata": {
        "id": "bmqL51vgGdYw",
        "colab_type": "code",
        "colab": {
          "base_uri": "https://localhost:8080/",
          "height": 34
        },
        "outputId": "d12ac61f-2610-4dc0-ee67-c10fbabfdd3f"
      },
      "source": [
        "print(set(df_test.columns).issubset(set(df_train.columns)))"
      ],
      "execution_count": null,
      "outputs": [
        {
          "output_type": "stream",
          "text": [
            "True\n"
          ],
          "name": "stdout"
        }
      ]
    },
    {
      "cell_type": "code",
      "metadata": {
        "id": "9rruCc9EGoXd",
        "colab_type": "code",
        "colab": {}
      },
      "source": [
        "df_resposta['NU_INSCRICAO'] = df_test['NU_INSCRICAO']"
      ],
      "execution_count": null,
      "outputs": []
    },
    {
      "cell_type": "code",
      "metadata": {
        "id": "hhTwliKPGtts",
        "colab_type": "code",
        "colab": {}
      },
      "source": [
        "df_test = df_test.select_dtypes(include=['int64','float64'])"
      ],
      "execution_count": null,
      "outputs": []
    },
    {
      "cell_type": "code",
      "metadata": {
        "id": "YDZajvQyG3hj",
        "colab_type": "code",
        "colab": {}
      },
      "source": [
        "var = ['NU_IDADE', 'IN_TREINEIRO', 'NU_NOTA_CN','NU_NOTA_CH', 'NU_NOTA_LC', 'NU_NOTA_REDACAO']"
      ],
      "execution_count": null,
      "outputs": []
    },
    {
      "cell_type": "code",
      "metadata": {
        "id": "1ZfN7NHhHQSa",
        "colab_type": "code",
        "colab": {
          "base_uri": "https://localhost:8080/",
          "height": 255
        },
        "outputId": "e2d7f339-2cdc-4ef8-9c1d-dcb95e2850a5"
      },
      "source": [
        "df_test[var].corr()"
      ],
      "execution_count": null,
      "outputs": [
        {
          "output_type": "execute_result",
          "data": {
            "text/html": [
              "<div>\n",
              "<style scoped>\n",
              "    .dataframe tbody tr th:only-of-type {\n",
              "        vertical-align: middle;\n",
              "    }\n",
              "\n",
              "    .dataframe tbody tr th {\n",
              "        vertical-align: top;\n",
              "    }\n",
              "\n",
              "    .dataframe thead th {\n",
              "        text-align: right;\n",
              "    }\n",
              "</style>\n",
              "<table border=\"1\" class=\"dataframe\">\n",
              "  <thead>\n",
              "    <tr style=\"text-align: right;\">\n",
              "      <th></th>\n",
              "      <th>NU_IDADE</th>\n",
              "      <th>IN_TREINEIRO</th>\n",
              "      <th>NU_NOTA_CN</th>\n",
              "      <th>NU_NOTA_CH</th>\n",
              "      <th>NU_NOTA_LC</th>\n",
              "      <th>NU_NOTA_REDACAO</th>\n",
              "    </tr>\n",
              "  </thead>\n",
              "  <tbody>\n",
              "    <tr>\n",
              "      <th>NU_IDADE</th>\n",
              "      <td>1.000000</td>\n",
              "      <td>-0.293714</td>\n",
              "      <td>-0.105278</td>\n",
              "      <td>-0.048229</td>\n",
              "      <td>-0.079171</td>\n",
              "      <td>-0.161202</td>\n",
              "    </tr>\n",
              "    <tr>\n",
              "      <th>IN_TREINEIRO</th>\n",
              "      <td>-0.293714</td>\n",
              "      <td>1.000000</td>\n",
              "      <td>-0.009669</td>\n",
              "      <td>-0.032181</td>\n",
              "      <td>-0.004934</td>\n",
              "      <td>-0.014277</td>\n",
              "    </tr>\n",
              "    <tr>\n",
              "      <th>NU_NOTA_CN</th>\n",
              "      <td>-0.105278</td>\n",
              "      <td>-0.009669</td>\n",
              "      <td>1.000000</td>\n",
              "      <td>0.598574</td>\n",
              "      <td>0.545801</td>\n",
              "      <td>0.442692</td>\n",
              "    </tr>\n",
              "    <tr>\n",
              "      <th>NU_NOTA_CH</th>\n",
              "      <td>-0.048229</td>\n",
              "      <td>-0.032181</td>\n",
              "      <td>0.598574</td>\n",
              "      <td>1.000000</td>\n",
              "      <td>0.679993</td>\n",
              "      <td>0.537141</td>\n",
              "    </tr>\n",
              "    <tr>\n",
              "      <th>NU_NOTA_LC</th>\n",
              "      <td>-0.079171</td>\n",
              "      <td>-0.004934</td>\n",
              "      <td>0.545801</td>\n",
              "      <td>0.679993</td>\n",
              "      <td>1.000000</td>\n",
              "      <td>0.495745</td>\n",
              "    </tr>\n",
              "    <tr>\n",
              "      <th>NU_NOTA_REDACAO</th>\n",
              "      <td>-0.161202</td>\n",
              "      <td>-0.014277</td>\n",
              "      <td>0.442692</td>\n",
              "      <td>0.537141</td>\n",
              "      <td>0.495745</td>\n",
              "      <td>1.000000</td>\n",
              "    </tr>\n",
              "  </tbody>\n",
              "</table>\n",
              "</div>"
            ],
            "text/plain": [
              "                 NU_IDADE  IN_TREINEIRO  ...  NU_NOTA_LC  NU_NOTA_REDACAO\n",
              "NU_IDADE         1.000000     -0.293714  ...   -0.079171        -0.161202\n",
              "IN_TREINEIRO    -0.293714      1.000000  ...   -0.004934        -0.014277\n",
              "NU_NOTA_CN      -0.105278     -0.009669  ...    0.545801         0.442692\n",
              "NU_NOTA_CH      -0.048229     -0.032181  ...    0.679993         0.537141\n",
              "NU_NOTA_LC      -0.079171     -0.004934  ...    1.000000         0.495745\n",
              "NU_NOTA_REDACAO -0.161202     -0.014277  ...    0.495745         1.000000\n",
              "\n",
              "[6 rows x 6 columns]"
            ]
          },
          "metadata": {
            "tags": []
          },
          "execution_count": 7
        }
      ]
    },
    {
      "cell_type": "code",
      "metadata": {
        "id": "PpTNj2w9HUQa",
        "colab_type": "code",
        "colab": {}
      },
      "source": [
        "features = ['NU_NOTA_CN','NU_NOTA_CH', 'NU_NOTA_LC', 'NU_NOTA_REDACAO']"
      ],
      "execution_count": null,
      "outputs": []
    },
    {
      "cell_type": "code",
      "metadata": {
        "id": "_ojZwJJyHePS",
        "colab_type": "code",
        "colab": {
          "base_uri": "https://localhost:8080/",
          "height": 415
        },
        "outputId": "9827a667-9e8e-4a6d-8d37-9540e9abdbf9"
      },
      "source": [
        "%matplotlib inline\n",
        "\n",
        "plt.figure(figsize=(5,5))\n",
        "sns.heatmap(df_test[features].corr(), annot=True, cmap=\"Blues\", linecolor=\"black\")\n",
        "plt.xticks(rotation=90)\n",
        "plt.show()"
      ],
      "execution_count": null,
      "outputs": [
        {
          "output_type": "display_data",
          "data": {
            "image/png": "[encoded data removed]",
            "text/plain": [
              "<Figure size 360x360 with 2 Axes>"
            ]
          },
          "metadata": {
            "tags": [],
            "needs_background": "light"
          }
        }
      ]
    },
    {
      "cell_type": "code",
      "metadata": {
        "id": "3u-emu6yHutP",
        "colab_type": "code",
        "colab": {}
      },
      "source": [
        "df_train = df_train.loc[\n",
        "      (df_train['NU_NOTA_CN'].notnull())  & (df_train['NU_NOTA_CN'] != 0) & (df_train['NU_NOTA_CH'].notnull())      & (df_train['NU_NOTA_CH'] != 0) \n",
        "    & (df_train['NU_NOTA_LC'].notnull())  & (df_train['NU_NOTA_LC'] != 0) & (df_train['NU_NOTA_REDACAO'].notnull()) & (df_train['NU_NOTA_REDACAO'] != 0)    \n",
        "]"
      ],
      "execution_count": null,
      "outputs": []
    },
    {
      "cell_type": "code",
      "metadata": {
        "id": "6gdTuWX8IXUE",
        "colab_type": "code",
        "colab": {
          "base_uri": "https://localhost:8080/",
          "height": 102
        },
        "outputId": "97fca810-fff5-4a0f-d9db-3e7ec2d557b1"
      },
      "source": [
        "df_train[features].isnull().sum()"
      ],
      "execution_count": null,
      "outputs": [
        {
          "output_type": "execute_result",
          "data": {
            "text/plain": [
              "NU_NOTA_CN         0\n",
              "NU_NOTA_CH         0\n",
              "NU_NOTA_LC         0\n",
              "NU_NOTA_REDACAO    0\n",
              "dtype: int64"
            ]
          },
          "metadata": {
            "tags": []
          },
          "execution_count": 11
        }
      ]
    },
    {
      "cell_type": "code",
      "metadata": {
        "id": "Jhd5_eFxIb66",
        "colab_type": "code",
        "colab": {
          "base_uri": "https://localhost:8080/",
          "height": 102
        },
        "outputId": "9ca7f007-3e8c-4b87-884a-30867f357355"
      },
      "source": [
        "df_test[features].isnull().sum()"
      ],
      "execution_count": null,
      "outputs": [
        {
          "output_type": "execute_result",
          "data": {
            "text/plain": [
              "NU_NOTA_CN         1134\n",
              "NU_NOTA_CH         1134\n",
              "NU_NOTA_LC         1199\n",
              "NU_NOTA_REDACAO    1199\n",
              "dtype: int64"
            ]
          },
          "metadata": {
            "tags": []
          },
          "execution_count": 12
        }
      ]
    },
    {
      "cell_type": "code",
      "metadata": {
        "id": "hjWULwI0JDE7",
        "colab_type": "code",
        "colab": {}
      },
      "source": [
        "df_train['NU_NOTA_CN'].fillna(df_train['NU_NOTA_CN'].mean(), inplace=True)\n",
        "df_train['NU_NOTA_CH'].fillna(df_train['NU_NOTA_CH'].mean(), inplace=True)\n",
        "df_train['NU_NOTA_REDACAO'].fillna(df_train['NU_NOTA_REDACAO'].mean(), inplace=True)\n",
        "df_train['NU_NOTA_LC'].fillna(df_train['NU_NOTA_LC'].mean(), inplace=True)"
      ],
      "execution_count": null,
      "outputs": []
    },
    {
      "cell_type": "code",
      "metadata": {
        "id": "XRqL_kC3JbIG",
        "colab_type": "code",
        "colab": {}
      },
      "source": [
        "df_test['NU_NOTA_CN'].fillna(df_test['NU_NOTA_CN'].mean(), inplace=True)\n",
        "df_test['NU_NOTA_CH'].fillna(df_test['NU_NOTA_CH'].mean(), inplace=True)\n",
        "df_test['NU_NOTA_REDACAO'].fillna(df_test['NU_NOTA_REDACAO'].mean(), inplace=True)\n",
        "df_test['NU_NOTA_LC'].fillna(df_test['NU_NOTA_LC'].mean(), inplace=True)"
      ],
      "execution_count": null,
      "outputs": []
    },
    {
      "cell_type": "code",
      "metadata": {
        "id": "E5U1tcATJbb1",
        "colab_type": "code",
        "colab": {}
      },
      "source": [
        "y = df_train[\"NU_NOTA_MT\"]"
      ],
      "execution_count": null,
      "outputs": []
    },
    {
      "cell_type": "code",
      "metadata": {
        "id": "WL5nUz_KJbqk",
        "colab_type": "code",
        "colab": {}
      },
      "source": [
        "#features = ['NU_NOTA_CN','NU_NOTA_CH', 'NU_NOTA_LC', 'NU_NOTA_REDACAO']\n",
        "x_train = df_train[features]"
      ],
      "execution_count": null,
      "outputs": []
    },
    {
      "cell_type": "code",
      "metadata": {
        "id": "hv9akbm3Ktdr",
        "colab_type": "code",
        "colab": {}
      },
      "source": [
        "scaler = preprocessing.StandardScaler().fit(x_train)"
      ],
      "execution_count": null,
      "outputs": []
    },
    {
      "cell_type": "code",
      "metadata": {
        "id": "-OHPbJO3K-nC",
        "colab_type": "code",
        "colab": {}
      },
      "source": [
        "x_train_scaled = scaler.transform(x_train)"
      ],
      "execution_count": null,
      "outputs": []
    },
    {
      "cell_type": "code",
      "metadata": {
        "id": "nhBhnaR2LDjv",
        "colab_type": "code",
        "colab": {
          "base_uri": "https://localhost:8080/",
          "height": 1000
        },
        "outputId": "b5c3f6a8-79ad-43f0-e635-96919bc22003"
      },
      "source": [
        "print(f\"Média:{x_train_scaled.mean(axis=1)}\")\n",
        "print(f\"Desvio Padrão:{x_train_scaled.std(axis=1)}\")"
      ],
      "execution_count": null,
      "outputs": [
        {
          "output_type": "stream",
          "text": [
            "Média:[-7.68715657e-02  4.22804469e-01 -1.95622426e-01 -3.23155923e-02\n",
            "  1.36921697e+00  4.63411533e-01 -6.52599635e-01 -7.23338230e-03\n",
            " -2.28673587e-01 -6.20934397e-01  1.35491479e+00 -1.38267258e-01\n",
            " -5.21216407e-01  1.06911230e+00 -5.95979471e-02 -7.91577598e-01\n",
            " -5.31456364e-01 -1.79872968e-01  2.58442854e-01  2.27695501e-01\n",
            " -3.88682617e-01 -3.98751528e-01 -3.02352056e-01  5.89447711e-01\n",
            " -4.41042894e-01 -2.27945758e-01 -9.74839625e-02 -2.43256020e-01\n",
            "  9.67950246e-01 -5.27205326e-01  1.06032162e+00  6.94081379e-01\n",
            "  5.45043050e-01  5.31589543e-01  7.29439094e-01 -1.43587311e+00\n",
            " -1.35702645e+00 -4.34999179e-01 -6.25117583e-01  8.18094592e-01\n",
            "  8.90494429e-01 -3.28741365e-01 -8.09313605e-01 -9.28580761e-02\n",
            "  1.36225690e+00 -7.47819959e-01 -4.41364581e-01  2.03057501e-01\n",
            "  8.74487731e-02 -5.03647489e-01 -1.65601768e-01 -7.01584836e-01\n",
            " -2.45352748e-01 -6.81882633e-01 -7.46032336e-02 -3.50994941e-01\n",
            "  3.72432832e-01 -5.54053612e-01 -9.34314967e-01 -1.26932866e-01\n",
            " -1.52211059e-01 -6.67600341e-01  3.32190293e-01 -1.16373222e-01\n",
            " -8.26138707e-01 -1.10356263e+00 -1.87969573e-01 -2.18073336e-01\n",
            " -1.60880951e+00 -2.36558417e-01  1.46965354e+00  4.21174000e-01\n",
            " -3.25384292e-01  1.17009058e-01 -4.87640413e-01  8.05237668e-01\n",
            " -6.05543785e-01  1.17972828e-01 -2.68116358e-01  4.17133755e-01\n",
            " -6.32824508e-01  6.31223087e-01  9.99782252e-01 -5.98178976e-01\n",
            "  1.54155558e+00  1.55953508e+00 -1.02110573e+00  1.44197714e-01\n",
            "  4.29757253e-01  1.85400221e-01  3.02461624e-01 -1.80510787e-01\n",
            "  6.11925979e-01 -2.40373570e-03  3.38692458e-01 -4.86292544e-01\n",
            " -4.71376436e-01  1.92663857e+00 -7.41466970e-01 -1.14793216e-01\n",
            " -8.23865724e-02  8.08148156e-01 -5.93215881e-01  8.85620409e-01\n",
            " -1.23793450e+00 -4.22453190e-02  2.05555008e+00 -1.42244517e+00\n",
            " -1.81552651e-01  4.02604817e-03  6.88810645e-01  6.28897266e-01\n",
            " -2.22300169e-01 -1.12024380e+00 -3.86870075e-01 -3.35857458e-01\n",
            " -1.17796231e+00  5.14268418e-01 -2.82095100e-01 -9.86539193e-01\n",
            " -7.04231136e-01 -6.82137133e-01 -4.83461747e-01  1.86138999e-01\n",
            "  1.43574938e-01  1.01946747e+00  2.86489394e-01  4.59394104e-02\n",
            " -1.43126966e+00  1.57825525e-02  2.52728731e-01 -3.68468091e-01\n",
            " -7.29817329e-01 -2.30128533e-01  1.12292128e+00  4.88120153e-01\n",
            " -5.34085951e-01 -7.62276168e-01  1.32946710e+00 -1.15122895e+00\n",
            "  5.86524149e-01 -1.07406527e+00  1.69517010e+00 -4.22271370e-01\n",
            " -4.89877224e-03  1.87503691e+00 -9.75070930e-01 -3.40452487e-01\n",
            " -6.32633105e-01 -1.65591246e-01  1.50032315e+00  7.99897774e-01\n",
            " -2.45191203e-01  2.06616783e-01  2.66150202e-01  1.55107544e+00\n",
            " -4.86244484e-01  3.85166571e-01 -3.53702293e-01  2.11084747e+00\n",
            "  8.73950687e-01 -2.28767872e-01 -3.55104954e-01 -1.47403304e+00\n",
            " -3.43740671e-01 -2.71149618e-01 -1.21260562e+00 -6.11352525e-02\n",
            "  1.68649727e+00 -3.84593858e-01 -4.77321522e-01  4.94021996e-01\n",
            "  2.35881868e-01 -5.32240017e-01 -3.37623020e-01 -7.26797249e-01\n",
            " -1.24166064e+00 -3.66055590e-01  1.41645290e+00 -7.70414350e-01\n",
            " -3.91031584e-01 -7.78646836e-01 -7.50651539e-01  2.41880803e-01\n",
            " -7.71318737e-01 -2.43331088e-02 -1.35996819e+00 -4.42501499e-01\n",
            "  4.83273394e-01 -7.77857282e-01  7.69194293e-01 -1.00450334e+00\n",
            "  8.05826215e-01  1.01535069e+00 -6.64422222e-02  1.93507107e-01\n",
            " -5.11135654e-01 -6.19411942e-01  3.32968698e-01 -1.24358694e+00\n",
            " -4.31666377e-01  1.92037346e-01  3.20028473e-01 -4.12544096e-01\n",
            "  1.86496281e+00  6.51315416e-01  4.08319122e-02  6.62190076e-03\n",
            "  4.84269541e-02 -6.84774648e-01  4.29450180e-01  1.05106166e-02\n",
            "  1.20821440e-01 -9.58630703e-01 -6.34370938e-01  3.22941777e-01\n",
            "  2.64498945e+00  2.91949502e-01  1.84512095e+00  2.68753025e-01\n",
            "  5.37180040e-01 -2.95869039e-01 -1.05782757e+00 -1.28954835e-01\n",
            " -1.30487461e+00  7.69707102e-01  8.12956424e-01 -2.03703097e-01\n",
            "  5.10320224e-01 -1.37201877e+00 -7.14836734e-01 -1.01885893e+00\n",
            "  6.20002087e-01  4.56942446e-01  2.07599619e-01 -2.79909446e-01\n",
            " -1.51990981e-01  5.74425656e-01 -8.65310924e-01 -7.83249423e-01\n",
            "  4.94245140e-03 -1.02951284e+00 -8.67182269e-01  4.37384415e-01\n",
            " -1.60005265e+00  6.44438877e-01 -2.58223714e-01  1.15824515e+00\n",
            "  3.92804531e-01 -3.36694675e-01  1.37675930e-01  3.53782298e-01\n",
            "  9.66839168e-01  2.42874184e-02  7.74929978e-01 -6.93966703e-02\n",
            " -4.47184605e-01  1.77113166e+00  9.98433721e-01  2.75549272e-01\n",
            "  5.65758663e-01 -6.54996947e-01  1.12714410e-01  4.52962107e-01\n",
            " -5.21913159e-01  2.21175112e-01 -2.04457010e-01  5.35435722e-02\n",
            " -1.17259773e+00 -1.49341888e+00  5.59638198e-01 -4.56633240e-01\n",
            "  2.90803176e-01  1.43712458e+00  6.31057916e-01  1.07918016e+00\n",
            " -3.66217605e-01  9.39200215e-01  1.92384303e-02 -5.15948770e-01\n",
            "  7.33587044e-01  1.93381379e-01 -5.72518555e-01 -1.60843751e-01\n",
            "  2.16004879e-01  1.45363431e-01 -6.56974710e-01  1.71806095e+00\n",
            " -9.19293536e-01 -6.75169942e-02 -4.08269117e-01  2.12247514e+00\n",
            " -2.79350219e-01 -1.17405571e+00  3.28150260e-01 -1.45607335e-01\n",
            "  1.38459929e-01  7.19602999e-01  1.98507613e-01  1.23679742e-01\n",
            " -8.07094607e-01  9.84436349e-01  5.21957231e-01  1.22418066e+00\n",
            "  1.53779610e-01  6.67106176e-01 -1.23632704e-01 -3.04377855e-01\n",
            "  4.82327223e-01  2.74758768e-01 -7.84430464e-02 -5.92252387e-01\n",
            " -1.07516237e+00 -4.10069498e-02  2.79875403e-01 -4.23235390e-01\n",
            "  2.81274273e-01 -5.94015546e-01 -7.57506032e-01 -5.97091928e-01\n",
            "  7.97399755e-01  1.53896921e+00 -2.76436505e-01 -1.33653182e+00\n",
            "  6.50630557e-01  8.83295699e-02 -5.00616880e-01 -1.00048529e+00\n",
            " -1.31613041e-01  1.77489868e+00 -3.32517441e-01  4.48432373e-01\n",
            " -9.63724797e-01 -5.76868469e-02  1.06738952e-01  1.05926486e+00\n",
            " -4.24552598e-01 -1.32039606e+00  4.31179809e-01 -7.23318002e-02\n",
            " -8.32652018e-01  1.07851573e+00  9.57000544e-01 -4.96945408e-01\n",
            " -8.11074157e-01 -8.75054462e-01  4.76141587e-01 -1.07639562e+00\n",
            "  1.00877128e-01 -5.18424427e-01  3.38245815e-01  2.69499589e-01\n",
            " -1.09365560e+00 -7.59389876e-02 -2.04791534e-01 -1.21874092e+00\n",
            " -8.13124236e-01 -9.77386651e-01 -3.59302459e-01 -8.04539593e-01\n",
            " -7.19780866e-01  1.58079372e-01 -8.68263965e-02  6.18536790e-01\n",
            "  5.30725058e-01  2.61322087e+00 -2.42401042e-01 -8.60507909e-01\n",
            "  1.36384706e+00 -4.82057896e-01 -5.64099769e-01 -7.93191666e-01\n",
            " -9.59824876e-01 -7.02505959e-01  1.22415572e+00 -3.42058280e-01\n",
            " -9.49282754e-01 -3.93486500e-01 -5.91042037e-01  8.88093116e-01\n",
            "  2.84465964e-01  1.73319679e+00  1.47398938e-01 -1.58607528e+00\n",
            "  2.33141003e-01  1.52092102e+00  1.40669091e+00  6.89215040e-01\n",
            " -7.15994005e-01 -1.51437616e-01 -8.57914783e-01  2.78505230e-01\n",
            "  3.46113303e-01  1.80338083e+00 -4.72472956e-01 -5.17086871e-01\n",
            "  4.77882489e-01  1.16180648e+00  1.18946790e-01  6.76346034e-01\n",
            " -6.05543107e-01  1.95804241e+00 -4.48232556e-01 -2.30080670e-01\n",
            " -5.88594726e-01  8.03177901e-01  6.66698875e-01 -9.24012403e-01\n",
            " -1.34334473e+00 -9.95015359e-01  1.72196492e+00  3.55474220e-01\n",
            "  6.82519279e-01 -3.39760312e-01 -1.43547678e+00 -3.94531389e-01\n",
            " -2.79423090e-02  1.16757804e-02  1.33840396e-01 -2.08586833e-01\n",
            "  9.78800891e-01  3.51390424e-01  2.35481308e-01  1.31561475e+00\n",
            " -1.58303810e+00 -1.13265964e+00 -5.32355353e-01  8.08056310e-01\n",
            "  4.82113489e-01  1.14756399e-01 -5.02223581e-01  2.05650998e-01\n",
            "  2.64191515e-01 -3.13494732e-01 -2.96663720e-02  3.85213976e-01\n",
            " -3.83175608e-01  1.35552186e+00 -6.47519921e-01 -1.26725147e+00\n",
            " -9.17817812e-01 -1.08543042e+00 -3.85993977e-01  1.19810011e+00\n",
            "  1.93744202e-01 -1.04958019e+00 -1.36642382e-01 -1.92279791e-01\n",
            "  3.90858085e-01  5.06564315e-01  1.48011217e+00 -8.34473830e-01\n",
            " -1.50579381e+00 -6.90408593e-01  6.22681308e-01  6.04379702e-01\n",
            "  1.76803721e-01 -5.29865383e-01 -6.31427569e-01  3.04187809e-01\n",
            " -1.92575574e-01 -7.92076131e-01 -4.52029043e-01 -1.45126425e-01\n",
            "  1.60736314e+00  3.56845415e-01 -5.13439488e-01 -3.28702961e-01\n",
            " -8.71087944e-01  3.35300020e-01 -1.13807460e+00  4.78466024e-01\n",
            "  8.14599976e-01 -1.14481039e+00 -1.00465664e+00  1.62130293e+00\n",
            " -4.87469278e-01  1.28214792e+00 -6.56970561e-02  1.33702885e+00\n",
            " -1.52899728e-01 -7.94912722e-01 -2.19220471e-01  9.46680281e-01\n",
            "  1.04446380e+00 -6.63808526e-01  4.79119525e-01 -8.85872234e-01\n",
            " -2.00247565e-01 -6.72365131e-01  6.51280454e-01  2.38098956e+00\n",
            "  2.42765761e+00 -1.52365260e+00 -8.52560720e-02 -2.97166254e-01\n",
            " -6.04749145e-01  2.38305991e+00 -2.04395963e-01 -6.86385292e-01\n",
            "  9.85902666e-01 -5.11535869e-01 -9.71894920e-01  6.04547196e-01\n",
            " -4.66500657e-02  7.06090670e-01 -5.03876872e-01 -8.85946348e-01\n",
            " -6.52775391e-01 -1.18300713e-01 -5.43877321e-01 -9.08479647e-01\n",
            "  9.27125120e-01 -1.95033404e-01  9.20957500e-01  4.35338602e-01\n",
            " -3.54706072e-01  2.45066603e+00  1.14054825e-01 -3.73980487e-01\n",
            " -6.38808969e-01  7.12137279e-01  2.01373684e+00 -8.87965507e-01\n",
            "  1.27805834e+00 -4.53312690e-01 -6.03083825e-01 -1.47292117e+00\n",
            " -8.32180624e-01  1.56540127e+00  1.47222629e+00 -7.40054293e-02\n",
            " -3.01441592e-01  5.05019140e-01  1.71935255e+00 -1.21116568e+00\n",
            " -7.16330646e-01  1.83274904e-01  1.62567749e+00 -3.14256034e-02\n",
            "  7.59210663e-01 -3.29804070e-01 -4.37387911e-02 -1.93598553e-01\n",
            " -1.61607558e-01  1.07773062e-01  2.39015448e-01  1.90923131e+00\n",
            " -4.05188595e-01  8.17481471e-01 -2.26336286e-01 -8.61788024e-02\n",
            " -8.79985263e-01  7.21879432e-01  7.35947663e-01 -3.59787188e-02\n",
            " -4.72129204e-01  1.11876191e+00  1.22110319e+00  1.45026537e+00\n",
            "  3.87485053e-01 -1.70471007e+00 -5.12524295e-01 -7.22043010e-01\n",
            "  2.46547833e-01 -1.12375237e-01  1.88911684e+00 -1.99880106e-02\n",
            " -1.12961722e+00 -1.66768730e-01 -6.47042096e-01  2.36533727e-01\n",
            "  6.26411279e-01 -4.82170583e-02 -6.65548283e-01  7.71910616e-01\n",
            " -7.86281614e-01 -6.84611904e-01 -5.62112710e-01  1.18074698e-01\n",
            " -2.11986505e-01  7.95473737e-01 -2.37430920e-02 -2.96729976e-01\n",
            "  2.44352558e-01  7.92623041e-02 -2.33221429e-01 -6.19642695e-02\n",
            " -1.30186149e-01 -9.34010628e-01  9.35501852e-01 -2.40712732e-01\n",
            "  3.34954316e-01  4.53421537e-01 -1.34749634e+00  2.80458575e-02\n",
            "  5.34354288e-01 -5.60412618e-01 -8.17958771e-01 -4.17450345e-03\n",
            "  9.11579154e-02 -2.32226721e-01  2.67382251e-01 -1.13402199e+00\n",
            "  2.54137119e-02  4.27623290e-01  1.61948628e+00 -7.95824108e-01\n",
            " -8.74158379e-02 -2.62499621e-01  3.35577793e-01 -8.19891107e-03\n",
            "  1.43499574e-01 -8.66795503e-01  1.73632438e+00 -3.07469224e-01\n",
            "  1.70116292e+00  8.38761427e-03  1.32961411e-01 -1.95591972e-01\n",
            "  3.50458196e-01 -9.62960781e-01  1.09072522e-01 -1.44537566e-01\n",
            " -1.15544178e-02  6.36203763e-01  1.36468974e+00 -3.28125238e-01\n",
            "  5.96318135e-01 -8.05825828e-01  2.03204445e-01 -8.23067860e-01\n",
            " -7.23826971e-01  1.10237307e+00  4.59044959e-01  8.71656462e-02\n",
            " -9.65793123e-01 -1.21419576e+00  3.46561706e-01 -3.84810881e-01\n",
            " -9.24356714e-01 -3.82470212e-01 -8.19858122e-01 -1.37861303e+00\n",
            "  1.63198144e+00  9.44097596e-01 -5.41305262e-01 -3.06356755e-02\n",
            " -6.71076802e-01 -5.43168653e-01 -6.43942115e-01 -1.47326677e+00\n",
            "  9.63302424e-01 -4.38751417e-01  2.29253185e+00  1.32436018e+00\n",
            " -1.37763390e+00 -4.18487559e-01 -8.24520836e-01  8.73883016e-02\n",
            " -9.38981329e-02  9.70269023e-01  1.09336469e+00 -2.16798360e-01\n",
            " -1.03872041e+00 -7.78523377e-01 -2.04430312e-01  8.05253464e-02\n",
            "  9.42324401e-02 -1.07593168e+00 -9.51602284e-01  1.09142559e-01\n",
            " -5.17906428e-01  3.92455958e-01 -3.97027389e-01 -1.80905403e-01\n",
            " -7.54824234e-01  9.13955809e-02  4.15810369e-01  1.18798078e+00\n",
            "  8.17332035e-01 -1.02411065e+00 -4.90415140e-01 -2.58629544e-01\n",
            "  2.64336052e-01  1.46350758e+00  3.73373930e-01  5.44019259e-01\n",
            " -2.84070959e-02 -1.00535592e+00  6.54527151e-01 -7.80750036e-01\n",
            "  1.33739424e-01 -3.57146202e-01 -2.96778973e-01  1.35767654e+00\n",
            "  6.39335541e-01  4.43467884e-01 -2.91372535e-01 -4.83383113e-02\n",
            "  2.97009743e-01 -8.65061318e-01  4.67678689e-01  5.46544757e-01\n",
            " -8.33716506e-01  1.45818940e-01  1.45457824e+00  1.64557043e-01\n",
            " -2.66338958e-01  1.42833232e+00  4.41995967e-01 -7.77204827e-01\n",
            " -1.26935973e+00 -4.21951259e-01  4.33317872e-01 -2.02173481e-01\n",
            "  1.08135371e+00 -1.39155261e+00  5.62507296e-01  5.91900929e-01\n",
            " -3.77817078e-01  5.52649077e-01  1.64385301e+00  1.14314788e+00\n",
            "  4.80910242e-01 -1.01649477e+00  8.82021444e-01 -2.59126561e-02\n",
            " -3.56480777e-01 -6.30964376e-01 -7.84791871e-01  5.34108443e-01\n",
            "  3.87230626e-02 -8.96350223e-01 -6.38161315e-01  6.60057063e-01\n",
            " -3.71241684e-01 -7.83952587e-01 -1.05716106e+00 -5.51354759e-02\n",
            " -9.60842471e-01 -7.50631679e-01  2.00204044e+00 -8.30566330e-01\n",
            " -6.69339242e-01 -1.34778241e-01  6.68400446e-01  1.41646135e+00\n",
            " -7.13243602e-01 -1.93081900e-01  2.66939325e-01  3.20858549e-01\n",
            "  4.37594676e-01  2.33872402e-01 -5.39029992e-01 -8.60189547e-01\n",
            "  7.37621389e-01 -5.64516016e-01 -4.69724499e-01 -1.24643472e-01\n",
            " -4.76269513e-02  1.48432421e+00 -1.27077558e-01  1.84399058e+00\n",
            "  6.18512712e-01  2.18157739e-01 -1.03528954e+00 -2.17971062e-01\n",
            "  6.18473677e-01  9.24830637e-01 -1.23057119e-01 -5.02982372e-01\n",
            " -9.92713143e-01  1.72626672e+00  2.00968976e-01  4.51257671e-01\n",
            "  8.56242209e-02  1.25596255e-01  8.91234485e-01 -3.71853569e-01\n",
            " -3.67029232e-01  8.35752054e-01 -9.66960664e-01 -7.35509575e-01\n",
            " -4.96272317e-01 -9.60067266e-02  2.97513972e-01  1.86179039e+00\n",
            " -9.32935246e-01 -4.91158029e-01 -7.21560837e-01  1.20445392e+00\n",
            " -4.41100098e-01  7.90132157e-01 -5.83989814e-01 -7.00407465e-01\n",
            "  3.09109001e-01 -7.07886643e-01  8.88861422e-01 -1.50892338e+00\n",
            " -1.44579919e+00 -9.37311183e-01 -6.24774768e-01  3.08841261e-01\n",
            " -1.19422828e+00  7.97196904e-01 -5.71059036e-01 -2.72661227e-01\n",
            "  1.34651132e-01 -8.08086265e-01 -1.59652394e-01 -1.25129479e+00\n",
            " -4.08324243e-01  2.93480160e-01 -4.90588014e-01 -4.46253800e-02\n",
            "  1.70227979e+00 -7.54362876e-01 -5.56677293e-02 -8.57906845e-01\n",
            " -1.79140226e-01  4.29247369e-01 -9.87542078e-02  4.86132673e-01\n",
            "  3.62650958e-01  1.02422122e+00  1.16520543e-01 -1.13536206e+00\n",
            " -2.22653922e-01 -2.97568241e-01 -1.07703946e+00 -1.69924180e-01\n",
            " -1.05002072e+00  4.06510153e-01  5.97416799e-01  3.91776169e-02\n",
            " -8.00437732e-01 -6.59142028e-01 -9.70153808e-01 -4.27671026e-02\n",
            "  4.57615510e-01 -1.85272098e-02 -1.13792453e+00  1.96928988e-01\n",
            " -3.51275799e-01 -3.30148873e-01 -9.30438140e-01 -2.70019710e-01\n",
            "  9.03287355e-01 -2.79787092e-01  1.26770377e+00  4.45895389e-01\n",
            "  7.65154207e-01  8.90664235e-01  2.01693041e-01 -1.96954358e-01\n",
            "  4.05147000e-01  2.58591587e-01  5.42500804e-01]\n",
            "Desvio Padrão:[0.6131491  0.4723877  0.94482302 0.6866734  0.54447128 0.37641763\n",
            " 0.76966261 0.37889849 1.06907101 0.63518024 0.12952368 0.30643433\n",
            " 0.8977487  0.68748961 0.49987872 0.52068659 0.50483859 0.21715248\n",
            " 1.00320742 1.0211619  0.49535994 0.88775865 0.25630716 0.67591226\n",
            " 0.6330019  0.51530328 0.69260999 0.54360373 0.76260605 0.56695051\n",
            " 0.39503994 0.88835621 0.46168341 0.41681646 0.21139698 0.44751991\n",
            " 0.22022859 0.45472875 0.48179213 0.62059192 0.63010194 0.57973996\n",
            " 0.85793985 0.60227373 0.49595959 0.47740182 0.5705978  1.04448943\n",
            " 0.44042774 0.45653545 0.53840533 0.4250974  0.77077932 0.43798572\n",
            " 0.47639335 0.27966466 0.28881737 0.80617713 0.13669905 0.20358889\n",
            " 0.24179262 0.48973448 0.44098415 0.27189703 0.61034311 0.83457512\n",
            " 0.06479027 0.66041891 0.71762041 0.4415404  0.26316037 0.30991971\n",
            " 0.65479679 0.47248981 1.03782774 0.68749239 0.42173697 0.63878169\n",
            " 0.81704054 0.4438695  0.77425791 0.31568091 0.5314175  0.49778743\n",
            " 0.51019634 0.91122293 0.43901885 0.9341967  0.18143196 0.20729342\n",
            " 0.22151474 0.64486898 0.50964487 0.46834105 0.12479462 0.37676035\n",
            " 0.57591678 0.26916265 0.60234546 0.7954811  0.33793424 1.02265379\n",
            " 0.35228388 0.2894829  0.51349748 0.54085024 0.48410196 1.02745558\n",
            " 0.56504332 0.44508057 0.59737406 0.61392032 0.42791284 0.82136085\n",
            " 0.48459928 0.33362415 0.82244292 0.59117243 0.93958682 0.21700771\n",
            " 0.28151977 0.61233024 0.43511372 0.72494358 0.73249617 0.24498847\n",
            " 0.47091244 0.51918296 0.72075605 0.35223024 0.71156788 0.32479998\n",
            " 0.18869259 0.13234889 0.35783412 0.25077754 0.74604477 1.02724536\n",
            " 0.23291065 0.53564187 0.69595678 0.30982906 0.60008696 0.72461027\n",
            " 0.37085288 0.26005548 0.89791341 0.38646676 0.69746314 0.64039707\n",
            " 0.32510744 0.42070179 1.03606208 0.75739749 0.50442778 0.3216701\n",
            " 0.8449406  0.32581348 0.84976714 0.62737477 0.19436368 0.76451438\n",
            " 0.35232866 0.33652517 0.28190548 0.26925315 0.92119899 0.87187819\n",
            " 0.86715569 0.31466916 0.23586782 0.33777593 1.01977575 0.76768214\n",
            " 0.1501859  0.75264609 0.4556092  0.53546285 0.4243309  0.23837642\n",
            " 0.12103393 0.15925561 0.82527892 0.59177078 0.5818628  0.25377827\n",
            " 1.33827644 0.60118057 0.45789762 0.37060933 0.60677757 0.43978827\n",
            " 0.27884355 0.21047843 0.5278344  0.42295298 0.38277337 0.4661323\n",
            " 0.25278118 0.66119492 0.75199559 0.66223624 0.35730144 0.37415745\n",
            " 0.43998389 1.05157441 0.23873957 0.25138513 0.4903054  0.28623859\n",
            " 1.27208554 0.22558073 0.55318339 0.55033927 0.27201586 0.38696496\n",
            " 0.51622319 0.40146395 0.53643463 0.4180559  0.59313703 0.74447168\n",
            " 0.2574388  0.22614466 0.55343654 1.25923401 0.27228088 0.57322167\n",
            " 0.75254987 1.34677501 0.58765825 1.00242005 0.65215147 0.7331211\n",
            " 0.58811242 0.60048575 0.17882648 0.29607819 0.80678361 0.50131492\n",
            " 0.33203612 0.27977396 0.51282374 0.44868198 0.62073964 0.55478483\n",
            " 0.37216516 0.35965867 0.67178969 0.73988435 0.71050573 0.40275011\n",
            " 0.7135645  0.58188358 0.73533279 0.37568514 0.91497803 1.01342491\n",
            " 0.23592845 0.82875883 0.53190856 0.526965   0.21711544 0.90897804\n",
            " 0.57110145 1.07652302 0.79355253 0.26184523 0.43030993 0.49184746\n",
            " 0.51098331 0.74854595 0.2405692  0.57561652 1.13747186 0.34599419\n",
            " 1.59188635 0.25506236 0.60998539 0.40911836 0.21670856 0.7597044\n",
            " 0.64879569 0.04301922 0.50684967 0.66198411 0.83800917 0.06870109\n",
            " 1.06624775 0.16471847 0.32224928 0.53455205 0.45191545 0.42279354\n",
            " 0.69451227 0.3195342  0.72749414 0.45340116 0.23531354 0.56954327\n",
            " 0.28103778 0.60620284 0.94107785 0.18188873 0.48563985 0.53734102\n",
            " 0.2740692  0.2471256  0.15014021 0.42311333 0.34668635 0.42781434\n",
            " 0.92127404 0.69218069 0.54291088 0.37582885 0.18333925 0.4163827\n",
            " 0.69710229 0.19978593 0.40681058 0.3971589  0.87121336 0.37850941\n",
            " 0.52031863 0.31181107 0.53253661 0.51343899 0.42524005 0.58314281\n",
            " 0.57357431 0.53110881 0.65701378 0.83459633 0.45638816 0.48523465\n",
            " 0.53757187 0.82276229 1.03970479 0.95366912 0.67227886 0.38909249\n",
            " 0.46185246 0.29635825 0.32419861 0.78888748 0.23479162 0.59330207\n",
            " 0.25234183 0.61629074 0.3787691  0.21068716 0.63787716 0.12282258\n",
            " 1.64682686 0.26672166 0.39443726 0.80082808 0.33390183 0.68640634\n",
            " 0.89361875 0.43462245 0.90692193 0.24457263 0.43003297 0.60240446\n",
            " 0.35468721 0.68657972 0.25833057 0.11567379 0.44651869 0.37746994\n",
            " 0.53878885 0.59752993 0.74611106 0.43600473 0.65153755 0.24241551\n",
            " 0.32120615 0.29858301 0.57751879 0.48930128 0.16584775 0.23349837\n",
            " 0.5589706  0.82322422 0.45052529 0.48032489 0.70411243 0.45371849\n",
            " 0.55504925 0.31221561 0.36732669 0.63292479 0.31439725 0.43601106\n",
            " 0.73748558 0.26782937 0.73819719 0.55549068 1.31116882 0.71103938\n",
            " 0.52338449 0.59578753 0.55851114 0.59754423 0.4721593  0.37863521\n",
            " 0.67129068 0.50530094 0.64714109 1.04880953 0.67946464 0.84705276\n",
            " 1.24763646 0.27293327 0.38309223 0.97854457 0.33815171 0.22726071\n",
            " 0.85976263 0.59179453 0.14374596 0.7555371  0.77078777 0.8494957\n",
            " 0.4821626  0.10828041 0.965661   1.00941693 0.49416344 0.25926833\n",
            " 0.70071527 0.37599676 0.60462269 0.1710329  0.69132829 0.64629306\n",
            " 0.63445047 0.37667163 0.39731208 1.03273424 0.89631899 0.64837231\n",
            " 0.95641379 0.51307769 0.33684594 0.65471711 1.00696992 0.93528059\n",
            " 0.91802262 0.49431553 0.66564833 0.27967363 0.47859891 0.86429698\n",
            " 0.75624804 0.60058998 0.64320373 0.36885066 0.42757174 0.29676579\n",
            " 0.43290548 0.90839498 0.42830719 0.37751737 0.50907077 0.86401407\n",
            " 0.77623927 0.62570867 0.19577965 0.42659743 0.62810379 0.9692302\n",
            " 0.74366564 0.26736671 0.48346817 0.68415725 0.57074458 0.29440516\n",
            " 0.43374687 0.96771584 0.62872942 1.05048634 0.80026547 0.70263022\n",
            " 0.4174323  0.55109791 0.55562356 0.65415918 0.68626452 0.75580775\n",
            " 0.98884041 1.14621984 0.45735958 0.32406557 0.50911715 0.17005223\n",
            " 0.64110696 0.52399277 0.75984508 0.93415594 1.20721677 0.31319791\n",
            " 0.8008536  0.55990519 0.35857313 0.70156643 0.38171762 0.47593012\n",
            " 0.57610558 0.26677923 1.26622015 0.42915851 0.46868789 0.96130625\n",
            " 0.51833019 0.45756509 0.62085788 0.57046123 0.81657752 0.36473421\n",
            " 0.82437429 0.36296883 1.00763406 0.26445808 0.44478459 0.4289556\n",
            " 0.48840056 0.94915043 0.70232755 0.14864375 0.24311358 0.34443539\n",
            " 0.7152294  0.42101262 0.35857154 0.26271293 0.45425366 0.41747193\n",
            " 0.17346023 0.8974259  0.42561703 0.55406175 0.21061947 0.70804944\n",
            " 0.23599852 0.63590233 0.58838748 0.49953854 0.18611677 0.42721921\n",
            " 0.37395282 0.92986683 1.13595636 0.36965674 0.85599561 0.15231098\n",
            " 0.20540293 0.87063515 0.71002623 0.3816417  0.37107298 0.49849133\n",
            " 0.55772145 0.69116739 0.32231252 0.4571071  0.66831475 0.55308984\n",
            " 0.71455951 0.40718792 0.48118138 0.1171917  0.41282748 0.43300771\n",
            " 0.72472463 0.52367425 0.65813958 0.36198885 0.64387473 0.62364048\n",
            " 1.2483515  0.38516922 0.66221293 0.80336547 0.55871568 0.46779627\n",
            " 0.2409319  0.91382413 0.40804476 0.35181444 0.56154408 0.13979847\n",
            " 0.43717911 0.44173332 0.14300822 0.79579684 0.42697768 0.59676469\n",
            " 0.3637069  0.1480401  0.97325864 0.39589978 0.9651211  1.09196\n",
            " 0.54279625 0.59458354 0.45421842 0.58244608 0.36709962 0.9226748\n",
            " 1.08867054 0.50863506 0.87136806 0.25375771 0.63154486 0.48387061\n",
            " 0.63536237 0.25975675 0.45342468 0.62932672 0.59007104 0.91698623\n",
            " 0.43270717 0.26041141 0.43009819 0.76116505 0.2655715  0.68724318\n",
            " 0.73016953 0.5772492  0.39241955 0.55998724 0.65313098 0.33559809\n",
            " 0.50877113 0.42773038 0.46313858 0.59819025 0.61726831 0.53945168\n",
            " 0.9163903  0.94569188 0.51023284 0.66066176 0.63934915 0.68534573\n",
            " 0.40619024 0.58091551 0.61911301 0.32989326 0.19745598 0.46216724\n",
            " 0.48292239 0.07981375 0.55016017 0.68090048 0.87952175 0.56329009\n",
            " 0.29222028 0.43454887 0.4153509  0.47068947 0.38823975 1.1296152\n",
            " 0.73160231 1.23043602 0.28469349 0.60638234 0.52378221 0.49545257\n",
            " 0.46244823 0.41646692 0.6228589  0.94927537 0.44880334 0.64826582\n",
            " 0.48928421 0.21598923 0.66458067 0.81647346 0.53488281 0.35174113\n",
            " 0.56147839 0.25242996 0.52167341 0.187758   0.35933757 0.52754893\n",
            " 0.55187053 0.48487482 0.83306324 0.58992214 0.18757472 0.31260948\n",
            " 0.92915341 0.31487566 0.82323246 0.43143846 0.52575278 0.28953439\n",
            " 0.27079765 0.19597056 0.55835168 0.61519826 0.5524328  0.2999527\n",
            " 0.18502304 0.57487402 0.58608298 0.448287   0.34810294 0.62234393\n",
            " 0.34099182 0.4456155  0.18317771 0.79558375 0.41980796 1.08636642\n",
            " 0.26629465 0.71323315 0.39386133 0.41329774 0.19474162 0.84882036\n",
            " 0.3704873  0.78428843 0.38149256 0.44947798 0.48032862 0.60637034\n",
            " 0.72097515 0.88709541 0.33689807 0.70819959 0.52420277 0.46941413\n",
            " 0.34469217 0.25688611 0.19285843 0.46917644 0.93196884 0.46427397\n",
            " 0.5790582  0.40527918 0.68636017 0.33437866 0.36619494 1.06407895\n",
            " 0.38815237 0.62610974 0.27481544 0.44402576 0.62856896 0.34943858\n",
            " 0.76089462 0.38389067 0.31919929 0.33449643 0.44769859 0.55930482\n",
            " 0.50426166 0.46069333 0.83537682 0.36394653 0.66660471 0.13845455\n",
            " 0.37044358 0.69091808 0.66143387 0.39457064 0.69282118 0.3569574\n",
            " 0.52271947 0.50233853 0.99373943 0.26251723 0.69865115 0.5304431\n",
            " 0.17482455 0.47686628 0.53153387 0.63333997 0.40592641 0.32973213\n",
            " 0.54303221 0.48918457 0.76806779 0.61553861 0.6492447  0.60399184\n",
            " 0.50232786 0.45396748 0.77400415 0.43810081 0.39082262 0.94841066\n",
            " 0.5425848  0.70425856 0.97495376 0.60625435 0.89284522 0.78145862\n",
            " 0.98846252 0.43179204 0.69997497 0.3523813  0.6211772  0.65593759\n",
            " 0.7174274  0.83113981 0.65792803 0.23200606 0.75607908 0.38312055\n",
            " 0.33481876 0.54475129 0.46987068 0.51253082 0.41122687 0.56983516\n",
            " 0.26549065 1.17261105 0.34476442 0.62176125 0.2686121  0.31063227\n",
            " 0.40467671 0.97053724 0.21032461 0.47716616 0.56001505 0.34934989\n",
            " 0.57504854 0.55238118 0.37980747 0.59095677 0.59813228 0.21240915\n",
            " 0.43500572 0.92406339 0.62345728 1.16933762 0.39776154 0.60280042\n",
            " 0.47339795 0.24126373 0.24604052 0.62182271 0.7198946  0.16386691\n",
            " 0.60565214 0.47939472 0.59184737 0.4803696  1.04109124 0.50458929\n",
            " 0.32340537]\n"
          ],
          "name": "stdout"
        }
      ]
    },
    {
      "cell_type": "code",
      "metadata": {
        "id": "IUYaAlqqLgOm",
        "colab_type": "code",
        "colab": {}
      },
      "source": [
        "x_test = df_test[features]"
      ],
      "execution_count": null,
      "outputs": []
    },
    {
      "cell_type": "code",
      "metadata": {
        "id": "L1ktqTl0LnX2",
        "colab_type": "code",
        "colab": {}
      },
      "source": [
        "pipeline = make_pipeline(preprocessing.StandardScaler(),\n",
        "                         RandomForestRegressor(\n",
        "  n_estimators=1200, n_jobs=-1, warm_start=True \n",
        "))"
      ],
      "execution_count": null,
      "outputs": []
    },
    {
      "cell_type": "code",
      "metadata": {
        "id": "yiZ_DyINL-2r",
        "colab_type": "code",
        "colab": {}
      },
      "source": [
        "hiper_parametros = {'randomforestregressor__max_features':['auto','sqrt','log2'],\n",
        "                    'randomforestregressor__max_depth':[None, 5, 3, 1]}"
      ],
      "execution_count": null,
      "outputs": []
    },
    {
      "cell_type": "code",
      "metadata": {
        "id": "pDwf-7kpMRbg",
        "colab_type": "code",
        "colab": {}
      },
      "source": [
        "clf = GridSearchCV(pipeline, hiper_parametros, cv=200)\n",
        "clf.fit(x_train_scaled, y)"
      ],
      "execution_count": null,
      "outputs": []
    },
    {
      "cell_type": "code",
      "metadata": {
        "id": "nzM3cYbyMeXL",
        "colab_type": "code",
        "colab": {}
      },
      "source": [
        "print(clf.best_params_)"
      ],
      "execution_count": null,
      "outputs": []
    },
    {
      "cell_type": "code",
      "metadata": {
        "id": "QepKbeGIN_MK",
        "colab_type": "code",
        "colab": {}
      },
      "source": [
        "pred_notas = clf.predict(x_test)"
      ],
      "execution_count": null,
      "outputs": []
    },
    {
      "cell_type": "code",
      "metadata": {
        "id": "iddMXSwiOGzH",
        "colab_type": "code",
        "colab": {}
      },
      "source": [
        "df_resposta['NU_NOTA_MT'] = np.around(pred_notas,2)"
      ],
      "execution_count": null,
      "outputs": []
    },
    {
      "cell_type": "code",
      "metadata": {
        "id": "QcJ7ufF_OMlO",
        "colab_type": "code",
        "colab": {}
      },
      "source": [
        "df_resposta['NU_NOTA_MT'].unique()"
      ],
      "execution_count": null,
      "outputs": []
    },
    {
      "cell_type": "code",
      "metadata": {
        "id": "ShOyedidOQT3",
        "colab_type": "code",
        "colab": {}
      },
      "source": [
        "df_resposta.to_csv(\"answer.csv\", index=False, header=True)"
      ],
      "execution_count": null,
      "outputs": []
    },
    {
      "cell_type": "code",
      "metadata": {
        "id": "fGZJhghsOsId",
        "colab_type": "code",
        "colab": {}
      },
      "source": [
        "joblib.dump(clf, \"rf_regressor.pkl\")\n",
        "\n",
        "clf2=joblib.load(\"rf_regressor.pkl\")\n",
        "clf2.predict(x_test)"
      ],
      "execution_count": null,
      "outputs": []
    },
    {
      "cell_type": "code",
      "metadata": {
        "id": "BhcVv5EiO3RN",
        "colab_type": "code",
        "colab": {}
      },
      "source": [
        ""
      ],
      "execution_count": null,
      "outputs": []
    }
  ]
}