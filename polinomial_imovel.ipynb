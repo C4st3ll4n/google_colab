{
  "nbformat": 4,
  "nbformat_minor": 0,
  "metadata": {
    "colab": {
      "name": "polinomial_imovel.ipynb",
      "provenance": [],
      "authorship_tag": "ABX9TyOcCdEjFptY99u8yTlpNjar",
      "include_colab_link": true
    },
    "kernelspec": {
      "name": "python3",
      "display_name": "Python 3"
    }
  },
  "cells": [
    {
      "cell_type": "markdown",
      "metadata": {
        "id": "view-in-github",
        "colab_type": "text"
      },
      "source": [
        "<a href=\"https://colab.research.google.com/github/C4st3ll4n/google_colab/blob/master/polinomial_imovel.ipynb\" target=\"_parent\"><img src=\"https://colab.research.google.com/assets/colab-badge.svg\" alt=\"Open In Colab\"/></a>"
      ]
    },
    {
      "cell_type": "code",
      "metadata": {
        "id": "62bHEFTICc6x",
        "colab_type": "code",
        "colab": {}
      },
      "source": [
        "#Importando libs necesárias\n",
        "import matplotlib.pyplot as plt\n",
        "from sklearn import datasets, linear_model\n",
        "import numpy as np\n",
        "from sklearn.metrics import mean_squared_error, r2_score\n",
        "from sklearn.preprocessing import  PolynomialFeatures\n",
        "from sklearn.model_selection import  ShuffleSplit\n",
        "import operator"
      ],
      "execution_count": 4,
      "outputs": []
    },
    {
      "cell_type": "code",
      "metadata": {
        "id": "akvESv45CpVL",
        "colab_type": "code",
        "colab": {}
      },
      "source": [
        "#Carregando datasets\n",
        "X, y = datasets.load_boston(return_X_y=True)"
      ],
      "execution_count": 6,
      "outputs": []
    },
    {
      "cell_type": "code",
      "metadata": {
        "id": "Bj3oxleBDHDS",
        "colab_type": "code",
        "colab": {}
      },
      "source": [
        "X = X[:, np.newaxis, 12]"
      ],
      "execution_count": 7,
      "outputs": []
    },
    {
      "cell_type": "code",
      "metadata": {
        "id": "5A0yztE0DsKx",
        "colab_type": "code",
        "colab": {}
      },
      "source": [
        "#dividir em treino e test\n",
        "ss = ShuffleSplit(n_splits=1, test_size=.25)\n",
        "train_idx, test_idx = list(ss.split(X))[0]"
      ],
      "execution_count": 9,
      "outputs": []
    },
    {
      "cell_type": "code",
      "metadata": {
        "id": "2OY_ayeXD3Nh",
        "colab_type": "code",
        "colab": {}
      },
      "source": [
        "poly_features = PolynomialFeatures(degree=2)\n",
        "X_poly = poly_features.fit_transform(X)"
      ],
      "execution_count": 10,
      "outputs": []
    },
    {
      "cell_type": "code",
      "metadata": {
        "id": "5L2E_dNlEjQo",
        "colab_type": "code",
        "colab": {
          "base_uri": "https://localhost:8080/",
          "height": 34
        },
        "outputId": "fb13e752-f979-41a9-ec47-8a3dad6fa607"
      },
      "source": [
        "regressor = linear_model.LinearRegression()\n",
        "regressor.fit(X_poly[train_idx], y[train_idx])"
      ],
      "execution_count": 11,
      "outputs": [
        {
          "output_type": "execute_result",
          "data": {
            "text/plain": [
              "LinearRegression(copy_X=True, fit_intercept=True, n_jobs=None, normalize=False)"
            ]
          },
          "metadata": {
            "tags": []
          },
          "execution_count": 11
        }
      ]
    },
    {
      "cell_type": "code",
      "metadata": {
        "id": "K4Gh2SycEuNZ",
        "colab_type": "code",
        "colab": {}
      },
      "source": [
        "y_pred = regressor.predict(X_poly[test_idx])"
      ],
      "execution_count": 20,
      "outputs": []
    },
    {
      "cell_type": "code",
      "metadata": {
        "id": "sxAgTo0nE4IQ",
        "colab_type": "code",
        "colab": {
          "base_uri": "https://localhost:8080/",
          "height": 34
        },
        "outputId": "ccfb93f1-1892-4be0-9d77-c98806a7dbb9"
      },
      "source": [
        "info = {\n",
        "    \"coeficientes\": regressor.coef_,\n",
        "    \"MSE\":mean_squared_error(y[test_idx], y_pred)\n",
        "}\n",
        "print(info)"
      ],
      "execution_count": 21,
      "outputs": [
        {
          "output_type": "stream",
          "text": [
            "{'coeficientes': array([ 0.        , -2.39839592,  0.04522208]), 'MSE': 31.92648208181156}\n"
          ],
          "name": "stdout"
        }
      ]
    },
    {
      "cell_type": "code",
      "metadata": {
        "id": "vRryLoRMFAfc",
        "colab_type": "code",
        "colab": {
          "base_uri": "https://localhost:8080/",
          "height": 283
        },
        "outputId": "c49ee768-7321-4b23-a794-0a6353665a55"
      },
      "source": [
        "# Plotando resultados\n",
        "plt.scatter(X[train_idx], y[train_idx], color='black', label='y')\n",
        "sort_axis = operator.itemgetter(0)\n",
        "sorted_zip = sorted(zip(X[test_idx],y_pred), key=sort_axis)\n",
        "X_test, y_pred = zip(*sorted_zip)\n",
        "plt.plot(X_test, y_pred, color='blue', linewidth=3, label=r'$\\hat{y}$')\n",
        "plt.xlabel(r'Feature $X_{12}$')\n",
        "plt.ylabel('y (Target)')\n",
        "plt.legend()\n",
        "plt.show()"
      ],
      "execution_count": 22,
      "outputs": [
        {
          "output_type": "display_data",
          "data": {
            "image/png": "[encoded data removed]",
            "text/plain": [
              "<Figure size 432x288 with 1 Axes>"
            ]
          },
          "metadata": {
            "tags": [],
            "needs_background": "light"
          }
        }
      ]
    },
    {
      "cell_type": "code",
      "metadata": {
        "id": "ZyEjyAuZFxmD",
        "colab_type": "code",
        "colab": {}
      },
      "source": [
        ""
      ],
      "execution_count": null,
      "outputs": []
    }
  ]
}