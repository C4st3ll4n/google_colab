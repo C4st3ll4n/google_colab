{
  "nbformat": 4,
  "nbformat_minor": 0,
  "metadata": {
    "colab": {
      "name": "soma_binaria.ipynb",
      "provenance": [],
      "authorship_tag": "ABX9TyOqYRUlS2tNEOhOqBn7sBkO",
      "include_colab_link": true
    },
    "kernelspec": {
      "name": "python3",
      "display_name": "Python 3"
    }
  },
  "cells": [
    {
      "cell_type": "markdown",
      "metadata": {
        "id": "view-in-github",
        "colab_type": "text"
      },
      "source": [
        "<a href=\"https://colab.research.google.com/github/C4st3ll4n/google_colab/blob/master/soma_binaria.ipynb\" target=\"_parent\"><img src=\"https://colab.research.google.com/assets/colab-badge.svg\" alt=\"Open In Colab\"/></a>"
      ]
    },
    {
      "cell_type": "code",
      "metadata": {
        "id": "coZWuHbJ6a1L",
        "colab_type": "code",
        "colab": {}
      },
      "source": [
        "from itertools import zip_longest\n",
        "from collections import deque"
      ],
      "execution_count": null,
      "outputs": []
    },
    {
      "cell_type": "code",
      "metadata": {
        "id": "P-mvdeqy5xEd",
        "colab_type": "code",
        "colab": {}
      },
      "source": [
        "def less_to_great_significant_digits(s):\n",
        "    return map(int, reversed(s))"
      ],
      "execution_count": null,
      "outputs": []
    },
    {
      "cell_type": "code",
      "metadata": {
        "id": "MinHT8gJzsZA",
        "colab_type": "code",
        "colab": {}
      },
      "source": [
        "def binary_sum(n1, n2):\n",
        "    #n1 = int(n1, 2)#\n",
        "    #n2 = int(n2, 2)\n",
        "    #return format(n1+n2, 'b')\n",
        "    n1 = less_to_great_significant_digits(n1)\n",
        "    n2 = less_to_great_significant_digits(n2)\n",
        "    result = deque()\n",
        "    last_d_sum = 0\n",
        "    for d, d2 in zip_longest(n1,n2, fillvalue=0):\n",
        "        d_sum = last_d_sum + d + d2\n",
        "        last_d_sum = 0 if d < 2 else 1\n",
        "        result.appendleft(str(d_sum%2))\n",
        "    if last_d_sum ==1:\n",
        "        result.appendleft('1')\n",
        "    \n",
        "    return ''.join(result)\n",
        "\n"
      ],
      "execution_count": null,
      "outputs": []
    },
    {
      "cell_type": "code",
      "metadata": {
        "id": "E0DsCf--zyie",
        "colab_type": "code",
        "colab": {
          "base_uri": "https://localhost:8080/",
          "height": 34
        },
        "outputId": "061e7cf1-8503-4b35-aa56-5fe701a3d1c6"
      },
      "source": [
        "print(binary_sum('111110', '1100'))"
      ],
      "execution_count": null,
      "outputs": [
        {
          "output_type": "stream",
          "text": [
            "110010\n"
          ],
          "name": "stdout"
        }
      ]
    },
    {
      "cell_type": "code",
      "metadata": {
        "id": "J-wrwHB9z8ex",
        "colab_type": "code",
        "colab": {}
      },
      "source": [
        ""
      ],
      "execution_count": null,
      "outputs": []
    }
  ]
}