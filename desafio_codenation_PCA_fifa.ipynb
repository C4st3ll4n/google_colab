{
  "nbformat": 4,
  "nbformat_minor": 0,
  "metadata": {
    "kernelspec": {
      "display_name": "Python 3",
      "language": "python",
      "name": "python3"
    },
    "language_info": {
      "codemirror_mode": {
        "name": "ipython",
        "version": 3
      },
      "file_extension": ".py",
      "mimetype": "text/x-python",
      "name": "python",
      "nbconvert_exporter": "python",
      "pygments_lexer": "ipython3",
      "version": "3.7.3"
    },
    "colab": {
      "name": "desafio_codenation_PCA_fifa.ipynb",
      "provenance": [],
      "collapsed_sections": [],
      "toc_visible": true,
      "include_colab_link": true
    }
  },
  "cells": [
    {
      "cell_type": "markdown",
      "metadata": {
        "id": "view-in-github",
        "colab_type": "text"
      },
      "source": [
        "<a href=\"https://colab.research.google.com/github/C4st3ll4n/google_colab/blob/master/desafio_codenation_PCA_fifa.ipynb\" target=\"_parent\"><img src=\"https://colab.research.google.com/assets/colab-badge.svg\" alt=\"Open In Colab\"/></a>"
      ]
    },
    {
      "cell_type": "markdown",
      "metadata": {
        "id": "GSArmeN-2aG5",
        "colab_type": "text"
      },
      "source": [
        "# Desafio 5\n",
        "\n",
        "Neste desafio, vamos praticar sobre redução de dimensionalidade com PCA e seleção de variáveis com RFE. Utilizaremos o _data set_ [Fifa 2019](https://www.kaggle.com/karangadiya/fifa19), contendo originalmente 89 variáveis de mais de 18 mil jogadores do _game_ FIFA 2019.\n",
        "\n",
        "> Obs.: Por favor, não modifique o nome das funções de resposta."
      ]
    },
    {
      "cell_type": "markdown",
      "metadata": {
        "id": "J1zimVR42aG6",
        "colab_type": "text"
      },
      "source": [
        "## _Setup_ geral"
      ]
    },
    {
      "cell_type": "code",
      "metadata": {
        "id": "Ma1MqIBL2aG8",
        "colab_type": "code",
        "colab": {
          "base_uri": "https://localhost:8080/",
          "height": 306
        },
        "outputId": "75f6ddef-2073-4a0b-8e17-0cc0c025e95f"
      },
      "source": [
        "from math import sqrt\n",
        "#%pip install sklearn\n",
        "import pandas as pd\n",
        "#import matplotlib.pyplot as plt\n",
        "import numpy as np\n",
        "import scipy.stats as sct\n",
        "#import seaborn as sns\n",
        "import statsmodels.api as sm\n",
        "import statsmodels.stats as st\n",
        "from sklearn.decomposition import PCA\n",
        "%pip install loguru\n",
        "from loguru import logger"
      ],
      "execution_count": null,
      "outputs": [
        {
          "output_type": "stream",
          "text": [
            "Collecting loguru\n",
            "\u001b[?25l  Downloading https://files.pythonhosted.org/packages/59/4f/baee593c195cd4b56cf008c9473347f3b0795b47d3b946e03706a8b43fca/loguru-0.5.1-py3-none-any.whl (56kB)\n",
            "\r\u001b[K     |█████▉                          | 10kB 15.2MB/s eta 0:00:01\r\u001b[K     |███████████▋                    | 20kB 2.1MB/s eta 0:00:01\r\u001b[K     |█████████████████▍              | 30kB 2.7MB/s eta 0:00:01\r\u001b[K     |███████████████████████▏        | 40kB 3.0MB/s eta 0:00:01\r\u001b[K     |█████████████████████████████   | 51kB 2.4MB/s eta 0:00:01\r\u001b[K     |████████████████████████████████| 61kB 2.1MB/s \n",
            "\u001b[?25hCollecting aiocontextvars>=0.2.0; python_version < \"3.7\"\n",
            "  Downloading https://files.pythonhosted.org/packages/db/c1/7a723e8d988de0a2e623927396e54b6831b68cb80dce468c945b849a9385/aiocontextvars-0.2.2-py2.py3-none-any.whl\n",
            "Collecting contextvars==2.4; python_version < \"3.7\"\n",
            "  Downloading https://files.pythonhosted.org/packages/83/96/55b82d9f13763be9d672622e1b8106c85acb83edd7cc2fa5bc67cd9877e9/contextvars-2.4.tar.gz\n",
            "Collecting immutables>=0.9\n",
            "\u001b[?25l  Downloading https://files.pythonhosted.org/packages/99/e0/ea6fd4697120327d26773b5a84853f897a68e33d3f9376b00a8ff96e4f63/immutables-0.14-cp36-cp36m-manylinux1_x86_64.whl (98kB)\n",
            "\u001b[K     |████████████████████████████████| 102kB 4.9MB/s \n",
            "\u001b[?25hBuilding wheels for collected packages: contextvars\n",
            "  Building wheel for contextvars (setup.py) ... \u001b[?25l\u001b[?25hdone\n",
            "  Created wheel for contextvars: filename=contextvars-2.4-cp36-none-any.whl size=7666 sha256=8b3677d95f2fe87bc801d7c4b7fc95e7f09b0699c743c9541539492dbcac299b\n",
            "  Stored in directory: /root/.cache/pip/wheels/a5/7d/68/1ebae2668bda2228686e3c1cf16f2c2384cea6e9334ad5f6de\n",
            "Successfully built contextvars\n",
            "Installing collected packages: immutables, contextvars, aiocontextvars, loguru\n",
            "Successfully installed aiocontextvars-0.2.2 contextvars-2.4 immutables-0.14 loguru-0.5.1\n"
          ],
          "name": "stdout"
        }
      ]
    },
    {
      "cell_type": "code",
      "metadata": {
        "scrolled": false,
        "id": "WB6vuvLF2aHE",
        "colab_type": "code",
        "colab": {}
      },
      "source": [
        "fifa = pd.read_csv(\"data.csv\")"
      ],
      "execution_count": null,
      "outputs": []
    },
    {
      "cell_type": "code",
      "metadata": {
        "id": "cy2noPQu2aHI",
        "colab_type": "code",
        "colab": {}
      },
      "source": [
        "columns_to_drop = [\"Unnamed: 0\", \"ID\", \"Name\", \"Photo\", \"Nationality\", \"Flag\",\n",
        "                   \"Club\", \"Club Logo\", \"Value\", \"Wage\", \"Special\", \"Preferred Foot\",\n",
        "                   \"International Reputation\", \"Weak Foot\", \"Skill Moves\", \"Work Rate\",\n",
        "                   \"Body Type\", \"Real Face\", \"Position\", \"Jersey Number\", \"Joined\",\n",
        "                   \"Loaned From\", \"Contract Valid Until\", \"Height\", \"Weight\", \"LS\",\n",
        "                   \"ST\", \"RS\", \"LW\", \"LF\", \"CF\", \"RF\", \"RW\", \"LAM\", \"CAM\", \"RAM\", \"LM\",\n",
        "                   \"LCM\", \"CM\", \"RCM\", \"RM\", \"LWB\", \"LDM\", \"CDM\", \"RDM\", \"RWB\", \"LB\", \"LCB\",\n",
        "                   \"CB\", \"RCB\", \"RB\", \"Release Clause\"\n",
        "]\n",
        "\n",
        "try:\n",
        "    fifa.drop(columns_to_drop, axis=1, inplace=True)\n",
        "except KeyError:\n",
        "    logger.warning(f\"Columns already dropped\")"
      ],
      "execution_count": null,
      "outputs": []
    },
    {
      "cell_type": "markdown",
      "metadata": {
        "id": "D2d9bRED2aHN",
        "colab_type": "text"
      },
      "source": [
        "## Inicia sua análise a partir daqui"
      ]
    },
    {
      "cell_type": "code",
      "metadata": {
        "id": "JQl24rbu2aHO",
        "colab_type": "code",
        "colab": {
          "base_uri": "https://localhost:8080/",
          "height": 765
        },
        "outputId": "eb715ea0-7c72-4fcc-b693-7458660b4d68"
      },
      "source": [
        "# Sua análise começa aqui.\n",
        "fifa.info()"
      ],
      "execution_count": null,
      "outputs": [
        {
          "output_type": "stream",
          "text": [
            "<class 'pandas.core.frame.DataFrame'>\n",
            "RangeIndex: 6248 entries, 0 to 6247\n",
            "Data columns (total 37 columns):\n",
            " #   Column           Non-Null Count  Dtype  \n",
            "---  ------           --------------  -----  \n",
            " 0   Age              6248 non-null   int64  \n",
            " 1   Overall          6248 non-null   int64  \n",
            " 2   Potential        6248 non-null   int64  \n",
            " 3   Crossing         6247 non-null   float64\n",
            " 4   Finishing        6247 non-null   float64\n",
            " 5   HeadingAccuracy  6247 non-null   float64\n",
            " 6   ShortPassing     6247 non-null   float64\n",
            " 7   Volleys          6247 non-null   float64\n",
            " 8   Dribbling        6247 non-null   float64\n",
            " 9   Curve            6247 non-null   float64\n",
            " 10  FKAccuracy       6247 non-null   float64\n",
            " 11  LongPassing      6247 non-null   float64\n",
            " 12  BallControl      6247 non-null   float64\n",
            " 13  Acceleration     6247 non-null   float64\n",
            " 14  SprintSpeed      6247 non-null   float64\n",
            " 15  Agility          6247 non-null   float64\n",
            " 16  Reactions        6247 non-null   float64\n",
            " 17  Balance          6247 non-null   float64\n",
            " 18  ShotPower        6247 non-null   float64\n",
            " 19  Jumping          6247 non-null   float64\n",
            " 20  Stamina          6247 non-null   float64\n",
            " 21  Strength         6247 non-null   float64\n",
            " 22  LongShots        6247 non-null   float64\n",
            " 23  Aggression       6247 non-null   float64\n",
            " 24  Interceptions    6247 non-null   float64\n",
            " 25  Positioning      6247 non-null   float64\n",
            " 26  Vision           6247 non-null   float64\n",
            " 27  Penalties        6247 non-null   float64\n",
            " 28  Composure        6247 non-null   float64\n",
            " 29  Marking          6247 non-null   float64\n",
            " 30  StandingTackle   6247 non-null   float64\n",
            " 31  SlidingTackle    6247 non-null   float64\n",
            " 32  GKDiving         6247 non-null   float64\n",
            " 33  GKHandling       6247 non-null   float64\n",
            " 34  GKKicking        6247 non-null   float64\n",
            " 35  GKPositioning    6247 non-null   float64\n",
            " 36  GKReflexes       6247 non-null   float64\n",
            "dtypes: float64(34), int64(3)\n",
            "memory usage: 1.8 MB\n"
          ],
          "name": "stdout"
        }
      ]
    },
    {
      "cell_type": "code",
      "metadata": {
        "id": "-R-4edTK3vNw",
        "colab_type": "code",
        "colab": {
          "base_uri": "https://localhost:8080/",
          "height": 663
        },
        "outputId": "9503d0b8-d28b-4fce-8be3-4e9b5439e6d1"
      },
      "source": [
        "fifa.isna().sum()"
      ],
      "execution_count": null,
      "outputs": [
        {
          "output_type": "execute_result",
          "data": {
            "text/plain": [
              "Age                0\n",
              "Overall            0\n",
              "Potential          0\n",
              "Crossing           1\n",
              "Finishing          1\n",
              "HeadingAccuracy    1\n",
              "ShortPassing       1\n",
              "Volleys            1\n",
              "Dribbling          1\n",
              "Curve              1\n",
              "FKAccuracy         1\n",
              "LongPassing        1\n",
              "BallControl        1\n",
              "Acceleration       1\n",
              "SprintSpeed        1\n",
              "Agility            1\n",
              "Reactions          1\n",
              "Balance            1\n",
              "ShotPower          1\n",
              "Jumping            1\n",
              "Stamina            1\n",
              "Strength           1\n",
              "LongShots          1\n",
              "Aggression         1\n",
              "Interceptions      1\n",
              "Positioning        1\n",
              "Vision             1\n",
              "Penalties          1\n",
              "Composure          1\n",
              "Marking            1\n",
              "StandingTackle     1\n",
              "SlidingTackle      1\n",
              "GKDiving           1\n",
              "GKHandling         1\n",
              "GKKicking          1\n",
              "GKPositioning      1\n",
              "GKReflexes         1\n",
              "dtype: int64"
            ]
          },
          "metadata": {
            "tags": []
          },
          "execution_count": 7
        }
      ]
    },
    {
      "cell_type": "code",
      "metadata": {
        "id": "Wne8DHBi3vbt",
        "colab_type": "code",
        "colab": {}
      },
      "source": [
        "df_fifa = fifa.copy()\n",
        "df_fifa = fifa[fifa.Vision.notna()]"
      ],
      "execution_count": null,
      "outputs": []
    },
    {
      "cell_type": "code",
      "metadata": {
        "id": "xOHm9ykv4eey",
        "colab_type": "code",
        "colab": {
          "base_uri": "https://localhost:8080/",
          "height": 663
        },
        "outputId": "fbd28826-85f4-4c9e-877b-d82d2578834f"
      },
      "source": [
        "df_fifa.isna().sum()"
      ],
      "execution_count": null,
      "outputs": [
        {
          "output_type": "execute_result",
          "data": {
            "text/plain": [
              "Age                0\n",
              "Overall            0\n",
              "Potential          0\n",
              "Crossing           0\n",
              "Finishing          0\n",
              "HeadingAccuracy    0\n",
              "ShortPassing       0\n",
              "Volleys            0\n",
              "Dribbling          0\n",
              "Curve              0\n",
              "FKAccuracy         0\n",
              "LongPassing        0\n",
              "BallControl        0\n",
              "Acceleration       0\n",
              "SprintSpeed        0\n",
              "Agility            0\n",
              "Reactions          0\n",
              "Balance            0\n",
              "ShotPower          0\n",
              "Jumping            0\n",
              "Stamina            0\n",
              "Strength           0\n",
              "LongShots          0\n",
              "Aggression         0\n",
              "Interceptions      0\n",
              "Positioning        0\n",
              "Vision             0\n",
              "Penalties          0\n",
              "Composure          0\n",
              "Marking            0\n",
              "StandingTackle     0\n",
              "SlidingTackle      0\n",
              "GKDiving           0\n",
              "GKHandling         0\n",
              "GKKicking          0\n",
              "GKPositioning      0\n",
              "GKReflexes         0\n",
              "dtype: int64"
            ]
          },
          "metadata": {
            "tags": []
          },
          "execution_count": 9
        }
      ]
    },
    {
      "cell_type": "code",
      "metadata": {
        "id": "oFiZWbwe4es6",
        "colab_type": "code",
        "colab": {}
      },
      "source": [
        ""
      ],
      "execution_count": null,
      "outputs": []
    },
    {
      "cell_type": "markdown",
      "metadata": {
        "id": "eBBSSG3L2aHS",
        "colab_type": "text"
      },
      "source": [
        "## Questão 1\n",
        "\n",
        "Qual fração da variância consegue ser explicada pelo primeiro componente principal de `fifa`? Responda como um único float (entre 0 e 1) arredondado para três casas decimais."
      ]
    },
    {
      "cell_type": "code",
      "metadata": {
        "id": "Lwkm-Zsb2aHS",
        "colab_type": "code",
        "colab": {
          "base_uri": "https://localhost:8080/",
          "height": 34
        },
        "outputId": "37fee136-940d-4062-ed12-15187cd12a8f"
      },
      "source": [
        "def q1():\n",
        "    # Retorne aqui o resultado da questão 1.\n",
        "    pca = PCA()\n",
        "    pca.fit(df_fifa)\n",
        "    rq1 = round(float(pca.explained_variance_ratio_[0]), 3)\n",
        "    #print(rq1)\n",
        "    return rq1\n",
        "#q1()"
      ],
      "execution_count": null,
      "outputs": [
        {
          "output_type": "execute_result",
          "data": {
            "text/plain": [
              "0.541"
            ]
          },
          "metadata": {
            "tags": []
          },
          "execution_count": 10
        }
      ]
    },
    {
      "cell_type": "markdown",
      "metadata": {
        "id": "Ys5yhrF92aHX",
        "colab_type": "text"
      },
      "source": [
        "## Questão 2\n",
        "\n",
        "Quantos componentes principais precisamos para explicar 95% da variância total? Responda como un único escalar inteiro."
      ]
    },
    {
      "cell_type": "code",
      "metadata": {
        "id": "HwQ4drlT2aHY",
        "colab_type": "code",
        "colab": {
          "base_uri": "https://localhost:8080/",
          "height": 34
        },
        "outputId": "da077518-83ca-473b-cfab-556267d761eb"
      },
      "source": [
        "def q2():\n",
        "    variancia = 0.95\n",
        "    pca = PCA(variancia)\n",
        "    pca.fit(df_fifa)\n",
        "    n_comp = pca.n_components_\n",
        "    #print(n_comp)\n",
        "    return int(n_comp)\n",
        "\n",
        "#q2()"
      ],
      "execution_count": null,
      "outputs": [
        {
          "output_type": "execute_result",
          "data": {
            "text/plain": [
              "15"
            ]
          },
          "metadata": {
            "tags": []
          },
          "execution_count": 11
        }
      ]
    },
    {
      "cell_type": "markdown",
      "metadata": {
        "id": "EggEjpaB2aHc",
        "colab_type": "text"
      },
      "source": [
        "## Questão 3\n",
        "\n",
        "Qual são as coordenadas (primeiro e segundo componentes principais) do ponto `x` abaixo? O vetor abaixo já está centralizado. Cuidado para __não__ centralizar o vetor novamente (por exemplo, invocando `PCA.transform()` nele). Responda como uma tupla de float arredondados para três casas decimais."
      ]
    },
    {
      "cell_type": "code",
      "metadata": {
        "id": "pJE6lTGt2aHc",
        "colab_type": "code",
        "colab": {}
      },
      "source": [
        "x = [0.87747123,  -1.24990363,  -1.3191255, -36.7341814,\n",
        "     -35.55091139, -37.29814417, -28.68671182, -30.90902583,\n",
        "     -42.37100061, -32.17082438, -28.86315326, -22.71193348,\n",
        "     -38.36945867, -20.61407566, -22.72696734, -25.50360703,\n",
        "     2.16339005, -27.96657305, -33.46004736,  -5.08943224,\n",
        "     -30.21994603,   3.68803348, -36.10997302, -30.86899058,\n",
        "     -22.69827634, -37.95847789, -22.40090313, -30.54859849,\n",
        "     -26.64827358, -19.28162344, -34.69783578, -34.6614351,\n",
        "     48.38377664,  47.60840355,  45.76793876,  44.61110193,\n",
        "     49.28911284\n",
        "]"
      ],
      "execution_count": null,
      "outputs": []
    },
    {
      "cell_type": "code",
      "metadata": {
        "id": "HenRrMEh2aHf",
        "colab_type": "code",
        "colab": {
          "base_uri": "https://localhost:8080/",
          "height": 34
        },
        "outputId": "33f108a9-2e8e-47cf-f0dd-459c988503b6"
      },
      "source": [
        "\n",
        "def q3():\n",
        "    # Retorne aqui o resultado da questão 3.\n",
        "    pca_cord = PCA()\n",
        "    pca_cord.fit(df_fifa)\n",
        "    return tuple((pca_cord.components_.dot(x)[0:2]).round(3))\n",
        "#q3()"
      ],
      "execution_count": null,
      "outputs": [
        {
          "output_type": "execute_result",
          "data": {
            "text/plain": [
              "(187.469, -12.423)"
            ]
          },
          "metadata": {
            "tags": []
          },
          "execution_count": 13
        }
      ]
    },
    {
      "cell_type": "markdown",
      "metadata": {
        "id": "ueuaZmGk2aHi",
        "colab_type": "text"
      },
      "source": [
        "## Questão 4\n",
        "\n",
        "Realiza RFE com estimador de regressão linear para selecionar cinco variáveis, eliminando uma a uma. Quais são as variáveis selecionadas? Responda como uma lista de nomes de variáveis."
      ]
    },
    {
      "cell_type": "code",
      "metadata": {
        "id": "obMKYVXp2aHj",
        "colab_type": "code",
        "colab": {}
      },
      "source": [
        "from sklearn.linear_model import LinearRegression\n",
        "from sklearn.feature_selection import RFE\n"
      ],
      "execution_count": null,
      "outputs": []
    },
    {
      "cell_type": "code",
      "metadata": {
        "id": "BOhV3cCV-KkL",
        "colab_type": "code",
        "colab": {
          "base_uri": "https://localhost:8080/",
          "height": 119
        },
        "outputId": "121fda97-a69b-4d55-d5f2-a63c6b678e01"
      },
      "source": [
        "y = df_fifa.Overall\n",
        "y.head()"
      ],
      "execution_count": null,
      "outputs": [
        {
          "output_type": "execute_result",
          "data": {
            "text/plain": [
              "0    94\n",
              "1    94\n",
              "2    92\n",
              "3    91\n",
              "4    91\n",
              "Name: Overall, dtype: int64"
            ]
          },
          "metadata": {
            "tags": []
          },
          "execution_count": 15
        }
      ]
    },
    {
      "cell_type": "code",
      "metadata": {
        "id": "6Nd--wr9-PEU",
        "colab_type": "code",
        "colab": {
          "base_uri": "https://localhost:8080/",
          "height": 224
        },
        "outputId": "afb25e45-512c-4089-b994-29cf15fba19e"
      },
      "source": [
        "x = df_fifa.drop(columns='Overall')\n",
        "x.head()"
      ],
      "execution_count": null,
      "outputs": [
        {
          "output_type": "execute_result",
          "data": {
            "text/html": [
              "<div>\n",
              "<style scoped>\n",
              "    .dataframe tbody tr th:only-of-type {\n",
              "        vertical-align: middle;\n",
              "    }\n",
              "\n",
              "    .dataframe tbody tr th {\n",
              "        vertical-align: top;\n",
              "    }\n",
              "\n",
              "    .dataframe thead th {\n",
              "        text-align: right;\n",
              "    }\n",
              "</style>\n",
              "<table border=\"1\" class=\"dataframe\">\n",
              "  <thead>\n",
              "    <tr style=\"text-align: right;\">\n",
              "      <th></th>\n",
              "      <th>Age</th>\n",
              "      <th>Potential</th>\n",
              "      <th>Crossing</th>\n",
              "      <th>Finishing</th>\n",
              "      <th>HeadingAccuracy</th>\n",
              "      <th>ShortPassing</th>\n",
              "      <th>Volleys</th>\n",
              "      <th>Dribbling</th>\n",
              "      <th>Curve</th>\n",
              "      <th>FKAccuracy</th>\n",
              "      <th>LongPassing</th>\n",
              "      <th>BallControl</th>\n",
              "      <th>Acceleration</th>\n",
              "      <th>SprintSpeed</th>\n",
              "      <th>Agility</th>\n",
              "      <th>Reactions</th>\n",
              "      <th>Balance</th>\n",
              "      <th>ShotPower</th>\n",
              "      <th>Jumping</th>\n",
              "      <th>Stamina</th>\n",
              "      <th>Strength</th>\n",
              "      <th>LongShots</th>\n",
              "      <th>Aggression</th>\n",
              "      <th>Interceptions</th>\n",
              "      <th>Positioning</th>\n",
              "      <th>Vision</th>\n",
              "      <th>Penalties</th>\n",
              "      <th>Composure</th>\n",
              "      <th>Marking</th>\n",
              "      <th>StandingTackle</th>\n",
              "      <th>SlidingTackle</th>\n",
              "      <th>GKDiving</th>\n",
              "      <th>GKHandling</th>\n",
              "      <th>GKKicking</th>\n",
              "      <th>GKPositioning</th>\n",
              "      <th>GKReflexes</th>\n",
              "    </tr>\n",
              "  </thead>\n",
              "  <tbody>\n",
              "    <tr>\n",
              "      <th>0</th>\n",
              "      <td>31</td>\n",
              "      <td>94</td>\n",
              "      <td>84.0</td>\n",
              "      <td>95.0</td>\n",
              "      <td>70.0</td>\n",
              "      <td>90.0</td>\n",
              "      <td>86.0</td>\n",
              "      <td>97.0</td>\n",
              "      <td>93.0</td>\n",
              "      <td>94.0</td>\n",
              "      <td>87.0</td>\n",
              "      <td>96.0</td>\n",
              "      <td>91.0</td>\n",
              "      <td>86.0</td>\n",
              "      <td>91.0</td>\n",
              "      <td>95.0</td>\n",
              "      <td>95.0</td>\n",
              "      <td>85.0</td>\n",
              "      <td>68.0</td>\n",
              "      <td>72.0</td>\n",
              "      <td>59.0</td>\n",
              "      <td>94.0</td>\n",
              "      <td>48.0</td>\n",
              "      <td>22.0</td>\n",
              "      <td>94.0</td>\n",
              "      <td>94.0</td>\n",
              "      <td>75.0</td>\n",
              "      <td>96.0</td>\n",
              "      <td>33.0</td>\n",
              "      <td>28.0</td>\n",
              "      <td>26.0</td>\n",
              "      <td>6.0</td>\n",
              "      <td>11.0</td>\n",
              "      <td>15.0</td>\n",
              "      <td>14.0</td>\n",
              "      <td>8.0</td>\n",
              "    </tr>\n",
              "    <tr>\n",
              "      <th>1</th>\n",
              "      <td>33</td>\n",
              "      <td>94</td>\n",
              "      <td>84.0</td>\n",
              "      <td>94.0</td>\n",
              "      <td>89.0</td>\n",
              "      <td>81.0</td>\n",
              "      <td>87.0</td>\n",
              "      <td>88.0</td>\n",
              "      <td>81.0</td>\n",
              "      <td>76.0</td>\n",
              "      <td>77.0</td>\n",
              "      <td>94.0</td>\n",
              "      <td>89.0</td>\n",
              "      <td>91.0</td>\n",
              "      <td>87.0</td>\n",
              "      <td>96.0</td>\n",
              "      <td>70.0</td>\n",
              "      <td>95.0</td>\n",
              "      <td>95.0</td>\n",
              "      <td>88.0</td>\n",
              "      <td>79.0</td>\n",
              "      <td>93.0</td>\n",
              "      <td>63.0</td>\n",
              "      <td>29.0</td>\n",
              "      <td>95.0</td>\n",
              "      <td>82.0</td>\n",
              "      <td>85.0</td>\n",
              "      <td>95.0</td>\n",
              "      <td>28.0</td>\n",
              "      <td>31.0</td>\n",
              "      <td>23.0</td>\n",
              "      <td>7.0</td>\n",
              "      <td>11.0</td>\n",
              "      <td>15.0</td>\n",
              "      <td>14.0</td>\n",
              "      <td>11.0</td>\n",
              "    </tr>\n",
              "    <tr>\n",
              "      <th>2</th>\n",
              "      <td>26</td>\n",
              "      <td>93</td>\n",
              "      <td>79.0</td>\n",
              "      <td>87.0</td>\n",
              "      <td>62.0</td>\n",
              "      <td>84.0</td>\n",
              "      <td>84.0</td>\n",
              "      <td>96.0</td>\n",
              "      <td>88.0</td>\n",
              "      <td>87.0</td>\n",
              "      <td>78.0</td>\n",
              "      <td>95.0</td>\n",
              "      <td>94.0</td>\n",
              "      <td>90.0</td>\n",
              "      <td>96.0</td>\n",
              "      <td>94.0</td>\n",
              "      <td>84.0</td>\n",
              "      <td>80.0</td>\n",
              "      <td>61.0</td>\n",
              "      <td>81.0</td>\n",
              "      <td>49.0</td>\n",
              "      <td>82.0</td>\n",
              "      <td>56.0</td>\n",
              "      <td>36.0</td>\n",
              "      <td>89.0</td>\n",
              "      <td>87.0</td>\n",
              "      <td>81.0</td>\n",
              "      <td>94.0</td>\n",
              "      <td>27.0</td>\n",
              "      <td>24.0</td>\n",
              "      <td>33.0</td>\n",
              "      <td>9.0</td>\n",
              "      <td>9.0</td>\n",
              "      <td>15.0</td>\n",
              "      <td>15.0</td>\n",
              "      <td>11.0</td>\n",
              "    </tr>\n",
              "    <tr>\n",
              "      <th>3</th>\n",
              "      <td>27</td>\n",
              "      <td>93</td>\n",
              "      <td>17.0</td>\n",
              "      <td>13.0</td>\n",
              "      <td>21.0</td>\n",
              "      <td>50.0</td>\n",
              "      <td>13.0</td>\n",
              "      <td>18.0</td>\n",
              "      <td>21.0</td>\n",
              "      <td>19.0</td>\n",
              "      <td>51.0</td>\n",
              "      <td>42.0</td>\n",
              "      <td>57.0</td>\n",
              "      <td>58.0</td>\n",
              "      <td>60.0</td>\n",
              "      <td>90.0</td>\n",
              "      <td>43.0</td>\n",
              "      <td>31.0</td>\n",
              "      <td>67.0</td>\n",
              "      <td>43.0</td>\n",
              "      <td>64.0</td>\n",
              "      <td>12.0</td>\n",
              "      <td>38.0</td>\n",
              "      <td>30.0</td>\n",
              "      <td>12.0</td>\n",
              "      <td>68.0</td>\n",
              "      <td>40.0</td>\n",
              "      <td>68.0</td>\n",
              "      <td>15.0</td>\n",
              "      <td>21.0</td>\n",
              "      <td>13.0</td>\n",
              "      <td>90.0</td>\n",
              "      <td>85.0</td>\n",
              "      <td>87.0</td>\n",
              "      <td>88.0</td>\n",
              "      <td>94.0</td>\n",
              "    </tr>\n",
              "    <tr>\n",
              "      <th>4</th>\n",
              "      <td>27</td>\n",
              "      <td>92</td>\n",
              "      <td>93.0</td>\n",
              "      <td>82.0</td>\n",
              "      <td>55.0</td>\n",
              "      <td>92.0</td>\n",
              "      <td>82.0</td>\n",
              "      <td>86.0</td>\n",
              "      <td>85.0</td>\n",
              "      <td>83.0</td>\n",
              "      <td>91.0</td>\n",
              "      <td>91.0</td>\n",
              "      <td>78.0</td>\n",
              "      <td>76.0</td>\n",
              "      <td>79.0</td>\n",
              "      <td>91.0</td>\n",
              "      <td>77.0</td>\n",
              "      <td>91.0</td>\n",
              "      <td>63.0</td>\n",
              "      <td>90.0</td>\n",
              "      <td>75.0</td>\n",
              "      <td>91.0</td>\n",
              "      <td>76.0</td>\n",
              "      <td>61.0</td>\n",
              "      <td>87.0</td>\n",
              "      <td>94.0</td>\n",
              "      <td>79.0</td>\n",
              "      <td>88.0</td>\n",
              "      <td>68.0</td>\n",
              "      <td>58.0</td>\n",
              "      <td>51.0</td>\n",
              "      <td>15.0</td>\n",
              "      <td>13.0</td>\n",
              "      <td>5.0</td>\n",
              "      <td>10.0</td>\n",
              "      <td>13.0</td>\n",
              "    </tr>\n",
              "  </tbody>\n",
              "</table>\n",
              "</div>"
            ],
            "text/plain": [
              "   Age  Potential  Crossing  ...  GKKicking  GKPositioning  GKReflexes\n",
              "0   31         94      84.0  ...       15.0           14.0         8.0\n",
              "1   33         94      84.0  ...       15.0           14.0        11.0\n",
              "2   26         93      79.0  ...       15.0           15.0        11.0\n",
              "3   27         93      17.0  ...       87.0           88.0        94.0\n",
              "4   27         92      93.0  ...        5.0           10.0        13.0\n",
              "\n",
              "[5 rows x 36 columns]"
            ]
          },
          "metadata": {
            "tags": []
          },
          "execution_count": 16
        }
      ]
    },
    {
      "cell_type": "code",
      "metadata": {
        "id": "U9XhU7vL_WKH",
        "colab_type": "code",
        "colab": {}
      },
      "source": [
        "estimator = LinearRegression()\n",
        "num_fts = 5\n",
        "stp = 1"
      ],
      "execution_count": null,
      "outputs": []
    },
    {
      "cell_type": "code",
      "metadata": {
        "id": "a88VWv1s_Wq1",
        "colab_type": "code",
        "colab": {}
      },
      "source": [
        "rfe = RFE(estimator, num_fts, stp)"
      ],
      "execution_count": null,
      "outputs": []
    },
    {
      "cell_type": "code",
      "metadata": {
        "id": "rDQhjb8G-I0q",
        "colab_type": "code",
        "colab": {}
      },
      "source": [
        "rf = rfe.fit(x, y)"
      ],
      "execution_count": null,
      "outputs": []
    },
    {
      "cell_type": "code",
      "metadata": {
        "id": "zqGlDvJJAT5U",
        "colab_type": "code",
        "colab": {
          "base_uri": "https://localhost:8080/",
          "height": 85
        },
        "outputId": "662ed199-97ad-433a-f40b-10c1160ceab9"
      },
      "source": [
        "rf.support_"
      ],
      "execution_count": null,
      "outputs": [
        {
          "output_type": "execute_result",
          "data": {
            "text/plain": [
              "array([ True,  True, False, False, False,  True, False, False, False,\n",
              "       False, False, False, False, False, False,  True, False, False,\n",
              "       False, False, False, False, False, False, False, False, False,\n",
              "        True, False, False, False, False, False, False, False, False])"
            ]
          },
          "metadata": {
            "tags": []
          },
          "execution_count": 20
        }
      ]
    },
    {
      "cell_type": "code",
      "metadata": {
        "id": "K5odcjPRAUKN",
        "colab_type": "code",
        "colab": {}
      },
      "source": [
        "cols = pd.DataFrame({'coluna':x.columns, 'bool':rf.support_})"
      ],
      "execution_count": null,
      "outputs": []
    },
    {
      "cell_type": "code",
      "metadata": {
        "id": "O2F9n85zAsGC",
        "colab_type": "code",
        "colab": {
          "base_uri": "https://localhost:8080/",
          "height": 34
        },
        "outputId": "644f5f54-8547-4871-fe3d-ca5fe7d07361"
      },
      "source": [
        "list(cols.query('bool == True')['coluna'])"
      ],
      "execution_count": null,
      "outputs": [
        {
          "output_type": "execute_result",
          "data": {
            "text/plain": [
              "['Age', 'Potential', 'ShortPassing', 'Reactions', 'Composure']"
            ]
          },
          "metadata": {
            "tags": []
          },
          "execution_count": 22
        }
      ]
    },
    {
      "cell_type": "code",
      "metadata": {
        "id": "UD5EsHbnASpG",
        "colab_type": "code",
        "colab": {}
      },
      "source": [
        "\n",
        "def q4():\n",
        "    return list(cols.query('bool == True')['coluna'])\n"
      ],
      "execution_count": null,
      "outputs": []
    },
    {
      "cell_type": "code",
      "metadata": {
        "id": "5MjrX8w0B1qv",
        "colab_type": "code",
        "colab": {}
      },
      "source": [
        "#q4()"
      ],
      "execution_count": null,
      "outputs": []
    },
    {
      "cell_type": "code",
      "metadata": {
        "id": "lQ97z9HOB2Ke",
        "colab_type": "code",
        "colab": {}
      },
      "source": [
        ""
      ],
      "execution_count": null,
      "outputs": []
    }
  ]
}