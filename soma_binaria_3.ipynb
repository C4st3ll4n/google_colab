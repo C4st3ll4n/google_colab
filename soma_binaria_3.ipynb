{
  "nbformat": 4,
  "nbformat_minor": 0,
  "metadata": {
    "colab": {
      "name": "soma_binaria_3.ipynb",
      "provenance": [],
      "authorship_tag": "ABX9TyNO7V+t+SJhzNm2qv1zdZ9s",
      "include_colab_link": true
    },
    "kernelspec": {
      "name": "python3",
      "display_name": "Python 3"
    }
  },
  "cells": [
    {
      "cell_type": "markdown",
      "metadata": {
        "id": "view-in-github",
        "colab_type": "text"
      },
      "source": [
        "<a href=\"https://colab.research.google.com/github/C4st3ll4n/google_colab/blob/master/soma_binaria_3.ipynb\" target=\"_parent\"><img src=\"https://colab.research.google.com/assets/colab-badge.svg\" alt=\"Open In Colab\"/></a>"
      ]
    },
    {
      "cell_type": "code",
      "metadata": {
        "id": "coZWuHbJ6a1L",
        "colab_type": "code",
        "colab": {}
      },
      "source": [
        "from collections import deque\n",
        "from itertools import chain, cycle"
      ],
      "execution_count": 6,
      "outputs": []
    },
    {
      "cell_type": "code",
      "metadata": {
        "id": "P-mvdeqy5xEd",
        "colab_type": "code",
        "colab": {}
      },
      "source": [
        "def less_to_great_significant_digits(s):\n",
        "    #return map(int, reversed(s))\n",
        "    result = []\n",
        "    s = list(s)\n",
        "\n",
        "    while s:\n",
        "        result.append(int(s.pop()))\n",
        "    return result"
      ],
      "execution_count": 21,
      "outputs": []
    },
    {
      "cell_type": "code",
      "metadata": {
        "id": "9FtRAOE1BKBh",
        "colab_type": "code",
        "colab": {}
      },
      "source": [
        "def zip_longest(n,n2, fillvalue):\n",
        "    n = list(n)\n",
        "    n2 = list(n2)\n",
        "    min,max = sorted([n, n2], key=len)\n",
        "    # min_with_fillvalues = chain(min, cycle([fillvalue]))\n",
        "    missing = len(max) - len(min)\n",
        "    min.extend([fillvalue]*missing)\n",
        "    result = []\n",
        "    for i, d in enumerate(max):\n",
        "        result.append((d, min[i]))\n",
        "    return result"
      ],
      "execution_count": 22,
      "outputs": []
    },
    {
      "cell_type": "code",
      "metadata": {
        "id": "MinHT8gJzsZA",
        "colab_type": "code",
        "colab": {}
      },
      "source": [
        "def binary_sum(n1, n2):\n",
        "    #n1 = int(n1, 2)#\n",
        "    #n2 = int(n2, 2)\n",
        "    #return format(n1+n2, 'b')\n",
        "    n1 = less_to_great_significant_digits(n1)\n",
        "    n2 = less_to_great_significant_digits(n2)\n",
        "    result = deque()\n",
        "    last_d_sum = 0\n",
        "    for d, d2 in zip_longest(n1,n2, fillvalue=0):\n",
        "        d_sum = last_d_sum + d + d2\n",
        "        last_d_sum = 0 if d < 2 else 1\n",
        "        result.appendleft(str(d_sum%2))\n",
        "    if last_d_sum ==1:\n",
        "        result.appendleft('1')\n",
        "    \n",
        "    return ''.join(result)\n",
        "\n"
      ],
      "execution_count": 23,
      "outputs": []
    },
    {
      "cell_type": "code",
      "metadata": {
        "id": "E0DsCf--zyie",
        "colab_type": "code",
        "colab": {
          "base_uri": "https://localhost:8080/",
          "height": 34
        },
        "outputId": "362b7137-817a-472d-854b-681548bcc581"
      },
      "source": [
        "print(binary_sum('111110', '1100'))"
      ],
      "execution_count": 24,
      "outputs": [
        {
          "output_type": "stream",
          "text": [
            "110010\n"
          ],
          "name": "stdout"
        }
      ]
    },
    {
      "cell_type": "code",
      "metadata": {
        "id": "J-wrwHB9z8ex",
        "colab_type": "code",
        "colab": {}
      },
      "source": [
        ""
      ],
      "execution_count": null,
      "outputs": []
    }
  ]
}