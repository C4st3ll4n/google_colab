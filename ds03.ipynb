{
  "nbformat": 4,
  "nbformat_minor": 0,
  "metadata": {
    "colab": {
      "name": "ds03.ipynb",
      "version": "0.3.2",
      "provenance": [],
      "include_colab_link": true
    },
    "kernelspec": {
      "name": "python3",
      "display_name": "Python 3"
    }
  },
  "cells": [
    {
      "cell_type": "markdown",
      "metadata": {
        "id": "view-in-github",
        "colab_type": "text"
      },
      "source": [
        "<a href=\"https://colab.research.google.com/github/C4st3ll4n/google_colab/blob/master/ds03.ipynb\" target=\"_parent\"><img src=\"https://colab.research.google.com/assets/colab-badge.svg\" alt=\"Open In Colab\"/></a>"
      ]
    },
    {
      "cell_type": "code",
      "metadata": {
        "id": "2fdiCJCpubMp",
        "colab_type": "code",
        "colab": {}
      },
      "source": [
        "data = [\n",
        "        (0.7, \"pago\"),\n",
        "        (0.7, \"devendo\"),\n",
        "        (0.7, \"pago\"),\n",
        "        (0.7, \"devendo\"),\n",
        "        (0.7, \"devendo\"),\n",
        "        (0.7, \"devendo\"),\n",
        "        (0.7, \"devendo\"),\n",
        "        (8.1, \"devendo\"),\n",
        "        (8.7, \"pago\"),\n",
        "        (10,  \"pago\")\n",
        "]"
      ],
      "execution_count": 0,
      "outputs": []
    },
    {
      "cell_type": "code",
      "metadata": {
        "id": "-Emza0QVwyVd",
        "colab_type": "code",
        "colab": {}
      },
      "source": [
        "def predict_pago_devendo(anos_xp):\n",
        "    if anos_xp < 3.0:\n",
        "        return \"pago\"\n",
        "    elif anos_xp < 8.5:\n",
        "        return \"devendo\"\n",
        "    else:\n",
        "        return \"pago\""
      ],
      "execution_count": 0,
      "outputs": []
    },
    {
      "cell_type": "code",
      "metadata": {
        "id": "uiSRbSyzxIuR",
        "colab_type": "code",
        "colab": {}
      },
      "source": [
        ""
      ],
      "execution_count": 0,
      "outputs": []
    }
  ]
}