{
  "nbformat": 4,
  "nbformat_minor": 0,
  "metadata": {
    "colab": {
      "name": "padronizacao_tf.ipynb",
      "version": "0.3.2",
      "provenance": [],
      "include_colab_link": true
    },
    "kernelspec": {
      "name": "python3",
      "display_name": "Python 3"
    }
  },
  "cells": [
    {
      "cell_type": "markdown",
      "metadata": {
        "id": "view-in-github",
        "colab_type": "text"
      },
      "source": [
        "<a href=\"https://colab.research.google.com/github/C4st3ll4n/google_colab/blob/master/padronizacao_tf.ipynb\" target=\"_parent\"><img src=\"https://colab.research.google.com/assets/colab-badge.svg\" alt=\"Open In Colab\"/></a>"
      ]
    },
    {
      "cell_type": "code",
      "metadata": {
        "id": "m20GIPW1FY_Y",
        "colab_type": "code",
        "colab": {}
      },
      "source": [
        "import pandas as pd"
      ],
      "execution_count": 0,
      "outputs": []
    },
    {
      "cell_type": "code",
      "metadata": {
        "id": "tFdnjwtNF2SU",
        "colab_type": "code",
        "colab": {}
      },
      "source": [
        "base = pd.read_csv('census.csv')"
      ],
      "execution_count": 0,
      "outputs": []
    },
    {
      "cell_type": "code",
      "metadata": {
        "id": "Uag-xRwZF5iL",
        "colab_type": "code",
        "outputId": "a7d5edea-e200-43a8-9b7e-3456320eefa9",
        "colab": {
          "base_uri": "https://localhost:8080/",
          "height": 323
        }
      },
      "source": [
        "base.head()"
      ],
      "execution_count": 0,
      "outputs": [
        {
          "output_type": "execute_result",
          "data": {
            "text/html": [
              "<div>\n",
              "<style scoped>\n",
              "    .dataframe tbody tr th:only-of-type {\n",
              "        vertical-align: middle;\n",
              "    }\n",
              "\n",
              "    .dataframe tbody tr th {\n",
              "        vertical-align: top;\n",
              "    }\n",
              "\n",
              "    .dataframe thead th {\n",
              "        text-align: right;\n",
              "    }\n",
              "</style>\n",
              "<table border=\"1\" class=\"dataframe\">\n",
              "  <thead>\n",
              "    <tr style=\"text-align: right;\">\n",
              "      <th></th>\n",
              "      <th>age</th>\n",
              "      <th>workclass</th>\n",
              "      <th>final-weight</th>\n",
              "      <th>education</th>\n",
              "      <th>education-num</th>\n",
              "      <th>marital-status</th>\n",
              "      <th>occupation</th>\n",
              "      <th>relationship</th>\n",
              "      <th>race</th>\n",
              "      <th>sex</th>\n",
              "      <th>capital-gain</th>\n",
              "      <th>capital-loos</th>\n",
              "      <th>hour-per-week</th>\n",
              "      <th>native-country</th>\n",
              "      <th>income</th>\n",
              "    </tr>\n",
              "  </thead>\n",
              "  <tbody>\n",
              "    <tr>\n",
              "      <th>0</th>\n",
              "      <td>39</td>\n",
              "      <td>State-gov</td>\n",
              "      <td>77516</td>\n",
              "      <td>Bachelors</td>\n",
              "      <td>13</td>\n",
              "      <td>Never-married</td>\n",
              "      <td>Adm-clerical</td>\n",
              "      <td>Not-in-family</td>\n",
              "      <td>White</td>\n",
              "      <td>Male</td>\n",
              "      <td>2174</td>\n",
              "      <td>0</td>\n",
              "      <td>40</td>\n",
              "      <td>United-States</td>\n",
              "      <td>&lt;=50K</td>\n",
              "    </tr>\n",
              "    <tr>\n",
              "      <th>1</th>\n",
              "      <td>50</td>\n",
              "      <td>Self-emp-not-inc</td>\n",
              "      <td>83311</td>\n",
              "      <td>Bachelors</td>\n",
              "      <td>13</td>\n",
              "      <td>Married-civ-spouse</td>\n",
              "      <td>Exec-managerial</td>\n",
              "      <td>Husband</td>\n",
              "      <td>White</td>\n",
              "      <td>Male</td>\n",
              "      <td>0</td>\n",
              "      <td>0</td>\n",
              "      <td>13</td>\n",
              "      <td>United-States</td>\n",
              "      <td>&lt;=50K</td>\n",
              "    </tr>\n",
              "    <tr>\n",
              "      <th>2</th>\n",
              "      <td>38</td>\n",
              "      <td>Private</td>\n",
              "      <td>215646</td>\n",
              "      <td>HS-grad</td>\n",
              "      <td>9</td>\n",
              "      <td>Divorced</td>\n",
              "      <td>Handlers-cleaners</td>\n",
              "      <td>Not-in-family</td>\n",
              "      <td>White</td>\n",
              "      <td>Male</td>\n",
              "      <td>0</td>\n",
              "      <td>0</td>\n",
              "      <td>40</td>\n",
              "      <td>United-States</td>\n",
              "      <td>&lt;=50K</td>\n",
              "    </tr>\n",
              "    <tr>\n",
              "      <th>3</th>\n",
              "      <td>53</td>\n",
              "      <td>Private</td>\n",
              "      <td>234721</td>\n",
              "      <td>11th</td>\n",
              "      <td>7</td>\n",
              "      <td>Married-civ-spouse</td>\n",
              "      <td>Handlers-cleaners</td>\n",
              "      <td>Husband</td>\n",
              "      <td>Black</td>\n",
              "      <td>Male</td>\n",
              "      <td>0</td>\n",
              "      <td>0</td>\n",
              "      <td>40</td>\n",
              "      <td>United-States</td>\n",
              "      <td>&lt;=50K</td>\n",
              "    </tr>\n",
              "    <tr>\n",
              "      <th>4</th>\n",
              "      <td>28</td>\n",
              "      <td>Private</td>\n",
              "      <td>338409</td>\n",
              "      <td>Bachelors</td>\n",
              "      <td>13</td>\n",
              "      <td>Married-civ-spouse</td>\n",
              "      <td>Prof-specialty</td>\n",
              "      <td>Wife</td>\n",
              "      <td>Black</td>\n",
              "      <td>Female</td>\n",
              "      <td>0</td>\n",
              "      <td>0</td>\n",
              "      <td>40</td>\n",
              "      <td>Cuba</td>\n",
              "      <td>&lt;=50K</td>\n",
              "    </tr>\n",
              "  </tbody>\n",
              "</table>\n",
              "</div>"
            ],
            "text/plain": [
              "   age          workclass  final-weight  ... hour-per-week  native-country  income\n",
              "0   39          State-gov         77516  ...            40   United-States   <=50K\n",
              "1   50   Self-emp-not-inc         83311  ...            13   United-States   <=50K\n",
              "2   38            Private        215646  ...            40   United-States   <=50K\n",
              "3   53            Private        234721  ...            40   United-States   <=50K\n",
              "4   28            Private        338409  ...            40            Cuba   <=50K\n",
              "\n",
              "[5 rows x 15 columns]"
            ]
          },
          "metadata": {
            "tags": []
          },
          "execution_count": 34
        }
      ]
    },
    {
      "cell_type": "code",
      "metadata": {
        "id": "GIRMMhLFF7Xq",
        "colab_type": "code",
        "outputId": "75b617a2-d0b0-440b-e267-bac63a30f7ee",
        "colab": {
          "base_uri": "https://localhost:8080/",
          "height": 34
        }
      },
      "source": [
        "base.income.unique()"
      ],
      "execution_count": 0,
      "outputs": [
        {
          "output_type": "execute_result",
          "data": {
            "text/plain": [
              "array([' <=50K', ' >50K'], dtype=object)"
            ]
          },
          "metadata": {
            "tags": []
          },
          "execution_count": 35
        }
      ]
    },
    {
      "cell_type": "code",
      "metadata": {
        "id": "6Y9u9BejGA8b",
        "colab_type": "code",
        "colab": {}
      },
      "source": [
        "def converte_classe(rotulo):\n",
        "    if rotulo == ' >50K':\n",
        "        return 1\n",
        "    else:\n",
        "     return 0"
      ],
      "execution_count": 0,
      "outputs": []
    },
    {
      "cell_type": "code",
      "metadata": {
        "id": "THAVA7OQGQAh",
        "colab_type": "code",
        "colab": {}
      },
      "source": [
        "base.income = base.income.apply(converte_classe)"
      ],
      "execution_count": 0,
      "outputs": []
    },
    {
      "cell_type": "code",
      "metadata": {
        "id": "3oKwAy1aGW8R",
        "colab_type": "code",
        "outputId": "795fba7e-b02f-4464-c3a4-cbf7cf0dafb8",
        "colab": {
          "base_uri": "https://localhost:8080/",
          "height": 1000
        }
      },
      "source": [
        "base.income"
      ],
      "execution_count": 0,
      "outputs": [
        {
          "output_type": "execute_result",
          "data": {
            "text/plain": [
              "0        0\n",
              "1        0\n",
              "2        0\n",
              "3        0\n",
              "4        0\n",
              "5        0\n",
              "6        0\n",
              "7        1\n",
              "8        1\n",
              "9        1\n",
              "10       1\n",
              "11       1\n",
              "12       0\n",
              "13       0\n",
              "14       1\n",
              "15       0\n",
              "16       0\n",
              "17       0\n",
              "18       0\n",
              "19       1\n",
              "20       1\n",
              "21       0\n",
              "22       0\n",
              "23       0\n",
              "24       0\n",
              "25       1\n",
              "26       0\n",
              "27       1\n",
              "28       0\n",
              "29       0\n",
              "        ..\n",
              "32531    0\n",
              "32532    1\n",
              "32533    1\n",
              "32534    0\n",
              "32535    0\n",
              "32536    1\n",
              "32537    0\n",
              "32538    1\n",
              "32539    1\n",
              "32540    0\n",
              "32541    0\n",
              "32542    0\n",
              "32543    0\n",
              "32544    0\n",
              "32545    1\n",
              "32546    0\n",
              "32547    0\n",
              "32548    0\n",
              "32549    0\n",
              "32550    0\n",
              "32551    0\n",
              "32552    0\n",
              "32553    0\n",
              "32554    1\n",
              "32555    0\n",
              "32556    0\n",
              "32557    1\n",
              "32558    0\n",
              "32559    0\n",
              "32560    1\n",
              "Name: income, Length: 32561, dtype: int64"
            ]
          },
          "metadata": {
            "tags": []
          },
          "execution_count": 38
        }
      ]
    },
    {
      "cell_type": "code",
      "metadata": {
        "id": "dK2UyhfpGZrp",
        "colab_type": "code",
        "colab": {}
      },
      "source": [
        "X = base.drop('income', axis=1)\n",
        "Y = base.income"
      ],
      "execution_count": 0,
      "outputs": []
    },
    {
      "cell_type": "code",
      "metadata": {
        "id": "aZaffsqyGklQ",
        "colab_type": "code",
        "colab": {}
      },
      "source": [
        "from sklearn.model_selection import train_test_split"
      ],
      "execution_count": 0,
      "outputs": []
    },
    {
      "cell_type": "code",
      "metadata": {
        "id": "Rq1Ee1PxGoTY",
        "colab_type": "code",
        "colab": {}
      },
      "source": [
        "X_treinamento, X_teste, Y_treinamento, Y_teste = train_test_split(X, Y, test_size=0.2)"
      ],
      "execution_count": 0,
      "outputs": []
    },
    {
      "cell_type": "code",
      "metadata": {
        "id": "TULlEf6_G743",
        "colab_type": "code",
        "colab": {}
      },
      "source": [
        "import tensorflow as tf"
      ],
      "execution_count": 0,
      "outputs": []
    },
    {
      "cell_type": "code",
      "metadata": {
        "id": "R8-untHxG-yv",
        "colab_type": "code",
        "outputId": "fec5f9e2-b7e1-483e-bc76-53100435946c",
        "colab": {
          "base_uri": "https://localhost:8080/",
          "height": 102
        }
      },
      "source": [
        "base.columns"
      ],
      "execution_count": 0,
      "outputs": [
        {
          "output_type": "execute_result",
          "data": {
            "text/plain": [
              "Index(['age', 'workclass', 'final-weight', 'education', 'education-num',\n",
              "       'marital-status', 'occupation', 'relationship', 'race', 'sex',\n",
              "       'capital-gain', 'capital-loos', 'hour-per-week', 'native-country',\n",
              "       'income'],\n",
              "      dtype='object')"
            ]
          },
          "metadata": {
            "tags": []
          },
          "execution_count": 43
        }
      ]
    },
    {
      "cell_type": "code",
      "metadata": {
        "id": "AkPvY5U4HFPP",
        "colab_type": "code",
        "colab": {}
      },
      "source": [
        "workclass = tf.feature_column.categorical_column_with_hash_bucket('workclass', hash_bucket_size=100 )\n",
        "education = tf.feature_column.categorical_column_with_hash_bucket('education', hash_bucket_size=100 )\n",
        "marital_status = tf.feature_column.categorical_column_with_hash_bucket('marital-status', hash_bucket_size=100 )\n",
        "occupation = tf.feature_column.categorical_column_with_hash_bucket('occupation', hash_bucket_size=100 )\n",
        "relationship = tf.feature_column.categorical_column_with_hash_bucket('relationship', hash_bucket_size=100 )\n",
        "race = tf.feature_column.categorical_column_with_hash_bucket('race', hash_bucket_size=100 )\n",
        "country = tf.feature_column.categorical_column_with_hash_bucket('native-country', hash_bucket_size=100 )"
      ],
      "execution_count": 0,
      "outputs": []
    },
    {
      "cell_type": "code",
      "metadata": {
        "id": "AkyPLCLHH2d8",
        "colab_type": "code",
        "colab": {}
      },
      "source": [
        "sex = tf.feature_column.categorical_column_with_vocabulary_list('sex',vocabulary_list=[' Male', ' Female'])"
      ],
      "execution_count": 0,
      "outputs": []
    },
    {
      "cell_type": "code",
      "metadata": {
        "id": "F-J5aYaMMw73",
        "colab_type": "code",
        "colab": {}
      },
      "source": [
        "def padroniza_age(idade):\n",
        "    return tf.divide(tf.subtract(tf.cast(idade, tf.float32), tf.constant(38.58)), tf.constant(13.64))\n",
        "\n",
        "def padroniza_finalW(weight):\n",
        "    return tf.divide(tf.subtract(tf.cast(weight, tf.float32), tf.constant(189778.36)), tf.constant(105549.997))\n",
        "\n",
        "def padroniza_education(edu):\n",
        "    return tf.divide(tf.subtract(tf.cast(edu, tf.float32), tf.constant(10.08)), tf.constant(2.57))\n",
        "\n",
        "def padroniza_capitalgain(cgn):\n",
        "    return tf.divide(tf.subtract(tf.cast(cgn, tf.float32), tf.constant(1077.64)), tf.constant(7385.29))\n",
        "\n",
        "def padroniza_capitalloos(cloos):\n",
        "    return tf.divide(tf.subtract(tf.cast(cloos, tf.float32), tf.constant(87.30)), tf.constant(402.96))\n",
        "\n",
        "def padroniza_hour(hora):\n",
        "    return tf.divide(tf.subtract(tf.cast(hora, tf.float32), tf.constant(40.43)), tf.constant(12.34))"
      ],
      "execution_count": 0,
      "outputs": []
    },
    {
      "cell_type": "code",
      "metadata": {
        "id": "nKlriqIuH4Ho",
        "colab_type": "code",
        "colab": {}
      },
      "source": [
        "age = tf.feature_column.numeric_column('age', normalizer_fn=padroniza_age)\n",
        "hour = tf.feature_column.numeric_column('hour-per-week', normalizer_fn=padroniza_hour)\n",
        "final_weight = tf.feature_column.numeric_column('final-weight', normalizer_fn=padroniza_finalW)\n",
        "education_num = tf.feature_column.numeric_column('education-num', normalizer_fn=padroniza_education)\n",
        "capital_gain = tf.feature_column.numeric_column('capital-gain', normalizer_fn=padroniza_capitalgain)\n",
        "capital_loos = tf.feature_column.numeric_column('capital-loos', normalizer_fn=padroniza_capitalloos)"
      ],
      "execution_count": 0,
      "outputs": []
    },
    {
      "cell_type": "code",
      "metadata": {
        "id": "Kgz_k0uFIzgC",
        "colab_type": "code",
        "colab": {}
      },
      "source": [
        "colunas = [age, workclass, final_weight, education, education_num,\n",
        "       marital_status, occupation, relationship, race, sex,\n",
        "       capital_gain, capital_loos, hour, country]"
      ],
      "execution_count": 0,
      "outputs": []
    },
    {
      "cell_type": "code",
      "metadata": {
        "id": "3yY4Ou-kJLNf",
        "colab_type": "code",
        "colab": {}
      },
      "source": [
        "funcao_treinamento = tf.estimator.inputs.pandas_input_fn(X_treinamento, Y_treinamento, 180, None, True)"
      ],
      "execution_count": 0,
      "outputs": []
    },
    {
      "cell_type": "code",
      "metadata": {
        "id": "94b1KZf2JZb2",
        "colab_type": "code",
        "outputId": "19f82520-0905-4245-f1b2-3fbc4916ffea",
        "colab": {
          "base_uri": "https://localhost:8080/",
          "height": 34
        }
      },
      "source": [
        "classificador = tf.estimator.DNNClassifier([8, 8, 8], colunas)"
      ],
      "execution_count": 0,
      "outputs": [
        {
          "output_type": "stream",
          "text": [
            "W0831 19:41:58.585247 140124169480064 estimator.py:1811] Using temporary folder as model directory: /tmp/tmpfnm1nlbl\n"
          ],
          "name": "stderr"
        }
      ]
    },
    {
      "cell_type": "code",
      "metadata": {
        "id": "vxHMD3HhKRpJ",
        "colab_type": "code",
        "colab": {}
      },
      "source": [
        "embedded_wc = tf.feature_column.embedding_column(workclass,len(base.workclass.unique()))\n",
        "embedded_edu = tf.feature_column.embedding_column(education,len(base.education.unique()))\n",
        "embedded_mtl = tf.feature_column.embedding_column(marital_status,len(base['marital-status'].unique()))\n",
        "embedded_occp = tf.feature_column.embedding_column(occupation,len(base.occupation.unique()))\n",
        "embedded_rltsp = tf.feature_column.embedding_column(relationship,len(base.relationship.unique()))\n",
        "embedded_race = tf.feature_column.embedding_column(race,len(base.race.unique()))\n",
        "embedded_sex = tf.feature_column.embedding_column(sex,len(base.sex.unique()))\n",
        "embedded_cnt = tf.feature_column.embedding_column(country,len(base['native-country'].unique()))"
      ],
      "execution_count": 0,
      "outputs": []
    },
    {
      "cell_type": "code",
      "metadata": {
        "id": "rUbfQ7oJLXcf",
        "colab_type": "code",
        "colab": {}
      },
      "source": [
        "coluna_embedded = [age, embedded_wc, final_weight, embedded_edu, education_num,\n",
        "       embedded_mtl, embedded_occp, embedded_rltsp, embedded_race, embedded_sex,\n",
        "       capital_gain, capital_loos, hour, embedded_cnt]"
      ],
      "execution_count": 0,
      "outputs": []
    },
    {
      "cell_type": "code",
      "metadata": {
        "id": "errr5GzgLZqq",
        "colab_type": "code",
        "outputId": "9ee328a9-9f38-4692-e0d1-71b63c0a58eb",
        "colab": {
          "base_uri": "https://localhost:8080/",
          "height": 34
        }
      },
      "source": [
        "classificador = tf.estimator.DNNClassifier([8, 8, 8], coluna_embedded)"
      ],
      "execution_count": 0,
      "outputs": [
        {
          "output_type": "stream",
          "text": [
            "W0831 19:41:58.652577 140124169480064 estimator.py:1811] Using temporary folder as model directory: /tmp/tmpiy6vkah6\n"
          ],
          "name": "stderr"
        }
      ]
    },
    {
      "cell_type": "code",
      "metadata": {
        "id": "OCjUH8LpJkwW",
        "colab_type": "code",
        "outputId": "842c6345-a145-4183-fcfa-56a6aec56f6c",
        "colab": {
          "base_uri": "https://localhost:8080/",
          "height": 139
        }
      },
      "source": [
        "classificador.train(funcao_treinamento, steps=10000)"
      ],
      "execution_count": 0,
      "outputs": [
        {
          "output_type": "stream",
          "text": [
            "W0831 19:42:03.346221 140124169480064 basic_session_run_hooks.py:724] It seems that global step (tf.train.get_global_step) has not been increased. Current value (could be stable): 39 vs previous value: 39. You could increase the global step by passing tf.train.get_global_step() to Optimizer.apply_gradients or Optimizer.minimize.\n",
            "W0831 19:42:03.865481 140124169480064 basic_session_run_hooks.py:724] It seems that global step (tf.train.get_global_step) has not been increased. Current value (could be stable): 101 vs previous value: 101. You could increase the global step by passing tf.train.get_global_step() to Optimizer.apply_gradients or Optimizer.minimize.\n",
            "W0831 19:42:04.683331 140124169480064 basic_session_run_hooks.py:724] It seems that global step (tf.train.get_global_step) has not been increased. Current value (could be stable): 201 vs previous value: 201. You could increase the global step by passing tf.train.get_global_step() to Optimizer.apply_gradients or Optimizer.minimize.\n",
            "W0831 19:42:05.496023 140124169480064 basic_session_run_hooks.py:724] It seems that global step (tf.train.get_global_step) has not been increased. Current value (could be stable): 301 vs previous value: 301. You could increase the global step by passing tf.train.get_global_step() to Optimizer.apply_gradients or Optimizer.minimize.\n",
            "W0831 19:42:06.293220 140124169480064 basic_session_run_hooks.py:724] It seems that global step (tf.train.get_global_step) has not been increased. Current value (could be stable): 401 vs previous value: 401. You could increase the global step by passing tf.train.get_global_step() to Optimizer.apply_gradients or Optimizer.minimize.\n"
          ],
          "name": "stderr"
        },
        {
          "output_type": "execute_result",
          "data": {
            "text/plain": [
              "<tensorflow_estimator.python.estimator.canned.dnn.DNNClassifier at 0x7f70e7478a58>"
            ]
          },
          "metadata": {
            "tags": []
          },
          "execution_count": 53
        }
      ]
    },
    {
      "cell_type": "code",
      "metadata": {
        "id": "xYnJYIVFJ13M",
        "colab_type": "code",
        "colab": {}
      },
      "source": [
        "funcao_teste = tf.estimator.inputs.pandas_input_fn(X_teste, Y_teste, 180, shuffle=False)"
      ],
      "execution_count": 0,
      "outputs": []
    },
    {
      "cell_type": "code",
      "metadata": {
        "id": "kC8TWrr1ML7Q",
        "colab_type": "code",
        "outputId": "24f6227a-501f-4be6-bfd3-2f9d24801ecc",
        "colab": {
          "base_uri": "https://localhost:8080/",
          "height": 258
        }
      },
      "source": [
        "classificador.evaluate(funcao_teste)"
      ],
      "execution_count": 0,
      "outputs": [
        {
          "output_type": "stream",
          "text": [
            "W0831 19:43:23.850471 140124169480064 metrics_impl.py:804] Trapezoidal rule is known to produce incorrect PR-AUCs; please switch to \"careful_interpolation\" instead.\n",
            "W0831 19:43:23.879134 140124169480064 metrics_impl.py:804] Trapezoidal rule is known to produce incorrect PR-AUCs; please switch to \"careful_interpolation\" instead.\n"
          ],
          "name": "stderr"
        },
        {
          "output_type": "execute_result",
          "data": {
            "text/plain": [
              "{'accuracy': 0.852756,\n",
              " 'accuracy_baseline': 0.7649317,\n",
              " 'auc': 0.9068259,\n",
              " 'auc_precision_recall': 0.7649845,\n",
              " 'average_loss': 0.31632027,\n",
              " 'global_step': 10000,\n",
              " 'label/mean': 0.23506832,\n",
              " 'loss': 55.680916,\n",
              " 'precision': 0.7259084,\n",
              " 'prediction/mean': 0.23318638,\n",
              " 'recall': 0.6002613}"
            ]
          },
          "metadata": {
            "tags": []
          },
          "execution_count": 55
        }
      ]
    },
    {
      "cell_type": "code",
      "metadata": {
        "id": "64XLq1kjMOyc",
        "colab_type": "code",
        "colab": {}
      },
      "source": [
        "def padroniza_age(idade):\n",
        "    return tf.divide(tf.subtract(tf.cast(idade, tf.float32), tf.constant(38.58)), tf.constant(13.64))\n",
        "\n",
        "def padroniza_finalW(weight):\n",
        "    return tf.divide(tf.subtract(tf.cast(weight, tf.float32), tf.constant(189778.36)), tf.constant(105549.997))\n",
        "\n",
        "def padroniza_education(edu):\n",
        "    return tf.divide(tf.subtract(tf.cast(edu, tf.float32), tf.constant(10.08)), tf.constant(2.57))\n",
        "\n",
        "def padroniza_capitalgain(cgn):\n",
        "    return tf.divide(tf.subtract(tf.cast(cgn, tf.float32), tf.constant(1077.64)), tf.constant(7385.29))\n",
        "\n",
        "def padroniza_capitalloos(cloos):\n",
        "    return tf.divide(tf.subtract(tf.cast(cloos, tf.float32), tf.constant(87.30)), tf.constant(402.96))\n",
        "\n",
        "def padroniza_hour(hora):\n",
        "    return tf.divide(tf.subtract(tf.cast(hora, tf.float32), tf.constant(40.43)), tf.constant(12.34))"
      ],
      "execution_count": 0,
      "outputs": []
    },
    {
      "cell_type": "code",
      "metadata": {
        "id": "036Ax9g5LN19",
        "colab_type": "code",
        "colab": {}
      },
      "source": [
        ""
      ],
      "execution_count": 0,
      "outputs": []
    }
  ]
}