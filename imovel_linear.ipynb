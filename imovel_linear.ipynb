{
  "nbformat": 4,
  "nbformat_minor": 0,
  "metadata": {
    "colab": {
      "name": "Untitled",
      "provenance": [],
      "authorship_tag": "ABX9TyOitX7Z/YZBn0Rabne7fEHx",
      "include_colab_link": true
    },
    "kernelspec": {
      "name": "python3",
      "display_name": "Python 3"
    }
  },
  "cells": [
    {
      "cell_type": "markdown",
      "metadata": {
        "id": "view-in-github",
        "colab_type": "text"
      },
      "source": [
        "<a href=\"https://colab.research.google.com/github/C4st3ll4n/google_colab/blob/master/imovel_linear.ipynb\" target=\"_parent\"><img src=\"https://colab.research.google.com/assets/colab-badge.svg\" alt=\"Open In Colab\"/></a>"
      ]
    },
    {
      "cell_type": "code",
      "metadata": {
        "id": "qUPjh6We8dFd",
        "colab_type": "code",
        "colab": {}
      },
      "source": [
        "#Impportações das libs necessárias\n",
        "import matplotlib.pyplot as plt\n",
        "import numpy as np\n",
        "from sklearn import datasets, linear_model\n",
        "from sklearn.metrics import mean_squared_error, r2_score"
      ],
      "execution_count": null,
      "outputs": []
    },
    {
      "cell_type": "code",
      "metadata": {
        "id": "GiJXsxWK82ol",
        "colab_type": "code",
        "colab": {}
      },
      "source": [
        "#Carregando o dataset               \n",
        "X, y = datasets.load_boston(return_X_y=True)"
      ],
      "execution_count": null,
      "outputs": []
    },
    {
      "cell_type": "code",
      "metadata": {
        "id": "W2I4hJvz9ATi",
        "colab_type": "code",
        "colab": {}
      },
      "source": [
        "#Reduzindo a dimensionalidade\n",
        "X = X[:, np.newaxis, 5]"
      ],
      "execution_count": null,
      "outputs": []
    },
    {
      "cell_type": "code",
      "metadata": {
        "id": "F1J6KE3A9BGr",
        "colab_type": "code",
        "colab": {}
      },
      "source": [
        "#Separar em treino e test\n",
        "X_train = X[:-20]\n",
        "X_test = X[-20:]\n",
        "\n",
        "y_train = y[:-20]\n",
        "y_test = y[-20:]"
      ],
      "execution_count": null,
      "outputs": []
    },
    {
      "cell_type": "code",
      "metadata": {
        "id": "Y0mIcxlb9eDo",
        "colab_type": "code",
        "colab": {}
      },
      "source": [
        "#Criação do modelo\n",
        "regressor = linear_model.SGDRegressor(eta0=0.02)"
      ],
      "execution_count": null,
      "outputs": []
    },
    {
      "cell_type": "code",
      "metadata": {
        "id": "QfaWIlkL9o-y",
        "colab_type": "code",
        "colab": {
          "base_uri": "https://localhost:8080/",
          "height": 119
        },
        "outputId": "3c08ace7-60c1-4f9c-b72c-5c0969a8f840"
      },
      "source": [
        "#Treino do modelo\n",
        "regressor.fit(X_train, y_train)"
      ],
      "execution_count": null,
      "outputs": [
        {
          "output_type": "execute_result",
          "data": {
            "text/plain": [
              "SGDRegressor(alpha=0.0001, average=False, early_stopping=False, epsilon=0.1,\n",
              "             eta0=0.02, fit_intercept=True, l1_ratio=0.15,\n",
              "             learning_rate='invscaling', loss='squared_loss', max_iter=1000,\n",
              "             n_iter_no_change=5, penalty='l2', power_t=0.25, random_state=None,\n",
              "             shuffle=True, tol=0.001, validation_fraction=0.1, verbose=0,\n",
              "             warm_start=False)"
            ]
          },
          "metadata": {
            "tags": []
          },
          "execution_count": 12
        }
      ]
    },
    {
      "cell_type": "code",
      "metadata": {
        "id": "v14TML9T9r7i",
        "colab_type": "code",
        "colab": {}
      },
      "source": [
        "# Inferencia\n",
        "y_pred = regressor.predict(X_test)"
      ],
      "execution_count": null,
      "outputs": []
    },
    {
      "cell_type": "code",
      "metadata": {
        "id": "aHQW1yKU9uyx",
        "colab_type": "code",
        "colab": {}
      },
      "source": [
        "info = {\"Coeficientes\":regressor.coef_, \"MSE\":mean_squared_error(y_test, y_pred)}"
      ],
      "execution_count": null,
      "outputs": []
    },
    {
      "cell_type": "code",
      "metadata": {
        "id": "F0dSR3KI96vZ",
        "colab_type": "code",
        "colab": {
          "base_uri": "https://localhost:8080/",
          "height": 34
        },
        "outputId": "07f1f1ac-c575-4038-dc55-2885abb6fa3d"
      },
      "source": [
        "print(info)"
      ],
      "execution_count": null,
      "outputs": [
        {
          "output_type": "stream",
          "text": [
            "{'Coeficientes': array([6.40673794]), 'MSE': 18.722941212065678}\n"
          ],
          "name": "stdout"
        }
      ]
    },
    {
      "cell_type": "code",
      "metadata": {
        "id": "BisSPV759725",
        "colab_type": "code",
        "colab": {
          "base_uri": "https://localhost:8080/",
          "height": 302
        },
        "outputId": "0bcadcde-aed7-4f21-fef1-dc0990e19824"
      },
      "source": [
        "#Plotar resultados\n",
        "plt.scatter(X_test, y_test, color='black', label='y')\n",
        "plt.plot(X_test, y_pred, color='blue', linewidth=3, label='$\\hat{y}$')\n",
        "plt.xlabel('Features $X_5$')\n",
        "plt.ylabel('y (Target)')\n",
        "plt.legend()\n",
        "plt.show"
      ],
      "execution_count": null,
      "outputs": [
        {
          "output_type": "execute_result",
          "data": {
            "text/plain": [
              "<function matplotlib.pyplot.show>"
            ]
          },
          "metadata": {
            "tags": []
          },
          "execution_count": 16
        },
        {
          "output_type": "display_data",
          "data": {
            "image/png": "[encoded data removed]",
            "text/plain": [
              "<Figure size 432x288 with 1 Axes>"
            ]
          },
          "metadata": {
            "tags": [],
            "needs_background": "light"
          }
        }
      ]
    },
    {
      "cell_type": "code",
      "metadata": {
        "id": "ZHMVYuay-4yl",
        "colab_type": "code",
        "colab": {}
      },
      "source": [
        ""
      ],
      "execution_count": null,
      "outputs": []
    }
  ]
}