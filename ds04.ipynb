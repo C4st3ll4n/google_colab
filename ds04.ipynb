{
  "nbformat": 4,
  "nbformat_minor": 0,
  "metadata": {
    "colab": {
      "name": "ds04.ipynb",
      "version": "0.3.2",
      "provenance": [],
      "include_colab_link": true
    },
    "kernelspec": {
      "name": "python3",
      "display_name": "Python 3"
    }
  },
  "cells": [
    {
      "cell_type": "markdown",
      "metadata": {
        "id": "view-in-github",
        "colab_type": "text"
      },
      "source": [
        "<a href=\"https://colab.research.google.com/github/C4st3ll4n/google_colab/blob/master/ds04.ipynb\" target=\"_parent\"><img src=\"https://colab.research.google.com/assets/colab-badge.svg\" alt=\"Open In Colab\"/></a>"
      ]
    },
    {
      "cell_type": "code",
      "metadata": {
        "id": "FK6vITPHyhYW",
        "colab_type": "code",
        "colab": {}
      },
      "source": [
        "interese = [\n",
        "            (0, \"Hadoop\"), (0, \"Big Data\"), (0, \"HBase\"), (0, \"Java\"),\n",
        "            (0, \"Spark\"), (0, \"Storm\"), (0, \"Casandra\"),\n",
        "            (1, \"NoSQL\"), (1, \"MongoDB\"), (1, \"Casandra\"), (1, \"HBase\"),\n",
        "            (1, \"Postgres\"),\n",
        "            (2, \"Python\"), (2, \"scikit-learn\"), (2, \"scipy\"), (2, \"numpy\"),\n",
        "            (2, \"statsmodels\"), (2, \"pandas\"),\n",
        "            (3, \"R\"), (3, \"Python\"), (3, \"statistics\"), (3, \"regression\"),\n",
        "            (3, \"probality\"),\n",
        "            (4, \"machine learning\"), (4, \"regression\"), (4, \"decision trees\"),\n",
        "            (4, \"libsvm\"),\n",
        "            (5, \"Python\"), (5, \"R\"), (5, \"Java\"), (5, \"C++\"), (5, \"Haskell\"),\n",
        "            (5, \"programming languages\"),\n",
        "            (6, \"statistics\"), (6, \"probality\"), (6, \"mathematics\"),\n",
        "            (6, \"theory\"),\n",
        "            (7, \"machine learning\"), (7, \"scikit-learn\"), (7, \"Mahout\"),\n",
        "            (7, \"neural networks\"),\n",
        "            (8, \"neural networks\"), (8, \"deep learning\"), (8, \"Big Data\"),\n",
        "            (8, \"artificial intelligence\"),\n",
        "            (9, \"Hadoop\"), (9, \"Java\"), (9, \"MapReduce\"), (9, \"Big Data\"),\n",
        "]"
      ],
      "execution_count": 0,
      "outputs": []
    },
    {
      "cell_type": "code",
      "metadata": {
        "id": "uQ0Vd8ggyie3",
        "colab_type": "code",
        "colab": {}
      },
      "source": [
        "from collections import Counter\n",
        "count_words = Counter(word\n",
        "                      for user, interest in interese\n",
        "                      for word in interest.lower().split())"
      ],
      "execution_count": 0,
      "outputs": []
    },
    {
      "cell_type": "code",
      "metadata": {
        "id": "-4Rhx9qw1n2k",
        "colab_type": "code",
        "colab": {
          "base_uri": "https://localhost:8080/",
          "height": 289
        },
        "outputId": "588ff5d9-4f96-4477-b58a-8957a7d7f388"
      },
      "source": [
        "for word, count in count_words.most_common():\n",
        "    if count > 1:\n",
        "        print(\"{} *** {} vezes\".format(word, count))"
      ],
      "execution_count": 6,
      "outputs": [
        {
          "output_type": "stream",
          "text": [
            "big *** 3 vezes\n",
            "data *** 3 vezes\n",
            "java *** 3 vezes\n",
            "python *** 3 vezes\n",
            "learning *** 3 vezes\n",
            "hadoop *** 2 vezes\n",
            "hbase *** 2 vezes\n",
            "casandra *** 2 vezes\n",
            "scikit-learn *** 2 vezes\n",
            "r *** 2 vezes\n",
            "statistics *** 2 vezes\n",
            "regression *** 2 vezes\n",
            "probality *** 2 vezes\n",
            "machine *** 2 vezes\n",
            "neural *** 2 vezes\n",
            "networks *** 2 vezes\n"
          ],
          "name": "stdout"
        }
      ]
    },
    {
      "cell_type": "code",
      "metadata": {
        "id": "0PwuVtrv3DEW",
        "colab_type": "code",
        "colab": {}
      },
      "source": [
        ""
      ],
      "execution_count": 0,
      "outputs": []
    }
  ]
}